{
  "nbformat": 4,
  "nbformat_minor": 0,
  "metadata": {
    "colab": {
      "name": "TL_CNN_allfreeze",
      "provenance": [],
      "collapsed_sections": [],
      "machine_shape": "hm",
      "mount_file_id": "1y0ckEAht6S1TnohubRtrzSG9PAoKj-Py",
      "authorship_tag": "ABX9TyMwKwYBztbwD1kvuoEAW93k"
    },
    "kernelspec": {
      "name": "python3",
      "display_name": "Python 3"
    },
    "language_info": {
      "name": "python"
    },
    "accelerator": "GPU"
  },
  "cells": [
    {
      "cell_type": "markdown",
      "source": [
        "**Pre-processing done**"
      ],
      "metadata": {
        "id": "10eqq9VIF0OL"
      }
    },
    {
      "cell_type": "markdown",
      "source": [
        "**Transfer learning begin:**"
      ],
      "metadata": {
        "id": "vvfaPVheF5Ho"
      }
    },
    {
      "cell_type": "code",
      "source": [
        "import os\n",
        "\n",
        "# third-party library\n",
        "import torch\n",
        "import torch.nn as nn\n",
        "import torch.utils.data as Data\n",
        "import torchvision\n",
        "import matplotlib.pyplot as plt\n",
        "\n",
        "# torch.manual_seed(1)    # reproducible\n",
        "\n",
        "# Hyper Parameters\n",
        "EPOCH = 2             # train the training data n times, to save time, we just train 1 epoch\n",
        "BATCH_SIZE = 50\n",
        "LR = 0.001              # learning rate\n",
        "DOWNLOAD_MNIST = False"
      ],
      "metadata": {
        "id": "3T5xdV-5V7O5"
      },
      "execution_count": 37,
      "outputs": []
    },
    {
      "cell_type": "code",
      "source": [
        "from collections import Counter\n",
        "import numpy as np\n",
        "\n",
        "\n",
        "# actual accuracy\n",
        "def get_accuracy(p_data, t_data, extra_data):\n",
        "    sc = 0\n",
        "    if extra_data is None:\n",
        "        for i in range(len(p_data)):\n",
        "            if p_data[i] == t_data[i]:\n",
        "                sc += 1\n",
        "\n",
        "        return sc / len(p_data)\n",
        "    else:\n",
        "        counter = -1\n",
        "        for i in range(len(extra_data)):\n",
        "            is_good = True\n",
        "            for j in range(extra_data[i]):\n",
        "                counter += 1\n",
        "                is_good &= p_data[counter] == t_data[counter]\n",
        "            if is_good:\n",
        "                sc += 1\n",
        "        return sc / len(extra_data)"
      ],
      "metadata": {
        "id": "0TOKZvX43iYg"
      },
      "execution_count": 38,
      "outputs": []
    },
    {
      "cell_type": "markdown",
      "source": [
        "CNN\n",
        "\n"
      ],
      "metadata": {
        "id": "JB027YCPw_mH"
      }
    },
    {
      "cell_type": "code",
      "source": [
        "# Mnist digits dataset\n",
        "if not(os.path.exists('./mnist/')) or not os.listdir('./mnist/'):\n",
        "    # not mnist dir or mnist is empyt dir\n",
        "    DOWNLOAD_MNIST = True\n",
        "\n",
        "train_data = torchvision.datasets.MNIST(\n",
        "    root='./mnist/',\n",
        "    train=True,                                     # this is training data\n",
        "    transform=torchvision.transforms.ToTensor(),    # Converts a PIL.Image or numpy.ndarray to\n",
        "                                                    # torch.FloatTensor of shape (C x H x W) and normalize in the range [0.0, 1.0]\n",
        "    download=DOWNLOAD_MNIST,\n",
        ")\n",
        "\n",
        "# plot one example\n",
        "# print(train_data.train_data.size())                 # (60000, 28, 28)\n",
        "# print(train_data.train_labels.size())               # (60000)\n",
        "#for i in range(5):\n",
        "    #plt.imshow(train_data.train_data[i].numpy(), cmap='gray')\n",
        "    #plt.title('%i' % train_data.train_labels[i])\n",
        "    #plt.show()\n",
        "\n",
        "# Data Loader for easy mini-batch return in training, the image batch shape will be (50, 1, 28, 28)\n",
        "train_loader = Data.DataLoader(dataset=train_data, batch_size=BATCH_SIZE, shuffle=True)\n",
        "\n",
        "# pick 2000 samples to speed up testing\n",
        "test_data = torchvision.datasets.MNIST(root='./mnist/', train=False)\n",
        "test_x = torch.unsqueeze(test_data.test_data, dim=1).type(torch.FloatTensor)[:2000]/255.   # shape from (2000, 28, 28) to (2000, 1, 28, 28), value in range(0,1)\n",
        "test_y = test_data.test_labels[:2000]"
      ],
      "metadata": {
        "colab": {
          "base_uri": "https://localhost:8080/"
        },
        "id": "j3Rss5HhpzUX",
        "outputId": "7357e7e0-b70a-41a3-9844-135db36133bf"
      },
      "execution_count": 39,
      "outputs": [
        {
          "output_type": "stream",
          "name": "stderr",
          "text": [
            "/usr/local/lib/python3.7/dist-packages/torchvision/datasets/mnist.py:80: UserWarning: test_data has been renamed data\n",
            "  warnings.warn(\"test_data has been renamed data\")\n",
            "/usr/local/lib/python3.7/dist-packages/torchvision/datasets/mnist.py:70: UserWarning: test_labels has been renamed targets\n",
            "  warnings.warn(\"test_labels has been renamed targets\")\n"
          ]
        }
      ]
    },
    {
      "cell_type": "code",
      "source": [
        "class CNN(nn.Module):\n",
        "    def __init__(self):\n",
        "        super(CNN, self).__init__()\n",
        "        self.conv1 = nn.Sequential(         # input shape (1, 28, 28)\n",
        "            nn.Conv2d(\n",
        "                in_channels=1,              # input height\n",
        "                out_channels=16,            # n_filters\n",
        "                kernel_size=5,              # filter size\n",
        "                stride=1,                   # filter movement/step\n",
        "                padding=2,                  # if want same width and length of this image after con2d, padding=(kernel_size-1)/2 if stride=1\n",
        "            ),                              # output shape (16, 28, 28)\n",
        "            nn.ReLU(),                      # activation\n",
        "            nn.MaxPool2d(kernel_size=2),    # choose max value in 2x2 area, output shape (16, 14, 14)\n",
        "        )\n",
        "        self.conv2 = nn.Sequential(         # input shape (16, 14, 14)\n",
        "            nn.Conv2d(16, 32, 5, 1, 2),     # output shape (32, 14, 14)\n",
        "            nn.ReLU(),                      # activation\n",
        "            nn.MaxPool2d(2),                # output shape (32, 7, 7)\n",
        "        )\n",
        "        self.out = nn.Linear(32 * 7 * 7, 10)   # fully connected layer, output 10 classes\n",
        "\n",
        "    def forward(self, x):\n",
        "        x = self.conv1(x)\n",
        "        x = self.conv2(x)\n",
        "        x = x.view(x.size(0), -1)           # flatten the output of conv2 to (batch_size, 32 * 7 * 7)\n",
        "        output = self.out(x)\n",
        "        return output, x    # return x for visualization"
      ],
      "metadata": {
        "id": "GkBmVn-6ZbEl"
      },
      "execution_count": 40,
      "outputs": []
    },
    {
      "cell_type": "code",
      "source": [
        "cnn = CNN()\n",
        "print(cnn)  # net architecture\n",
        "\n",
        "optimizer = torch.optim.Adam(cnn.parameters(), lr=LR)   # optimize all cnn parameters\n",
        "loss_func = nn.CrossEntropyLoss()                       # the target label is not one-hotted\n",
        "\n",
        "\n",
        "for epoch in range(2):\n",
        "    for step, (b_x, b_y) in enumerate(train_loader):   # gives batch data, normalize x when iterate train_loader\n",
        "\n",
        "        output = cnn(b_x)[0]               # cnn output\n",
        "        loss = loss_func(output, b_y)   # cross entropy loss\n",
        "        optimizer.zero_grad()           # clear gradients for this training step\n",
        "        loss.backward()                 # backpropagation, compute gradients\n",
        "        optimizer.step()                # apply gradients\n",
        "\n",
        "        if step % 50 == 0:\n",
        "            test_output, last_layer = cnn(test_x)\n",
        "            pred_y = torch.max(test_output, 1)[1].data.squeeze().numpy()\n",
        "            accuracy = float((pred_y == test_y.data.numpy()).astype(int).sum()) / float(test_y.size(0))\n",
        "            print('Epoch: ', epoch, '| train loss: %.4f' % loss.data.numpy(), '| test accuracy: %.4f' % accuracy)\n",
        "#             if HAS_SK:\n",
        "#                 # Visualization of trained flatten layer (T-SNE)\n",
        "#                 tsne = TSNE(perplexity=30, n_components=2, init='pca', n_iter=5000)\n",
        "#                 plot_only = 500\n",
        "#                 low_dim_embs = tsne.fit_transform(last_layer.data.numpy()[:plot_only, :])\n",
        "#                 labels = test_y.numpy()[:plot_only]\n",
        "#                 plot_with_labels(low_dim_embs, labels)\n",
        "# plt.ioff()"
      ],
      "metadata": {
        "colab": {
          "base_uri": "https://localhost:8080/"
        },
        "id": "21xWYyjLZbG7",
        "outputId": "2e9b8b55-bd44-4368-ed48-953d1a0792d8"
      },
      "execution_count": 41,
      "outputs": [
        {
          "output_type": "stream",
          "name": "stdout",
          "text": [
            "CNN(\n",
            "  (conv1): Sequential(\n",
            "    (0): Conv2d(1, 16, kernel_size=(5, 5), stride=(1, 1), padding=(2, 2))\n",
            "    (1): ReLU()\n",
            "    (2): MaxPool2d(kernel_size=2, stride=2, padding=0, dilation=1, ceil_mode=False)\n",
            "  )\n",
            "  (conv2): Sequential(\n",
            "    (0): Conv2d(16, 32, kernel_size=(5, 5), stride=(1, 1), padding=(2, 2))\n",
            "    (1): ReLU()\n",
            "    (2): MaxPool2d(kernel_size=2, stride=2, padding=0, dilation=1, ceil_mode=False)\n",
            "  )\n",
            "  (out): Linear(in_features=1568, out_features=10, bias=True)\n",
            ")\n",
            "Epoch:  0 | train loss: 2.3062 | test accuracy: 0.1720\n",
            "Epoch:  0 | train loss: 0.4690 | test accuracy: 0.8295\n",
            "Epoch:  0 | train loss: 0.1470 | test accuracy: 0.8895\n",
            "Epoch:  0 | train loss: 0.1591 | test accuracy: 0.9145\n",
            "Epoch:  0 | train loss: 0.1585 | test accuracy: 0.9335\n",
            "Epoch:  0 | train loss: 0.1180 | test accuracy: 0.9445\n",
            "Epoch:  0 | train loss: 0.0817 | test accuracy: 0.9455\n",
            "Epoch:  0 | train loss: 0.0575 | test accuracy: 0.9515\n",
            "Epoch:  0 | train loss: 0.1213 | test accuracy: 0.9595\n",
            "Epoch:  0 | train loss: 0.0461 | test accuracy: 0.9635\n",
            "Epoch:  0 | train loss: 0.0773 | test accuracy: 0.9565\n",
            "Epoch:  0 | train loss: 0.1036 | test accuracy: 0.9680\n",
            "Epoch:  0 | train loss: 0.0450 | test accuracy: 0.9690\n",
            "Epoch:  0 | train loss: 0.2756 | test accuracy: 0.9635\n",
            "Epoch:  0 | train loss: 0.0837 | test accuracy: 0.9730\n",
            "Epoch:  0 | train loss: 0.0828 | test accuracy: 0.9705\n",
            "Epoch:  0 | train loss: 0.0615 | test accuracy: 0.9680\n",
            "Epoch:  0 | train loss: 0.0471 | test accuracy: 0.9715\n",
            "Epoch:  0 | train loss: 0.1087 | test accuracy: 0.9720\n",
            "Epoch:  0 | train loss: 0.0578 | test accuracy: 0.9755\n",
            "Epoch:  0 | train loss: 0.1239 | test accuracy: 0.9715\n",
            "Epoch:  0 | train loss: 0.0510 | test accuracy: 0.9750\n",
            "Epoch:  0 | train loss: 0.0160 | test accuracy: 0.9770\n",
            "Epoch:  0 | train loss: 0.0110 | test accuracy: 0.9755\n",
            "Epoch:  1 | train loss: 0.0630 | test accuracy: 0.9730\n",
            "Epoch:  1 | train loss: 0.0380 | test accuracy: 0.9760\n",
            "Epoch:  1 | train loss: 0.0312 | test accuracy: 0.9775\n",
            "Epoch:  1 | train loss: 0.1081 | test accuracy: 0.9790\n",
            "Epoch:  1 | train loss: 0.0665 | test accuracy: 0.9760\n",
            "Epoch:  1 | train loss: 0.1022 | test accuracy: 0.9770\n",
            "Epoch:  1 | train loss: 0.0353 | test accuracy: 0.9755\n",
            "Epoch:  1 | train loss: 0.0717 | test accuracy: 0.9780\n",
            "Epoch:  1 | train loss: 0.0490 | test accuracy: 0.9815\n",
            "Epoch:  1 | train loss: 0.0367 | test accuracy: 0.9775\n",
            "Epoch:  1 | train loss: 0.0130 | test accuracy: 0.9810\n",
            "Epoch:  1 | train loss: 0.0107 | test accuracy: 0.9795\n",
            "Epoch:  1 | train loss: 0.0469 | test accuracy: 0.9795\n",
            "Epoch:  1 | train loss: 0.0370 | test accuracy: 0.9815\n",
            "Epoch:  1 | train loss: 0.0171 | test accuracy: 0.9800\n",
            "Epoch:  1 | train loss: 0.0039 | test accuracy: 0.9840\n",
            "Epoch:  1 | train loss: 0.0631 | test accuracy: 0.9775\n",
            "Epoch:  1 | train loss: 0.0412 | test accuracy: 0.9845\n",
            "Epoch:  1 | train loss: 0.0123 | test accuracy: 0.9785\n",
            "Epoch:  1 | train loss: 0.0345 | test accuracy: 0.9795\n",
            "Epoch:  1 | train loss: 0.0467 | test accuracy: 0.9745\n",
            "Epoch:  1 | train loss: 0.0370 | test accuracy: 0.9830\n",
            "Epoch:  1 | train loss: 0.0054 | test accuracy: 0.9830\n",
            "Epoch:  1 | train loss: 0.1150 | test accuracy: 0.9810\n"
          ]
        }
      ]
    },
    {
      "cell_type": "code",
      "source": [
        "# print 10 predictions from test data\n",
        "#test_output, _ = cnn(test_x[:30])\n",
        "#pred_y = torch.max(test_output, 1)[1].data.numpy().squeeze()\n",
        "#print(pred_y, 'prediction number')\n",
        "#print(test_y[:30].numpy(), 'real number')"
      ],
      "metadata": {
        "id": "gcqs_c7AZbJS"
      },
      "execution_count": 42,
      "outputs": []
    },
    {
      "cell_type": "code",
      "source": [
        "torch.save(cnn, \"mnist_model.pth\")"
      ],
      "metadata": {
        "id": "Z66KVQD_ZbLk"
      },
      "execution_count": 43,
      "outputs": []
    },
    {
      "cell_type": "code",
      "source": [
        "del cnn"
      ],
      "metadata": {
        "id": "SNH-GEPBZbOI"
      },
      "execution_count": 44,
      "outputs": []
    },
    {
      "cell_type": "code",
      "source": [
        "import os\n",
        "\n",
        "# third-party library\n",
        "import torch\n",
        "import torch.nn as nn\n",
        "import torch.utils.data as Data\n",
        "import torchvision\n",
        "import matplotlib.pyplot as plt\n",
        "\n",
        "# torch.manual_seed(1)    # reproducible\n",
        "\n",
        "# Hyper Parameters\n",
        "EPOCH = 10             # train the training data n times, to save time, we just train 1 epoch\n",
        "BATCH_SIZE = 64\n",
        "LR = 0.001              # learning rate"
      ],
      "metadata": {
        "id": "JPEGJzOyZbQc"
      },
      "execution_count": 45,
      "outputs": []
    },
    {
      "cell_type": "code",
      "source": [
        "model = torch.load(\"mnist_model.pth\") \n"
      ],
      "metadata": {
        "id": "_tScnhduZbSs"
      },
      "execution_count": 46,
      "outputs": []
    },
    {
      "cell_type": "code",
      "source": [
        "print(model)"
      ],
      "metadata": {
        "colab": {
          "base_uri": "https://localhost:8080/"
        },
        "id": "WUl1GlEzZbU3",
        "outputId": "02f8f02e-da2f-4ffd-bc61-1a55b3b18480"
      },
      "execution_count": 47,
      "outputs": [
        {
          "output_type": "stream",
          "name": "stdout",
          "text": [
            "CNN(\n",
            "  (conv1): Sequential(\n",
            "    (0): Conv2d(1, 16, kernel_size=(5, 5), stride=(1, 1), padding=(2, 2))\n",
            "    (1): ReLU()\n",
            "    (2): MaxPool2d(kernel_size=2, stride=2, padding=0, dilation=1, ceil_mode=False)\n",
            "  )\n",
            "  (conv2): Sequential(\n",
            "    (0): Conv2d(16, 32, kernel_size=(5, 5), stride=(1, 1), padding=(2, 2))\n",
            "    (1): ReLU()\n",
            "    (2): MaxPool2d(kernel_size=2, stride=2, padding=0, dilation=1, ceil_mode=False)\n",
            "  )\n",
            "  (out): Linear(in_features=1568, out_features=10, bias=True)\n",
            ")\n"
          ]
        }
      ]
    },
    {
      "cell_type": "code",
      "source": [
        "import os\n",
        "import time\n",
        "import h5py\n",
        "import numpy as np"
      ],
      "metadata": {
        "id": "yQk3Zj9tqf06"
      },
      "execution_count": 48,
      "outputs": []
    },
    {
      "cell_type": "code",
      "source": [
        "# Open the file as readonly\n",
        "h5f = h5py.File('/content/drive/MyDrive/Resizedata.h5', 'r')\n",
        "\n",
        "# Load the training, test and validation set\n",
        "x_train = h5f['x_train'][:]\n",
        "y_train = h5f['y_train'][:]\n",
        "x_test = h5f['x_test'][:]\n",
        "y_test = h5f['y_test'][:]\n",
        "\n",
        "# Close this file\n",
        "h5f.close()\n",
        "\n",
        "print('Training set', x_train.shape, y_train.shape)\n",
        "print('Test set', x_test.shape, y_test.shape)"
      ],
      "metadata": {
        "colab": {
          "base_uri": "https://localhost:8080/"
        },
        "id": "mnZy5UEtruCh",
        "outputId": "e02fe937-f200-4122-8d7c-9429b71264c3"
      },
      "execution_count": 49,
      "outputs": [
        {
          "output_type": "stream",
          "name": "stdout",
          "text": [
            "Training set (73257, 28, 28) (73257,)\n",
            "Test set (26032, 28, 28) (26032,)\n"
          ]
        }
      ]
    },
    {
      "cell_type": "code",
      "source": [
        "plt.imshow(x_test[4],cmap='gray')"
      ],
      "metadata": {
        "colab": {
          "base_uri": "https://localhost:8080/",
          "height": 283
        },
        "id": "qJnhox-moyvH",
        "outputId": "f4e8fbf6-5731-45c7-c549-badbbcd12004"
      },
      "execution_count": 50,
      "outputs": [
        {
          "output_type": "execute_result",
          "data": {
            "text/plain": [
              "<matplotlib.image.AxesImage at 0x7f2726d28e90>"
            ]
          },
          "metadata": {},
          "execution_count": 50
        },
        {
          "output_type": "display_data",
          "data": {
            "text/plain": [
              "<Figure size 432x288 with 1 Axes>"
            ],
            "image/png": "[encoded data removed]"
          },
          "metadata": {
            "needs_background": "light"
          }
        }
      ]
    },
    {
      "cell_type": "code",
      "source": [
        "y_test[3]"
      ],
      "metadata": {
        "colab": {
          "base_uri": "https://localhost:8080/"
        },
        "id": "OYFUoWAOo0mU",
        "outputId": "f68c57d4-b95e-4efe-f1d2-4b2d94b8ea11"
      },
      "execution_count": 51,
      "outputs": [
        {
          "output_type": "execute_result",
          "data": {
            "text/plain": [
              "0"
            ]
          },
          "metadata": {},
          "execution_count": 51
        }
      ]
    },
    {
      "cell_type": "code",
      "source": [
        "x_train = x_train.reshape(len(x_train),1,28,28)\n",
        "x_test = x_test.reshape(len(x_test),1,28,28)\n",
        "x_train = x_train/255\n",
        "x_test = x_test/255\n",
        "print(x_train.shape)\n",
        "print(x_test.shape)"
      ],
      "metadata": {
        "id": "Lq5NxsmTs3b9",
        "colab": {
          "base_uri": "https://localhost:8080/"
        },
        "outputId": "5d4f0c00-04bc-4c13-db2f-547a7f26e139"
      },
      "execution_count": 52,
      "outputs": [
        {
          "output_type": "stream",
          "name": "stdout",
          "text": [
            "(73257, 1, 28, 28)\n",
            "(26032, 1, 28, 28)\n"
          ]
        }
      ]
    },
    {
      "cell_type": "code",
      "source": [
        "from torch.utils.data import Dataset, DataLoader\n",
        "\n",
        "class MyDataset(Dataset):\n",
        "    def __init__(self, data, target, transform=None):\n",
        "        self.data = torch.from_numpy(data).float()\n",
        "        self.target = torch.from_numpy(target).long()\n",
        "        self.transform = transform\n",
        "        \n",
        "    def __getitem__(self, index):\n",
        "        x = self.data[index]\n",
        "        y = self.target[index]\n",
        "        \n",
        "        if self.transform:\n",
        "            x = self.transform(x)\n",
        "        \n",
        "        return x, y\n",
        "    \n",
        "    def __len__(self):\n",
        "        return len(self.data)\n"
      ],
      "metadata": {
        "id": "D1Cn-2sqqf7q"
      },
      "execution_count": 53,
      "outputs": []
    },
    {
      "cell_type": "code",
      "source": [
        "train_dataset = MyDataset(x_train, y_train)\n",
        "train_loader = DataLoader(\n",
        "    train_dataset,\n",
        "    batch_size=64,\n",
        "    shuffle=True,\n",
        ")"
      ],
      "metadata": {
        "id": "T5uy3Mlgqf98"
      },
      "execution_count": 54,
      "outputs": []
    },
    {
      "cell_type": "code",
      "source": [
        "test_loader = DataLoader(\n",
        "    test_dataset,\n",
        "    batch_size=26032,\n",
        "    shuffle=False,\n",
        ")"
      ],
      "metadata": {
        "id": "5G7J9Fqq4ytQ"
      },
      "execution_count": 55,
      "outputs": []
    },
    {
      "cell_type": "code",
      "source": [
        "for image, labels in test_loader:\n",
        "  pred_y = torch.max(model(image)[0], 1)[1].data.squeeze().numpy()\n",
        "  accuracy = float((pred_y == labels.data.numpy()).astype(int).sum()) / float(labels.size(0))\n",
        "print('The test set one-accuracy is:', accuracy)"
      ],
      "metadata": {
        "colab": {
          "base_uri": "https://localhost:8080/"
        },
        "id": "j9Zx0Ao46Wsn",
        "outputId": "1316b696-ca92-49b2-ce4a-e7930fea29b6"
      },
      "execution_count": 56,
      "outputs": [
        {
          "output_type": "stream",
          "name": "stdout",
          "text": [
            "The test set one-accuracy is: 0.30589274738783034\n"
          ]
        }
      ]
    },
    {
      "cell_type": "code",
      "source": [
        "for image, labels in test_loader2:\n",
        "  pred_y = torch.max(model(image)[0], 1)[1].data.squeeze().numpy()"
      ],
      "metadata": {
        "id": "yblhTpL_-woT"
      },
      "execution_count": 57,
      "outputs": []
    },
    {
      "cell_type": "code",
      "source": [
        "file = open(\"/content/drive/MyDrive/cf/test_labels.txt\", \"r\")\n",
        "stringList = file.readlines()\n",
        "extra_data = []\n",
        "for i in range(len(stringList)):\n",
        "  extra_data.append(len(stringList[i])-1)"
      ],
      "metadata": {
        "id": "ruiTt1r7DuHE"
      },
      "execution_count": 58,
      "outputs": []
    },
    {
      "cell_type": "code",
      "source": [
        "print('The test set true-accuracy is:',get_accuracy(pred_y,y_test,extra_data))"
      ],
      "metadata": {
        "colab": {
          "base_uri": "https://localhost:8080/"
        },
        "id": "1VN21PQS-jxS",
        "outputId": "0ca30b28-f066-48c9-de1d-22adbabafc53"
      },
      "execution_count": 59,
      "outputs": [
        {
          "output_type": "stream",
          "name": "stdout",
          "text": [
            "The test set true-accuracy is: 0.14018977655341291\n"
          ]
        }
      ]
    },
    {
      "cell_type": "code",
      "source": [
        "images, labels = test_dataiter.next()\n",
        "\n",
        "def imshow(img):\n",
        "    img = img / 2 + 0.5     # unnormalize\n",
        "    npimg = img.numpy()\n",
        "    plt.imshow(np.transpose(npimg, (1, 2, 0)))\n",
        "    plt.show()\n",
        "    \n",
        "# print images\n",
        "imshow(torchvision.utils.make_grid(images))\n",
        "print('GroundTruth: ', ' '.join('%5s' % labels[j] for j in range(32)))"
      ],
      "metadata": {
        "id": "osoKuoPBqgLW",
        "colab": {
          "base_uri": "https://localhost:8080/",
          "height": 258
        },
        "outputId": "3a1e4813-7334-407b-8d64-a54570de4f54"
      },
      "execution_count": 60,
      "outputs": [
        {
          "output_type": "display_data",
          "data": {
            "text/plain": [
              "<Figure size 432x288 with 1 Axes>"
            ],
            "image/png": "[encoded data removed]"
          },
          "metadata": {
            "needs_background": "light"
          }
        },
        {
          "output_type": "stream",
          "name": "stdout",
          "text": [
            "GroundTruth:  tensor(5) tensor(3) tensor(3) tensor(3) tensor(5) tensor(2) tensor(4) tensor(1) tensor(0) tensor(4) tensor(0) tensor(2) tensor(1) tensor(1) tensor(7) tensor(4) tensor(3) tensor(2) tensor(1) tensor(1) tensor(9) tensor(1) tensor(4) tensor(2) tensor(5) tensor(2) tensor(4) tensor(1) tensor(8) tensor(8) tensor(9) tensor(1)\n"
          ]
        }
      ]
    },
    {
      "cell_type": "code",
      "source": [
        "test_output, last_layer = model(images)\n",
        "pred_y = torch.max(test_output, 1)[1].data.squeeze().numpy()\n",
        "\n",
        "print('Predicted: ', ' '.join('%5s' % pred_y[j]\n",
        "                              for j in range(32)))"
      ],
      "metadata": {
        "id": "jZDcG9ePrA6y",
        "colab": {
          "base_uri": "https://localhost:8080/"
        },
        "outputId": "922e832e-f51c-41c6-d5ad-782528d951b0"
      },
      "execution_count": 61,
      "outputs": [
        {
          "output_type": "stream",
          "name": "stdout",
          "text": [
            "Predicted:      5     3     5     3     5     5     6     1     4     8     4     2     1     6     0     4     2     3     1     8     1     1     8     5     5     0     6     8     1     5     3     1\n"
          ]
        }
      ]
    }
  ]
}