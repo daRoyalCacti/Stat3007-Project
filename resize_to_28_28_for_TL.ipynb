{
  "nbformat": 4,
  "nbformat_minor": 0,
  "metadata": {
    "colab": {
      "name": "resize to 28*28 for TL",
      "provenance": [],
      "collapsed_sections": [],
      "machine_shape": "hm",
      "mount_file_id": "1r65gVv4LsU28zxbN1TNODbmi470Gx5mD",
      "authorship_tag": "ABX9TyMCvtyGaAwNnJ07Oqi7EHBe"
    },
    "kernelspec": {
      "name": "python3",
      "display_name": "Python 3"
    },
    "language_info": {
      "name": "python"
    },
    "accelerator": "GPU"
  },
  "cells": [
    {
      "cell_type": "markdown",
      "source": [
        "**This is a relatively efficient unzip and resize pre-processing program that can be run by Colab. You may need to change the paths to yours. By the program, we can resize Jacob's pre-processed grayscale MNIST-style $28\\times15$ SVHN images to $28\\times28$ and save them into .h5 for convenience to reload**"
      ],
      "metadata": {
        "id": "v1pDjKOco4ab"
      }
    },
    {
      "cell_type": "code",
      "source": [
        "!mv /content/drive/MyDrive/cf/extra_images_MNIST_grayscale.zip /content                 #This is the core that move the zip.file from Drive to the colab machine to speed up\n",
        "%cd /content"
      ],
      "metadata": {
        "colab": {
          "base_uri": "https://localhost:8080/"
        },
        "id": "SX2zw3PRi6C8",
        "outputId": "8e815a48-317c-49a4-adb9-abd2a9ab29b8"
      },
      "execution_count": 10,
      "outputs": [
        {
          "output_type": "stream",
          "name": "stdout",
          "text": [
            "/content\n"
          ]
        }
      ]
    },
    {
      "cell_type": "code",
      "source": [
        "!mv /content/drive/MyDrive/cf/test_images_MNIST_grayscale.zip /content\n",
        "%cd /content"
      ],
      "metadata": {
        "colab": {
          "base_uri": "https://localhost:8080/"
        },
        "id": "5wX2CeNWUxrc",
        "outputId": "7a174e1a-97c1-42bb-bdb3-f5c1db182e29"
      },
      "execution_count": 11,
      "outputs": [
        {
          "output_type": "stream",
          "name": "stdout",
          "text": [
            "/content\n"
          ]
        }
      ]
    },
    {
      "cell_type": "code",
      "source": [
        "!mv /content/drive/MyDrive/cf/training_images_MNIST_grayscale.zip /content\n",
        "%cd /content"
      ],
      "metadata": {
        "colab": {
          "base_uri": "https://localhost:8080/"
        },
        "id": "gt-q797mUySp",
        "outputId": "f047a854-7fba-42a3-dedb-022576aea8a6"
      },
      "execution_count": 12,
      "outputs": [
        {
          "output_type": "stream",
          "name": "stdout",
          "text": [
            "/content\n"
          ]
        }
      ]
    },
    {
      "cell_type": "code",
      "source": [
        "!unzip extra_images_MNIST_grayscale.zip -d '/content/extra'             "
      ],
      "metadata": {
        "id": "Spaiv2g4U8CO"
      },
      "execution_count": null,
      "outputs": []
    },
    {
      "cell_type": "code",
      "source": [
        "!unzip test_images_MNIST_grayscale.zip -d '/content/test_data'"
      ],
      "metadata": {
        "id": "Opq3QCkFi9Xg"
      },
      "execution_count": null,
      "outputs": []
    },
    {
      "cell_type": "code",
      "source": [
        "!unzip training_images_MNIST_grayscale.zip -d '/content/train'"
      ],
      "metadata": {
        "id": "RgbLHlKfVDHU"
      },
      "execution_count": null,
      "outputs": []
    },
    {
      "cell_type": "code",
      "source": [
        "import cv2                                       #To resize the images from where you unzip them and save the images in your named location.\n",
        "import os\n",
        "\n",
        "# original path\n",
        "ori_path = '/content/extra/'\n",
        "# path to save\n",
        "save_path = '/content/Resize_extra_true_plus/'\n",
        "\n",
        "for i in range(len(num)):\n",
        "    file_name = ori_path + str(i + 1).zfill(5) + \".png\"\n",
        "    img = cv2.imread(file_name)\n",
        "    if img is not None:  \n",
        "     print(i+1)\n",
        "     resize = cv2.resize(img, (28, 28))  # resize\n",
        "     cv2.imwrite(save_path+str(i+1).zfill(6)+'.png',resize)  # save\n",
        "\n",
        "cv2.waitKey(0)"
      ],
      "metadata": {
        "id": "tk_npqI1g3lJ"
      },
      "execution_count": null,
      "outputs": []
    },
    {
      "cell_type": "code",
      "source": [
        "#Modified code based on Jacob code\n",
        "def read_identifies(label):                            #To read the images and transform them into a matrix.\n",
        "    with open(label, 'r') as g:\n",
        "        y = list(map(int, g.readlines()))\n",
        "    return y\n",
        "\n",
        "def readFile(path,label):\n",
        "    # x stores photos\n",
        "    x = np.zeros((len(image_dir),28,28),dtype='float32')\n",
        "    # y stores labels\n",
        "    y = read_identifies(label)\n",
        "    for i in range(len(y)):\n",
        "        file_name = path + str(i + 1).zfill(6) + \".png\"\n",
        "        img = cv2.imread( file_name,flags=2)                   #Flags = 2 indicates that we read the images in grayscale style.\n",
        "        x[i, :, :] = img\n",
        "    return x,y"
      ],
      "metadata": {
        "id": "Thy55DBFezSu"
      },
      "execution_count": 94,
      "outputs": []
    },
    {
      "cell_type": "code",
      "source": [
        "x_test,y_test = readFile(\"/content/Resize_test/\", \"/content/drive/MyDrive/cf/test_labels_MNIST.txt\")            #To obtain training set etc."
      ],
      "metadata": {
        "id": "lc6SuSb8gMTf"
      },
      "execution_count": null,
      "outputs": []
    },
    {
      "cell_type": "code",
      "source": [
        "x_train,y_train = readFile(\"/content/Resize_train/\", \"/content/drive/MyDrive/cf/training_labels_MNIST.txt\")"
      ],
      "metadata": {
        "id": "e2WY8BDagMVw"
      },
      "execution_count": null,
      "outputs": []
    },
    {
      "cell_type": "code",
      "source": [
        "x_extra,y_extra = readFile(\"/content/Resize_extra_true_plus/\", \"/content/drive/MyDrive/cf/extra_labels_MNIST.txt\")"
      ],
      "metadata": {
        "id": "oLSwADsrgMYE"
      },
      "execution_count": 112,
      "outputs": []
    },
    {
      "cell_type": "code",
      "source": [
        "print(x_test.shape)\n",
        "print(x_train.shape)\n",
        "print(x_extra.shape)"
      ],
      "metadata": {
        "colab": {
          "base_uri": "https://localhost:8080/"
        },
        "id": "rjakwd0RgMaX",
        "outputId": "15151f58-d167-4c51-e810-b7732d08e095"
      },
      "execution_count": null,
      "outputs": [
        {
          "output_type": "stream",
          "name": "stdout",
          "text": [
            "(26032, 28, 28)\n",
            "(73257, 28, 28)\n",
            "(531131, 28, 28)\n"
          ]
        }
      ]
    },
    {
      "cell_type": "code",
      "source": [
        "import matplotlib.pyplot as plt                          #To confirm we connected the right label.\n",
        "plt.imshow(x_train[30051],cmap='gray')\n",
        "y_train[30051]"
      ],
      "metadata": {
        "colab": {
          "base_uri": "https://localhost:8080/",
          "height": 283
        },
        "id": "qRHb6C0egMcW",
        "outputId": "5f7e6913-a2c8-487c-e81f-394b9999bd7c"
      },
      "execution_count": 148,
      "outputs": [
        {
          "output_type": "execute_result",
          "data": {
            "text/plain": [
              "8"
            ]
          },
          "metadata": {},
          "execution_count": 148
        },
        {
          "output_type": "display_data",
          "data": {
            "text/plain": [
              "<Figure size 432x288 with 1 Axes>"
            ],
            "image/png": "[encoded data removed]"
          },
          "metadata": {
            "needs_background": "light"
          }
        }
      ]
    },
    {
      "cell_type": "code",
      "source": [
        "import matplotlib.pyplot as plt                           #To confirm we connected the right label.\n",
        "plt.imshow(x_extra[400302],cmap='gray')\n",
        "y_extra[400302]"
      ],
      "metadata": {
        "colab": {
          "base_uri": "https://localhost:8080/",
          "height": 283
        },
        "id": "2mSjwnQIxykJ",
        "outputId": "003c1e6e-20b2-4fd2-abbb-6ec469df3074"
      },
      "execution_count": 147,
      "outputs": [
        {
          "output_type": "execute_result",
          "data": {
            "text/plain": [
              "3"
            ]
          },
          "metadata": {},
          "execution_count": 147
        },
        {
          "output_type": "display_data",
          "data": {
            "text/plain": [
              "<Figure size 432x288 with 1 Axes>"
            ],
            "image/png": "[encoded data removed]"
          },
          "metadata": {
            "needs_background": "light"
          }
        }
      ]
    },
    {
      "cell_type": "code",
      "source": [
        "import h5py                                      #Save the data into .h5 file\n",
        "h5f = h5py.File('/content/drive/MyDrive/Resizedata_bugfixed.h5', 'w')\n",
        "\n",
        "# Store the datasets\n",
        "h5f.create_dataset('x_train', data=x_train)\n",
        "h5f.create_dataset('y_train', data=y_train)\n",
        "h5f.create_dataset('x_test', data=x_test)\n",
        "h5f.create_dataset('y_test', data=y_test)\n",
        "h5f.create_dataset('x_extra', data=x_extra)\n",
        "h5f.create_dataset('y_extra', data=y_extra)\n",
        "\n",
        "# Close the file\n",
        "h5f.close()"
      ],
      "metadata": {
        "id": "gQpCr4UkmAdr"
      },
      "execution_count": 145,
      "outputs": []
    },
    {
      "cell_type": "code",
      "source": [
        "# Open the file as readonly                              #Load the data from .h5 file\n",
        "h5f = h5py.File('/content/drive/MyDrive/Resizedata_bugfixed.h5', 'r')\n",
        "\n",
        "# Load the training, test and validation set\n",
        "x_train = h5f['x_train'][:]\n",
        "y_train = h5f['y_train'][:]\n",
        "x_test = h5f['x_test'][:]\n",
        "y_test = h5f['y_test'][:]\n",
        "x_extra = h5f['x_extra'][:]\n",
        "y_extra = h5f['y_extra'][:]\n",
        "# Close this file\n",
        "h5f.close()"
      ],
      "metadata": {
        "colab": {
          "base_uri": "https://localhost:8080/"
        },
        "id": "7Mz8Xm42ndKF",
        "outputId": "c84adf05-5453-4181-cc77-d69b3e1d4825"
      },
      "execution_count": 146,
      "outputs": [
        {
          "output_type": "stream",
          "name": "stdout",
          "text": [
            "(26032, 28, 28)\n",
            "(73257, 28, 28)\n",
            "(531131, 28, 28)\n"
          ]
        }
      ]
    },
    {
      "cell_type": "code",
      "source": [
        "print(x_test.shape)\n",
        "print(x_train.shape)\n",
        "print(x_extra.shape)"
      ],
      "metadata": {
        "id": "yYnbU8GPqQEA"
      },
      "execution_count": null,
      "outputs": []
    }
  ]
}
