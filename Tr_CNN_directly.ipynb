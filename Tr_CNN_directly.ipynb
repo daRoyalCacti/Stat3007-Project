{
  "nbformat": 4,
  "nbformat_minor": 0,
  "metadata": {
    "colab": {
      "name": "Tr_CNN_directly",
      "provenance": [],
      "collapsed_sections": [],
      "machine_shape": "hm",
      "mount_file_id": "1v0uKx-MpWyG24Yk9MCSG-ZOiFgTEA2xC",
      "authorship_tag": "ABX9TyM6/r7Jl+UdfcKvmN1o31w/",
      "include_colab_link": true
    },
    "kernelspec": {
      "name": "python3",
      "display_name": "Python 3"
    },
    "language_info": {
      "name": "python"
    },
    "accelerator": "GPU"
  },
  "cells": [
    {
      "cell_type": "markdown",
      "metadata": {
        "id": "view-in-github",
        "colab_type": "text"
      },
      "source": [
        "<a href=\"https://colab.research.google.com/github/daRoyalCacti/Stat3007-project/blob/main/Tr_CNN_directly.ipynb\" target=\"_parent\"><img src=\"https://colab.research.google.com/assets/colab-badge.svg\" alt=\"Open In Colab\"/></a>"
      ]
    },
    {
      "cell_type": "markdown",
      "source": [
        "**Pre-processing done**"
      ],
      "metadata": {
        "id": "10eqq9VIF0OL"
      }
    },
    {
      "cell_type": "markdown",
      "source": [
        "**To better understand transfer learning, imagine we only have limited SVHN training set at hand without the extra data images. Then this is the test accuracy of the CNN if we directly trained on the SVHN training dataset, which only has around 18.59% true accuracy**"
      ],
      "metadata": {
        "id": "vvfaPVheF5Ho"
      }
    },
    {
      "cell_type": "code",
      "source": [
        "from google.colab import drive\n",
        "drive.mount('/content/drive')"
      ],
      "metadata": {
        "colab": {
          "base_uri": "https://localhost:8080/"
        },
        "id": "uThZC6JlHW9M",
        "outputId": "f8c75b33-3ea1-4bd0-b6ed-d209433a14b8"
      },
      "execution_count": null,
      "outputs": [
        {
          "output_type": "stream",
          "name": "stdout",
          "text": [
            "Mounted at /content/drive\n"
          ]
        }
      ]
    },
    {
      "cell_type": "code",
      "source": [
        "from collections import Counter       #Written by Jacob and used to calculate the true accuracy.\n",
        "import numpy as np\n",
        "\n",
        "\n",
        "# actual accuracy\n",
        "def get_accuracy(p_data, t_data, extra_data):\n",
        "    sc = 0\n",
        "    if extra_data is None:\n",
        "        for i in range(len(p_data)):\n",
        "            if p_data[i] == t_data[i]:\n",
        "                sc += 1\n",
        "\n",
        "        return sc / len(p_data)\n",
        "    else:\n",
        "        counter = -1\n",
        "        for i in range(len(extra_data)):\n",
        "            is_good = True\n",
        "            for j in range(extra_data[i]):\n",
        "                counter += 1\n",
        "                is_good &= p_data[counter] == t_data[counter]\n",
        "            if is_good:\n",
        "                sc += 1\n",
        "        return sc / len(extra_data)"
      ],
      "metadata": {
        "id": "0TOKZvX43iYg"
      },
      "execution_count": null,
      "outputs": []
    },
    {
      "cell_type": "markdown",
      "source": [
        "CNN\n",
        "\n"
      ],
      "metadata": {
        "id": "JB027YCPw_mH"
      }
    },
    {
      "cell_type": "code",
      "source": [
        "import os\n",
        "\n",
        "# third-party library\n",
        "import torch\n",
        "import torch.nn as nn\n",
        "import torch.utils.data as Data\n",
        "import torchvision\n",
        "import matplotlib.pyplot as plt\n",
        "\n",
        "# torch.manual_seed(1)    # reproducible\n",
        "\n",
        "# Hyper Parameters\n",
        "EPOCH = 5             # train the training data n times, to save time, we just train 1 epoch\n",
        "BATCH_SIZE = 100\n",
        "LR = 0.001              # learning rate"
      ],
      "metadata": {
        "id": "JPEGJzOyZbQc"
      },
      "execution_count": null,
      "outputs": []
    },
    {
      "cell_type": "code",
      "source": [
        "import os\n",
        "import time\n",
        "import h5py\n",
        "import numpy as np"
      ],
      "metadata": {
        "id": "yQk3Zj9tqf06"
      },
      "execution_count": null,
      "outputs": []
    },
    {
      "cell_type": "code",
      "source": [
        "# Open the file as readonly\n",
        "h5f = h5py.File('/content/drive/MyDrive/Resizedata_bugfixed.h5', 'r')\n",
        "\n",
        "# Load the training, test and validation set\n",
        "x_train = h5f['x_train'][:]\n",
        "y_train = h5f['y_train'][:]\n",
        "x_test = h5f['x_test'][:]\n",
        "y_test = h5f['y_test'][:]\n",
        "x_extra = h5f['x_extra'][:]\n",
        "y_extra = h5f['y_extra'][:]\n",
        "# Close this file\n",
        "h5f.close()\n",
        "\n",
        "print(x_test.shape)\n",
        "print(x_train.shape)\n",
        "print(x_extra.shape)"
      ],
      "metadata": {
        "colab": {
          "base_uri": "https://localhost:8080/"
        },
        "id": "mnZy5UEtruCh",
        "outputId": "343599f2-fb9a-4d23-840e-6c3a4d47a2cf"
      },
      "execution_count": null,
      "outputs": [
        {
          "output_type": "stream",
          "name": "stdout",
          "text": [
            "(26032, 28, 28)\n",
            "(73257, 28, 28)\n",
            "(531131, 28, 28)\n"
          ]
        }
      ]
    },
    {
      "cell_type": "code",
      "source": [
        "x_train = x_train.reshape(len(x_train),1,28,28)\n",
        "x_test = x_test.reshape(len(x_test),1,28,28)\n",
        "x_train = x_train/255\n",
        "x_test = x_test/255\n",
        "print(x_train.shape)\n",
        "print(x_test.shape)"
      ],
      "metadata": {
        "id": "Lq5NxsmTs3b9",
        "colab": {
          "base_uri": "https://localhost:8080/"
        },
        "outputId": "498bda89-21a2-42a3-ef16-c1b488e6e24c"
      },
      "execution_count": null,
      "outputs": [
        {
          "output_type": "stream",
          "name": "stdout",
          "text": [
            "(73257, 1, 28, 28)\n",
            "(26032, 1, 28, 28)\n"
          ]
        }
      ]
    },
    {
      "cell_type": "code",
      "source": [
        "from torch.utils.data import Dataset, DataLoader\n",
        "\n",
        "class MyDataset(Dataset):\n",
        "    def __init__(self, data, target, transform=None):\n",
        "        self.data = torch.from_numpy(data).float()\n",
        "        self.target = torch.from_numpy(target).long()\n",
        "        self.transform = transform\n",
        "        \n",
        "    def __getitem__(self, index):\n",
        "        x = self.data[index]\n",
        "        y = self.target[index]\n",
        "        \n",
        "        if self.transform:\n",
        "            x = self.transform(x)\n",
        "        \n",
        "        return x, y\n",
        "    \n",
        "    def __len__(self):\n",
        "        return len(self.data)\n"
      ],
      "metadata": {
        "id": "D1Cn-2sqqf7q"
      },
      "execution_count": null,
      "outputs": []
    },
    {
      "cell_type": "code",
      "source": [
        "train_dataset = MyDataset(x_train, y_train)\n",
        "train_loader = DataLoader(\n",
        "    train_dataset,\n",
        "    batch_size=64,\n",
        "    shuffle=True,\n",
        ")"
      ],
      "metadata": {
        "id": "T5uy3Mlgqf98"
      },
      "execution_count": null,
      "outputs": []
    },
    {
      "cell_type": "code",
      "source": [
        "test_dataset = MyDataset(x_test, y_test)\n",
        "test_loader = DataLoader(\n",
        "    test_dataset,\n",
        "    batch_size=32,\n",
        "    shuffle=True,\n",
        ")\n",
        "test_dataiter = iter(test_loader)"
      ],
      "metadata": {
        "id": "eQ11ReNnqgAG"
      },
      "execution_count": null,
      "outputs": []
    },
    {
      "cell_type": "code",
      "source": [
        "torch.cuda.is_available()\n",
        "torch.cuda.device_count()"
      ],
      "metadata": {
        "colab": {
          "base_uri": "https://localhost:8080/"
        },
        "id": "_0tIjd6zqgEt",
        "outputId": "5d7d4151-7dfe-4172-c912-157303aa73ba"
      },
      "execution_count": null,
      "outputs": [
        {
          "output_type": "execute_result",
          "data": {
            "text/plain": [
              "1"
            ]
          },
          "metadata": {},
          "execution_count": 10
        }
      ]
    },
    {
      "cell_type": "code",
      "source": [
        "class CNN(nn.Module):\n",
        "    def __init__(self):\n",
        "        super(CNN, self).__init__()\n",
        "        self.conv1 = nn.Sequential(         # input shape (1, 28, 28)\n",
        "            nn.Conv2d(\n",
        "                in_channels=1,              # input height\n",
        "                out_channels=16,            # n_filters\n",
        "                kernel_size=5,              # filter size\n",
        "                stride=1,                   # filter movement/step\n",
        "                padding=2,                  # if want same width and length of this image after con2d, padding=(kernel_size-1)/2 if stride=1\n",
        "            ),                              # output shape (16, 28, 28)\n",
        "            nn.ReLU(),                      # activation\n",
        "            nn.MaxPool2d(kernel_size=2),    # choose max value in 2x2 area, output shape (16, 14, 14)\n",
        "        )\n",
        "        self.conv2 = nn.Sequential(         # input shape (16, 14, 14)\n",
        "            nn.Conv2d(16, 32, 5, 1, 2),     # output shape (32, 14, 14)\n",
        "            nn.ReLU(),                      # activation\n",
        "            nn.MaxPool2d(2),                # output shape (32, 7, 7)\n",
        "        )\n",
        "        self.out = nn.Linear(32 * 7 * 7, 10)   # fully connected layer, output 10 classes\n",
        "\n",
        "    def forward(self, x):\n",
        "        x = self.conv1(x)\n",
        "        x = self.conv2(x)\n",
        "        x = x.view(x.size(0), -1)           # flatten the output of conv2 to (batch_size, 32 * 7 * 7)\n",
        "        output = self.out(x)\n",
        "        return output, x    # return x for visualization"
      ],
      "metadata": {
        "id": "jS8k34AZO4Mm"
      },
      "execution_count": null,
      "outputs": []
    },
    {
      "cell_type": "code",
      "source": [
        "model = CNN()"
      ],
      "metadata": {
        "id": "pOHtV6rxRASE"
      },
      "execution_count": null,
      "outputs": []
    },
    {
      "cell_type": "code",
      "source": [
        "optimizer = torch.optim.Adam(model.out.parameters(), lr=LR)   # optimize all cnn parameters\n",
        "loss_func = nn.CrossEntropyLoss()       "
      ],
      "metadata": {
        "id": "SddicVNfqgG-"
      },
      "execution_count": null,
      "outputs": []
    },
    {
      "cell_type": "code",
      "source": [
        "for epoch in range(EPOCH):\n",
        "    \n",
        "    running_loss = 0.0\n",
        "    for step, (b_x, b_y) in enumerate(train_loader):   # gives batch data, normalize x when iterate train_loader\n",
        "\n",
        "        output = model(b_x)[0]            # cnn output\n",
        "        loss = loss_func(output, b_y)   # cross entropy loss\n",
        "        optimizer.zero_grad()           # clear gradients for this training step\n",
        "        loss.backward()                 # backpropagation, compute gradients\n",
        "        optimizer.step()                # apply gradients\n",
        "        running_loss += loss.item()\n",
        "        \n",
        "        if step % 1000 == 999:\n",
        "            images, labels = test_dataiter.next()\n",
        "            test_output, last_layer = model(images)\n",
        "            pred_y = torch.max(test_output, 1)[1].data.squeeze().numpy()\n",
        "            accuracy = float((pred_y == labels.data.numpy()).astype(int).sum()) / float(labels.size(0))\n",
        "            print('Epoch: ', epoch+1, '|step: ',step, '| train loss: %.4f' % running_loss, '| test accuracy: %.4f' % accuracy)\n",
        "            running_loss = 0.0"
      ],
      "metadata": {
        "colab": {
          "base_uri": "https://localhost:8080/"
        },
        "id": "1IpTUk9kqgJA",
        "outputId": "6c00f8e0-cfe0-4d8f-9d5e-a375995e5b70"
      },
      "execution_count": null,
      "outputs": [
        {
          "output_type": "stream",
          "name": "stdout",
          "text": [
            "Epoch:  1 |step:  999 | train loss: 2192.8611 | test accuracy: 0.2812\n",
            "Epoch:  2 |step:  999 | train loss: 2082.0276 | test accuracy: 0.2188\n",
            "Epoch:  3 |step:  999 | train loss: 1996.0666 | test accuracy: 0.3438\n",
            "Epoch:  4 |step:  999 | train loss: 1920.5485 | test accuracy: 0.4375\n",
            "Epoch:  5 |step:  999 | train loss: 1858.4103 | test accuracy: 0.2188\n"
          ]
        }
      ]
    },
    {
      "cell_type": "code",
      "source": [
        "test_loader2 = DataLoader(\n",
        "    test_dataset,\n",
        "    batch_size=26032,\n",
        "    shuffle=False,\n",
        ")"
      ],
      "metadata": {
        "id": "5G7J9Fqq4ytQ"
      },
      "execution_count": null,
      "outputs": []
    },
    {
      "cell_type": "code",
      "source": [
        "for image, labels in test_loader2:\n",
        "  pred_y = torch.max(model(image)[0], 1)[1].data.squeeze().numpy()\n",
        "  accuracy = float((pred_y == labels.data.numpy()).astype(int).sum()) / float(labels.size(0))\n",
        "print('The test set one-accuracy is:', accuracy)"
      ],
      "metadata": {
        "colab": {
          "base_uri": "https://localhost:8080/"
        },
        "id": "j9Zx0Ao46Wsn",
        "outputId": "e0d12e4c-d7a3-4776-d9e1-e1e6a5ecc8ea"
      },
      "execution_count": null,
      "outputs": [
        {
          "output_type": "stream",
          "name": "stdout",
          "text": [
            "The test set one-accuracy is: 0.38971266133988935\n"
          ]
        }
      ]
    },
    {
      "cell_type": "code",
      "source": [
        "for image, labels in test_loader2:\n",
        "  pred_y = torch.max(model(image)[0], 1)[1].data.squeeze().numpy()"
      ],
      "metadata": {
        "id": "yblhTpL_-woT"
      },
      "execution_count": null,
      "outputs": []
    },
    {
      "cell_type": "code",
      "source": [
        "file = open(\"/content/drive/MyDrive/cf/test_labels.txt\", \"r\")\n",
        "stringList = file.readlines()\n",
        "extra_data = []\n",
        "for i in range(len(stringList)):\n",
        "  extra_data.append(len(stringList[i])-1)"
      ],
      "metadata": {
        "id": "ruiTt1r7DuHE"
      },
      "execution_count": null,
      "outputs": []
    },
    {
      "cell_type": "code",
      "source": [
        "print('The test set true-accuracy is:',get_accuracy(pred_y,y_test,extra_data))"
      ],
      "metadata": {
        "colab": {
          "base_uri": "https://localhost:8080/"
        },
        "id": "1VN21PQS-jxS",
        "outputId": "ea87349e-7c57-4d36-9964-9007b714e7ce"
      },
      "execution_count": null,
      "outputs": [
        {
          "output_type": "stream",
          "name": "stdout",
          "text": [
            "The test set true-accuracy is: 0.18587389041934496\n"
          ]
        }
      ]
    },
    {
      "cell_type": "code",
      "source": [
        "images, labels = test_dataiter.next()\n",
        "\n",
        "def imshow(img):\n",
        "    img = img / 2 + 0.5     # unnormalize\n",
        "    npimg = img.numpy()\n",
        "    plt.imshow(np.transpose(npimg, (1, 2, 0)))\n",
        "    plt.show()\n",
        "    \n",
        "# print images\n",
        "imshow(torchvision.utils.make_grid(images))\n",
        "print('GroundTruth: ', ' '.join('%5s' % labels[j] for j in range(32)))"
      ],
      "metadata": {
        "id": "osoKuoPBqgLW",
        "colab": {
          "base_uri": "https://localhost:8080/",
          "height": 258
        },
        "outputId": "17225381-3922-416a-9243-f9edb56e7df4"
      },
      "execution_count": null,
      "outputs": [
        {
          "output_type": "display_data",
          "data": {
            "text/plain": [
              "<Figure size 432x288 with 1 Axes>"
            ],
            "image/png": "[encoded data removed]"
          },
          "metadata": {
            "needs_background": "light"
          }
        },
        {
          "output_type": "stream",
          "name": "stdout",
          "text": [
            "GroundTruth:  tensor(5) tensor(9) tensor(2) tensor(8) tensor(1) tensor(0) tensor(4) tensor(1) tensor(4) tensor(4) tensor(7) tensor(1) tensor(3) tensor(0) tensor(7) tensor(3) tensor(5) tensor(7) tensor(8) tensor(1) tensor(6) tensor(6) tensor(9) tensor(4) tensor(6) tensor(1) tensor(1) tensor(8) tensor(4) tensor(0) tensor(3) tensor(2)\n"
          ]
        }
      ]
    },
    {
      "cell_type": "code",
      "source": [
        "test_output, last_layer = model(images)\n",
        "pred_y = torch.max(test_output, 1)[1].data.squeeze().numpy()\n",
        "\n",
        "print('Predicted: ', ' '.join('%5s' % pred_y[j]\n",
        "                              for j in range(32)))"
      ],
      "metadata": {
        "id": "jZDcG9ePrA6y",
        "colab": {
          "base_uri": "https://localhost:8080/"
        },
        "outputId": "f365f0d1-c6ca-4f1a-99c7-2694f1542656"
      },
      "execution_count": null,
      "outputs": [
        {
          "output_type": "stream",
          "name": "stdout",
          "text": [
            "Predicted:      5     2     2     1     1     2     2     1     4     1     7     1     5     2     1     4     1     2     5     1     6     5     1     1     2     1     1     1     1     1     4     2\n"
          ]
        }
      ]
    }
  ]
}