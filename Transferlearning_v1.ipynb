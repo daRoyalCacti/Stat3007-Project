{
  "nbformat": 4,
  "nbformat_minor": 0,
  "metadata": {
    "colab": {
      "name": "Project.ipynb",
      "provenance": [],
      "collapsed_sections": [],
      "machine_shape": "hm",
      "authorship_tag": "ABX9TyMn+iQrCHyr6FJ+A3pi8S7j",
      "include_colab_link": true
    },
    "kernelspec": {
      "name": "python3",
      "display_name": "Python 3"
    },
    "language_info": {
      "name": "python"
    },
    "accelerator": "GPU"
  },
  "cells": [
    {
      "cell_type": "markdown",
      "metadata": {
        "id": "view-in-github",
        "colab_type": "text"
      },
      "source": [
        "<a href=\"https://colab.research.google.com/github/daRoyalCacti/Stat3007-project/blob/main/Project.ipynb\" target=\"_parent\"><img src=\"https://colab.research.google.com/assets/colab-badge.svg\" alt=\"Open In Colab\"/></a>"
      ]
    },
    {
      "cell_type": "code",
      "execution_count": null,
      "metadata": {
        "id": "tmiIIwSlRzXf"
      },
      "outputs": [],
      "source": [
        "import numpy as np\n",
        "import matplotlib.pyplot as plt\n",
        "import seaborn as sns\n",
        "\n",
        "%matplotlib inline\n",
        "plt.rcParams['figure.figsize'] = (16.0, 4.0)"
      ]
    },
    {
      "cell_type": "code",
      "source": [
        "#import urllib.request\n",
        "\n",
        "#%mkdir data\n",
        "\n",
        "#urllib.request.urlretrieve(\"http://ufldl.stanford.edu/housenumbers/train_32x32.mat\", \"data/train_32x32.mat\")\n",
        "#urllib.request.urlretrieve(\"http://ufldl.stanford.edu/housenumbers/test_32x32.mat\", \"data/test_32x32.mat\")\n",
        "#urllib.request.urlretrieve(\"http://ufldl.stanford.edu/housenumbers/extra_32x32.mat\", \"data/extra_32x32.mat\")"
      ],
      "metadata": {
        "colab": {
          "base_uri": "https://localhost:8080/"
        },
        "id": "MpBTPYWQR5PM",
        "outputId": "27e11448-3c7b-4a1c-8199-c8aaf0475c89"
      },
      "execution_count": null,
      "outputs": [
        {
          "output_type": "execute_result",
          "data": {
            "text/plain": [
              "('data/extra_32x32.mat', <http.client.HTTPMessage at 0x7f02fc383510>)"
            ]
          },
          "metadata": {},
          "execution_count": 6
        }
      ]
    },
    {
      "cell_type": "code",
      "source": [
        "from scipy.io import loadmat\n",
        "\n",
        "def load_data(path):\n",
        "    data = loadmat(path)\n",
        "    return data['X'], data['y']\n",
        "\n",
        "X_train, y_train = load_data('data/train_32x32.mat')\n",
        "X_test, y_test = load_data('data/test_32x32.mat')\n",
        "X_extra, y_extra = load_data('data/extra_32x32.mat')\n",
        "\n",
        "print(\"Training\", X_train.shape, y_train.shape)\n",
        "print(\"Test\", X_test.shape, y_test.shape)\n",
        "print('Extra', X_extra.shape, y_extra.shape)"
      ],
      "metadata": {
        "colab": {
          "base_uri": "https://localhost:8080/"
        },
        "id": "B49SKsU_StX-",
        "outputId": "18f3feba-e0ce-466f-e2c6-a240e92a9473"
      },
      "execution_count": null,
      "outputs": [
        {
          "output_type": "stream",
          "name": "stdout",
          "text": [
            "Training (32, 32, 3, 73257) (73257, 1)\n",
            "Test (32, 32, 3, 26032) (26032, 1)\n",
            "Extra (32, 32, 3, 531131) (531131, 1)\n"
          ]
        }
      ]
    },
    {
      "cell_type": "code",
      "source": [
        "X_train= X_train.transpose((3,2,0,1))\n",
        "X_test = X_test.transpose((3,2,0,1))\n",
        "X_extra = X_extra.transpose((3,2,0,1))\n",
        "\n",
        "print(\"Training\", X_train.shape)\n",
        "print(\"Test\", X_test.shape)\n",
        "print(\"Extra\", X_extra.shape)\n",
        "print('')\n",
        "\n",
        "# Calculate the total number of images\n",
        "num_images = X_train.shape[0] + X_test.shape[0] + X_extra.shape[0]\n",
        "\n",
        "print(\"Total Number of Images\", num_images)"
      ],
      "metadata": {
        "colab": {
          "base_uri": "https://localhost:8080/"
        },
        "id": "W8yZ_WI5SyCo",
        "outputId": "362089bb-7a3a-4e11-cc9f-a49c82140881"
      },
      "execution_count": null,
      "outputs": [
        {
          "output_type": "stream",
          "name": "stdout",
          "text": [
            "Training (73257, 3, 32, 32)\n",
            "Test (26032, 3, 32, 32)\n",
            "Extra (531131, 3, 32, 32)\n",
            "\n",
            "Total Number of Images 630420\n"
          ]
        }
      ]
    },
    {
      "cell_type": "code",
      "source": [
        "# Plot some training set images\n",
        "def plot(img):\n",
        "    plt.imshow(img.transpose((1,2,0)))\n",
        "    \n",
        "plot(X_train[0])"
      ],
      "metadata": {
        "colab": {
          "base_uri": "https://localhost:8080/",
          "height": 266
        },
        "id": "qgqLe819SyGL",
        "outputId": "3ca062c7-9295-4a6e-f815-4f7b803bd6e3"
      },
      "execution_count": null,
      "outputs": [
        {
          "output_type": "display_data",
          "data": {
            "text/plain": [
              "<Figure size 1152x288 with 1 Axes>"
            ],
            "image/png": "[encoded data removed]"
          },
          "metadata": {
            "needs_background": "light"
          }
        }
      ]
    },
    {
      "cell_type": "code",
      "source": [
        "plot(X_test[1])"
      ],
      "metadata": {
        "colab": {
          "base_uri": "https://localhost:8080/",
          "height": 266
        },
        "id": "aZ-lzf0YSyJB",
        "outputId": "961d023f-2475-48a7-e6c0-a784a1e06b52"
      },
      "execution_count": null,
      "outputs": [
        {
          "output_type": "display_data",
          "data": {
            "text/plain": [
              "<Figure size 1152x288 with 1 Axes>"
            ],
            "image/png": "[encoded data removed]"
          },
          "metadata": {
            "needs_background": "light"
          }
        }
      ]
    },
    {
      "cell_type": "code",
      "source": [
        "# Plot some extra set images\n",
        "plot(X_extra[1])"
      ],
      "metadata": {
        "colab": {
          "base_uri": "https://localhost:8080/",
          "height": 266
        },
        "id": "JIRPR5Y5SyLu",
        "outputId": "8079614a-6a3a-4919-94d3-382f8c2af913"
      },
      "execution_count": null,
      "outputs": [
        {
          "output_type": "display_data",
          "data": {
            "text/plain": [
              "<Figure size 1152x288 with 1 Axes>"
            ],
            "image/png": "[encoded data removed]"
          },
          "metadata": {
            "needs_background": "light"
          }
        }
      ]
    },
    {
      "cell_type": "code",
      "source": [
        "print(np.unique(y_train))"
      ],
      "metadata": {
        "colab": {
          "base_uri": "https://localhost:8080/"
        },
        "id": "57SeFGyISyN9",
        "outputId": "367abebb-4b48-4b38-99f5-60bf346e0646"
      },
      "execution_count": null,
      "outputs": [
        {
          "output_type": "stream",
          "name": "stdout",
          "text": [
            "[ 1  2  3  4  5  6  7  8  9 10]\n"
          ]
        }
      ]
    },
    {
      "cell_type": "code",
      "source": [
        "fig, (ax1, ax2, ax3) = plt.subplots(1, 3, sharex=True)\n",
        "\n",
        "fig.suptitle('Class Distribution', fontsize=14, fontweight='bold', y=1.05)\n",
        "\n",
        "ax1.hist(y_train, bins=10)\n",
        "ax1.set_title(\"Training set\")\n",
        "ax1.set_xlim(1, 10)\n",
        "\n",
        "ax2.hist(y_test, color='g', bins=10)\n",
        "ax2.set_title(\"Test set\")\n",
        "\n",
        "ax3.hist(y_extra, color='r', bins=10);\n",
        "ax3.set_title(\"Extra set\");\n",
        "\n",
        "fig.tight_layout()"
      ],
      "metadata": {
        "colab": {
          "base_uri": "https://localhost:8080/",
          "height": 323
        },
        "id": "SHzYJ3EgSyQU",
        "outputId": "9655c4ad-11ae-40dc-b0e8-ab26bdbadedd"
      },
      "execution_count": null,
      "outputs": [
        {
          "output_type": "display_data",
          "data": {
            "text/plain": [
              "<Figure size 1152x288 with 3 Axes>"
            ],
            "image/png": "[encoded data removed]"
          },
          "metadata": {
            "needs_background": "light"
          }
        }
      ]
    },
    {
      "cell_type": "code",
      "source": [
        "y_train[y_train == 10] = 0\n",
        "y_test[y_test == 10] = 0\n",
        "y_extra[y_extra == 10] = 0"
      ],
      "metadata": {
        "id": "yGg_hpaFSySw"
      },
      "execution_count": null,
      "outputs": []
    },
    {
      "cell_type": "code",
      "source": [
        "def balanced_subsample(y, s):\n",
        "    \"\"\"Return a balanced subsample of the population\"\"\"\n",
        "    sample = []\n",
        "    # For every label in the dataset\n",
        "    for label in np.unique(y):\n",
        "        # Get the index of all images with a specific label\n",
        "        images = np.where(y==label)[0]\n",
        "        # Draw a random sample from the images\n",
        "        random_sample = np.random.choice(images, size=s, replace=False)\n",
        "        # Add the random sample to our subsample list\n",
        "        sample += random_sample.tolist()\n",
        "    return sample"
      ],
      "metadata": {
        "id": "jno2k8MbT-t3"
      },
      "execution_count": null,
      "outputs": []
    },
    {
      "cell_type": "code",
      "source": [
        "# Pick 400 samples per class from the training samples\n",
        "train_samples = balanced_subsample(y_train, 400)\n",
        "# Pick 200 samples per class from the extra dataset\n",
        "extra_samples = balanced_subsample(y_extra, 200)\n",
        "\n",
        "X_val, y_val = np.copy(X_train[train_samples]), np.copy(y_train[train_samples])\n",
        "\n",
        "# Remove the samples to avoid duplicates\n",
        "X_train = np.delete(X_train, train_samples, axis=0)\n",
        "y_train = np.delete(y_train, train_samples, axis=0)\n",
        "\n",
        "X_val = np.concatenate([X_val, np.copy(X_extra[extra_samples])])\n",
        "y_val = np.concatenate([y_val, np.copy(y_extra[extra_samples])])\n",
        "\n",
        "# Remove the samples to avoid duplicates\n",
        "X_extra = np.delete(X_extra, extra_samples, axis=0)\n",
        "y_extra = np.delete(y_extra, extra_samples, axis=0)\n",
        "\n",
        "#Combine the training set and extra data set together\n",
        "X_train = np.concatenate([X_train, X_extra])\n",
        "y_train = np.concatenate([y_train, y_extra])\n",
        "X_test, y_test = X_test, y_test\n",
        "\n",
        "print(\"Training\", X_train.shape, y_train.shape)\n",
        "print(\"Test\", X_test.shape, y_test.shape)\n",
        "print('Validation', X_val.shape, y_val.shape)"
      ],
      "metadata": {
        "colab": {
          "base_uri": "https://localhost:8080/"
        },
        "id": "KCO47xPqT-wV",
        "outputId": "39692ac3-ef11-4da0-fc97-2dcc6912883a"
      },
      "execution_count": null,
      "outputs": [
        {
          "output_type": "stream",
          "name": "stdout",
          "text": [
            "Training (598388, 3, 32, 32) (598388, 1)\n",
            "Test (26032, 3, 32, 32) (26032, 1)\n",
            "Validation (6000, 3, 32, 32) (6000, 1)\n"
          ]
        }
      ]
    },
    {
      "cell_type": "code",
      "source": [
        "fig, (ax1, ax2, ax3) = plt.subplots(1, 3, sharex=True)\n",
        "\n",
        "fig.suptitle('Class Distribution', fontsize=14, fontweight='bold', y=1.05)\n",
        "\n",
        "ax1.hist(y_train, bins=10)\n",
        "ax1.set_title(\"Training set\")\n",
        "ax1.set_xlim(0, 9)\n",
        "\n",
        "ax2.hist(y_test, color='g', bins=10)\n",
        "ax2.set_title(\"Test set\")\n",
        "\n",
        "ax3.hist(y_val, color='r', bins=10);\n",
        "ax3.set_title(\"Validation set\");\n",
        "\n",
        "fig.tight_layout()"
      ],
      "metadata": {
        "colab": {
          "base_uri": "https://localhost:8080/",
          "height": 323
        },
        "id": "vCyfwCrIT-yk",
        "outputId": "2b43ff19-cb7e-4a71-d53a-deabb7e75fc7"
      },
      "execution_count": null,
      "outputs": [
        {
          "output_type": "display_data",
          "data": {
            "text/plain": [
              "<Figure size 1152x288 with 3 Axes>"
            ],
            "image/png": "[encoded data removed]"
          },
          "metadata": {
            "needs_background": "light"
          }
        }
      ]
    },
    {
      "cell_type": "code",
      "source": [
        "assert(num_images == X_train.shape[0] + X_test.shape[0] + X_val.shape[0])"
      ],
      "metadata": {
        "id": "LOokvfmoT-1B"
      },
      "execution_count": null,
      "outputs": []
    },
    {
      "cell_type": "code",
      "source": [
        "# Display some samples images from the training set\n",
        "plot(X_train[0])"
      ],
      "metadata": {
        "colab": {
          "base_uri": "https://localhost:8080/",
          "height": 266
        },
        "id": "N0_w9SvVT-3N",
        "outputId": "ec541d20-c016-45c9-b196-8aeb06b28f87"
      },
      "execution_count": null,
      "outputs": [
        {
          "output_type": "display_data",
          "data": {
            "text/plain": [
              "<Figure size 1152x288 with 1 Axes>"
            ],
            "image/png": "[encoded data removed]"
          },
          "metadata": {
            "needs_background": "light"
          }
        }
      ]
    },
    {
      "cell_type": "code",
      "source": [
        "# Display some samples images from the test set\n",
        "plot(X_test[0])"
      ],
      "metadata": {
        "colab": {
          "base_uri": "https://localhost:8080/",
          "height": 266
        },
        "id": "dsqyLZO-T-5k",
        "outputId": "3db2d368-ba28-45f6-f19a-b95ea4c14871"
      },
      "execution_count": null,
      "outputs": [
        {
          "output_type": "display_data",
          "data": {
            "text/plain": [
              "<Figure size 1152x288 with 1 Axes>"
            ],
            "image/png": "[encoded data removed]"
          },
          "metadata": {
            "needs_background": "light"
          }
        }
      ]
    },
    {
      "cell_type": "code",
      "source": [
        "# Display some samples images from the validation set\n",
        "plot(X_val[0])"
      ],
      "metadata": {
        "colab": {
          "base_uri": "https://localhost:8080/",
          "height": 266
        },
        "id": "8ecWxx7rT-7w",
        "outputId": "d1502964-8914-4472-b540-b61720d34132"
      },
      "execution_count": null,
      "outputs": [
        {
          "output_type": "display_data",
          "data": {
            "text/plain": [
              "<Figure size 1152x288 with 1 Axes>"
            ],
            "image/png": "[encoded data removed]"
          },
          "metadata": {
            "needs_background": "light"
          }
        }
      ]
    },
    {
      "cell_type": "code",
      "source": [
        "suffixes = ['B', 'KB', 'MB', 'GB']\n",
        "\n",
        "def humansize(nbytes):\n",
        "    if nbytes == 0: return '0 B'\n",
        "    i = 0\n",
        "    while nbytes >= 1024:\n",
        "        nbytes /= 1024.\n",
        "        i += 1\n",
        "    f = ('%.2f' % nbytes).rstrip('0').rstrip('.')\n",
        "    return '%s %s' % (f, suffixes[i])"
      ],
      "metadata": {
        "id": "zhDG0HdLT-96"
      },
      "execution_count": null,
      "outputs": []
    },
    {
      "cell_type": "code",
      "source": [
        "X_train[:,0,:].shape"
      ],
      "metadata": {
        "colab": {
          "base_uri": "https://localhost:8080/"
        },
        "id": "yvCw7ef0T_AD",
        "outputId": "020d7cc4-f0e3-4984-d9a8-c13befb5f925"
      },
      "execution_count": null,
      "outputs": [
        {
          "output_type": "execute_result",
          "data": {
            "text/plain": [
              "(598388, 32, 32)"
            ]
          },
          "metadata": {},
          "execution_count": 23
        }
      ]
    },
    {
      "cell_type": "code",
      "source": [
        "def rgb2gray(rgb):\n",
        "    gray = 0.2989 *rgb[:,0,:]+ 0.5870 *rgb[:,1,:]+ 0.1140 * rgb[:,2,:]\n",
        "    return gray\n"
      ],
      "metadata": {
        "id": "l7cWYvajSyU9"
      },
      "execution_count": null,
      "outputs": []
    },
    {
      "cell_type": "markdown",
      "source": [
        "refer to [here](https://en.wikipedia.org/wiki/Grayscale#Converting_color_to_grayscale)"
      ],
      "metadata": {
        "id": "JTZJ74oJFl4A"
      }
    },
    {
      "cell_type": "code",
      "source": [
        "train_grayscale = rgb2gray(X_train).astype(np.float32)\n",
        "plt.imshow(train_grayscale[0], cmap='gray')"
      ],
      "metadata": {
        "colab": {
          "base_uri": "https://localhost:8080/",
          "height": 284
        },
        "id": "koJ5XBAkV69_",
        "outputId": "b1576a4f-2b29-47bd-e604-87440ed28c28"
      },
      "execution_count": null,
      "outputs": [
        {
          "output_type": "execute_result",
          "data": {
            "text/plain": [
              "<matplotlib.image.AxesImage at 0x7f02f9152c10>"
            ]
          },
          "metadata": {},
          "execution_count": 25
        },
        {
          "output_type": "display_data",
          "data": {
            "text/plain": [
              "<Figure size 1152x288 with 1 Axes>"
            ],
            "image/png": "[encoded data removed]"
          },
          "metadata": {
            "needs_background": "light"
          }
        }
      ]
    },
    {
      "cell_type": "code",
      "source": [
        "test_grayscale = rgb2gray(X_test).astype(np.float32)\n",
        "plt.imshow(test_grayscale[0], cmap='gray')"
      ],
      "metadata": {
        "colab": {
          "base_uri": "https://localhost:8080/",
          "height": 284
        },
        "id": "uTRD-muDV7Ae",
        "outputId": "5f4b27ef-d269-4618-9b86-b64ecad46f2e"
      },
      "execution_count": null,
      "outputs": [
        {
          "output_type": "execute_result",
          "data": {
            "text/plain": [
              "<matplotlib.image.AxesImage at 0x7f02f918c690>"
            ]
          },
          "metadata": {},
          "execution_count": 26
        },
        {
          "output_type": "display_data",
          "data": {
            "text/plain": [
              "<Figure size 1152x288 with 1 Axes>"
            ],
            "image/png": "[encoded data removed]"
          },
          "metadata": {
            "needs_background": "light"
          }
        }
      ]
    },
    {
      "cell_type": "code",
      "source": [
        "valid_grayscale = rgb2gray(X_val).astype(np.float32)\n",
        "plt.imshow(valid_grayscale[0], cmap='gray')"
      ],
      "metadata": {
        "colab": {
          "base_uri": "https://localhost:8080/",
          "height": 284
        },
        "id": "eVxWgbCqV7C3",
        "outputId": "b64b8151-bb6c-4dba-b63c-fdf81d2cb6e4"
      },
      "execution_count": null,
      "outputs": [
        {
          "output_type": "execute_result",
          "data": {
            "text/plain": [
              "<matplotlib.image.AxesImage at 0x7f02f91a93d0>"
            ]
          },
          "metadata": {},
          "execution_count": 27
        },
        {
          "output_type": "display_data",
          "data": {
            "text/plain": [
              "<Figure size 1152x288 with 1 Axes>"
            ],
            "image/png": "[encoded data removed]"
          },
          "metadata": {
            "needs_background": "light"
          }
        }
      ]
    },
    {
      "cell_type": "code",
      "source": [
        "# Keep the size before convertion\n",
        "size_before = (X_train.nbytes, X_test.nbytes, X_val.nbytes)\n",
        "\n",
        "# Size after transformation\n",
        "size_after = (train_grayscale.nbytes, test_grayscale.nbytes, valid_grayscale.nbytes)\n",
        "\n",
        "print(\"Dimensions\")\n",
        "print(\"Training set\", X_train.shape, train_grayscale.shape)\n",
        "print(\"Test set\", X_test.shape, test_grayscale.shape)\n",
        "print(\"Validation set\", X_val.shape, valid_grayscale.shape)\n",
        "print('')\n",
        "\n",
        "print(\"Data Type\")\n",
        "print(\"Training set\", X_train.dtype, train_grayscale.dtype)\n",
        "print(\"Test set\", X_test.dtype, test_grayscale.dtype)\n",
        "print(\"Validation set\", X_val.dtype, valid_grayscale.dtype)\n",
        "print('')\n",
        "\n",
        "print(\"Dataset Size\")\n",
        "print(\"Training set\", humansize(size_before[0]), humansize(size_after[0]))\n",
        "print(\"Test set\", humansize(size_before[1]), humansize(size_after[1]))\n",
        "print(\"Validation set\", humansize(size_before[2]), humansize(size_after[2]))"
      ],
      "metadata": {
        "colab": {
          "base_uri": "https://localhost:8080/"
        },
        "id": "xQsMQNnJV7FP",
        "outputId": "da02f566-be5b-417d-b953-685fcf53db0f"
      },
      "execution_count": null,
      "outputs": [
        {
          "output_type": "stream",
          "name": "stdout",
          "text": [
            "Dimensions\n",
            "Training set (598388, 3, 32, 32) (598388, 32, 32)\n",
            "Test set (26032, 3, 32, 32) (26032, 32, 32)\n",
            "Validation set (6000, 3, 32, 32) (6000, 32, 32)\n",
            "\n",
            "Data Type\n",
            "Training set uint8 float32\n",
            "Test set uint8 float32\n",
            "Validation set uint8 float32\n",
            "\n",
            "Dataset Size\n",
            "Training set 1.71 GB 2.28 GB\n",
            "Test set 76.27 MB 101.69 MB\n",
            "Validation set 17.58 MB 23.44 MB\n"
          ]
        }
      ]
    },
    {
      "cell_type": "code",
      "source": [
        "y_no1hot_train = y_train\n",
        "y_no1hot_test = y_test\n",
        "y_no1hot_val = y_val"
      ],
      "metadata": {
        "id": "OwCal5jYg897"
      },
      "execution_count": null,
      "outputs": []
    },
    {
      "cell_type": "code",
      "source": [
        "from sklearn.preprocessing import OneHotEncoder\n",
        " \n",
        "# # Fit the OneHotEncoder\n",
        "enc = OneHotEncoder().fit(y_train.reshape(-1, 1))\n",
        "\n",
        "# # Transform the label values to a one-hot-encoding scheme\n",
        "y_train = enc.transform(y_train.reshape(-1, 1)).toarray()\n",
        "y_test = enc.transform(y_test.reshape(-1, 1)).toarray()\n",
        "y_val = enc.transform(y_val.reshape(-1, 1)).toarray()\n",
        "\n",
        "print(\"Training set\", y_train.shape)\n",
        "print(\"Test set\", y_test.shape)\n",
        "print(\"Training set\", y_val.shape)"
      ],
      "metadata": {
        "colab": {
          "base_uri": "https://localhost:8080/"
        },
        "id": "yxaXDxojV7Ho",
        "outputId": "b34e24bf-e4d9-4705-c978-54a1b980b115"
      },
      "execution_count": null,
      "outputs": [
        {
          "output_type": "stream",
          "name": "stdout",
          "text": [
            "Training set (598388, 10)\n",
            "Test set (26032, 10)\n",
            "Training set (6000, 10)\n"
          ]
        }
      ]
    },
    {
      "cell_type": "code",
      "source": [
        "import h5py\n",
        "\n",
        "# Create file\n",
        "h5f = h5py.File('data/SVHN_single.h5', 'w')\n",
        "\n",
        "# Store the datasets\n",
        "h5f.create_dataset('X_train', data=X_train)\n",
        "h5f.create_dataset('y_train', data=y_train)\n",
        "h5f.create_dataset('X_test', data=X_test)\n",
        "h5f.create_dataset('y_test', data=y_test)\n",
        "h5f.create_dataset('X_val', data=X_val)\n",
        "h5f.create_dataset('y_val', data=y_val)\n",
        "h5f.create_dataset('y_no1hot_train', data=y_no1hot_train)\n",
        "h5f.create_dataset('y_no1hot_test', data=y_no1hot_test)\n",
        "h5f.create_dataset('y_y_no1hot_val', data=y_no1hot_val)\n",
        "\n",
        "# Close the file\n",
        "h5f.close()"
      ],
      "metadata": {
        "id": "-DbUEvVCV7J5"
      },
      "execution_count": null,
      "outputs": []
    },
    {
      "cell_type": "code",
      "source": [
        "import h5py\n",
        "\n",
        "# Create file\n",
        "h5f = h5py.File('data/SVHN_single_grey.h5', 'w')\n",
        "\n",
        "# Store the datasets\n",
        "h5f.create_dataset('X_train', data=train_grayscale)\n",
        "h5f.create_dataset('y_train', data=y_train)\n",
        "h5f.create_dataset('X_test', data=test_grayscale)\n",
        "h5f.create_dataset('y_test', data=y_test)\n",
        "h5f.create_dataset('X_val', data=valid_grayscale)\n",
        "h5f.create_dataset('y_val', data=y_val)\n",
        "h5f.create_dataset('y_no1hot_train', data=y_no1hot_train)\n",
        "h5f.create_dataset('y_no1hot_test', data=y_no1hot_test)\n",
        "h5f.create_dataset('y_y_no1hot_val', data=y_no1hot_val)\n",
        "\n",
        "# Close the file\n",
        "h5f.close()"
      ],
      "metadata": {
        "id": "8KgJZwkaV7Mo"
      },
      "execution_count": null,
      "outputs": []
    },
    {
      "cell_type": "markdown",
      "source": [
        "**Pre-processing done**"
      ],
      "metadata": {
        "id": "10eqq9VIF0OL"
      }
    },
    {
      "cell_type": "markdown",
      "source": [
        "**Transfer learning begin:**"
      ],
      "metadata": {
        "id": "vvfaPVheF5Ho"
      }
    },
    {
      "cell_type": "code",
      "source": [
        "import os\n",
        "\n",
        "# third-party library\n",
        "import torch\n",
        "import torch.nn as nn\n",
        "import torch.utils.data as Data\n",
        "import torchvision\n",
        "import matplotlib.pyplot as plt\n",
        "\n",
        "# torch.manual_seed(1)    # reproducible\n",
        "\n",
        "# Hyper Parameters\n",
        "EPOCH = 2             # train the training data n times, to save time, we just train 1 epoch\n",
        "BATCH_SIZE = 50\n",
        "LR = 0.001              # learning rate\n",
        "DOWNLOAD_MNIST = False"
      ],
      "metadata": {
        "id": "3T5xdV-5V7O5"
      },
      "execution_count": 208,
      "outputs": []
    },
    {
      "cell_type": "code",
      "source": [
        "torch.manual_seed(1)\n",
        "# load the feature network\n",
        "feature_net = torch.load('fnet.pt')    \n",
        "# create 3 random images of size 1x28x28\n",
        "images = torch.rand(3, 1, 28, 28)\n",
        "# compute the features for the 3 random images\n",
        "feature_net(images).shape # this shape should be 3x84  \n",
        "#Seems like we use a CNN to extract the features of the Images. Sounds like the purpose of it is like PCA or other similar methods."
      ],
      "metadata": {
        "colab": {
          "base_uri": "https://localhost:8080/"
        },
        "id": "tSSg8JCzlt_g",
        "outputId": "453983f5-76e6-44d1-c71f-5d52a4aaff90"
      },
      "execution_count": 209,
      "outputs": [
        {
          "output_type": "execute_result",
          "data": {
            "text/plain": [
              "torch.Size([3, 84])"
            ]
          },
          "metadata": {},
          "execution_count": 209
        }
      ]
    },
    {
      "cell_type": "code",
      "source": [
        "from torchvision.datasets import MNIST\n",
        "\n",
        "mnist_tr = MNIST('~/.torchvision', train=True, download=True)\n",
        "x_train, y_train = mnist_tr.data, mnist_tr.targets\n",
        "mnist_ts = MNIST('~/.torchvision', train=False, download=True)\n",
        "x_test, y_test = mnist_ts.data, mnist_ts.targets\n",
        "\n",
        "\n",
        "x_train = x_train.reshape(x_train.shape[0], 1,28, 28)  #Reshape the image to input into the feature net successfully\n",
        "x_test = x_test.reshape(x_test.shape[0],1,28, 28)\n",
        "x_train = x_train/255\n",
        "x_test = x_test/255\n",
        "x_train = feature_net(x_train)\n",
        "x_test = feature_net(x_test)\n",
        "print(x_train.shape, y_train.shape)\n",
        "print(x_test.shape, y_test.shape)\n",
        "x_train1nb, y_train1nb = mnist_tr.data, mnist_tr.targets    #Reload the MNIST dataset as the x_train... and pre-process.\n",
        "x_train1nb = x_train1nb.reshape(len(x_train1nb), -1).float()\n",
        "Xx= x_train1nb.detach().numpy()\n",
        "Yy = y_train1nb.detach().numpy()\n",
        "x_test1nb, y_test1nb = mnist_ts.data, mnist_ts.targets\n",
        "x_test1nb = x_test1nb.reshape(len(x_test1nb), -1).float()\n",
        "Xxt= x_test1nb.detach().numpy()\n",
        "Yyt = y_test1nb.detach().numpy()"
      ],
      "metadata": {
        "colab": {
          "base_uri": "https://localhost:8080/"
        },
        "id": "o-ptzfM3V7Rj",
        "outputId": "c79137c7-aa87-4fbc-edb0-0abd3621648c"
      },
      "execution_count": 210,
      "outputs": [
        {
          "output_type": "stream",
          "name": "stdout",
          "text": [
            "torch.Size([60000, 84]) torch.Size([60000])\n",
            "torch.Size([10000, 84]) torch.Size([10000])\n"
          ]
        }
      ]
    },
    {
      "cell_type": "code",
      "source": [
        "import sklearn\n",
        "import time\n",
        "X = x_train.detach().numpy()                 #Pre-process the input to apply NB classifier.\n",
        "Y = y_train.detach().numpy()\n",
        "Xt = x_test.detach().numpy()\n",
        "Yt = y_test.detach().numpy()"
      ],
      "metadata": {
        "id": "JDLUWu1hmRbB"
      },
      "execution_count": 212,
      "outputs": []
    },
    {
      "cell_type": "code",
      "source": [
        "from sklearn.naive_bayes import MultinomialNB     #Take the features extracted in (b) as input\n",
        "MNB = MultinomialNB()\n",
        "start = time.time()\n",
        "MNB.fit(X,Y)\n",
        "end = time.time()\n",
        "print('The training set accuracy is','%.5f'%MNB.score(X,Y))     #MNB1 is for feature net model\n",
        "print('the running time is',end-start)"
      ],
      "metadata": {
        "colab": {
          "base_uri": "https://localhost:8080/"
        },
        "id": "44s2Pe_6mReO",
        "outputId": "135523ba-935a-4a64-cfa9-a14027485644"
      },
      "execution_count": 215,
      "outputs": [
        {
          "output_type": "stream",
          "name": "stdout",
          "text": [
            "The training set accuracy is 0.99558\n",
            "the running time is 0.040328264236450195\n"
          ]
        }
      ]
    },
    {
      "cell_type": "code",
      "source": [
        "from sklearn.naive_bayes import MultinomialNB\n",
        "MNB2 = MultinomialNB()              \n",
        "MNB2.fit(Xx,Yy)\n",
        "print('The training set accuracy is','%.5f'%MNB2.score(Xx,Yy))        #MNB2 is for simple model"
      ],
      "metadata": {
        "colab": {
          "base_uri": "https://localhost:8080/"
        },
        "id": "lMCofwfpZa9R",
        "outputId": "3d681566-b4bd-4c4d-f3e5-3499a8f0046a"
      },
      "execution_count": 216,
      "outputs": [
        {
          "output_type": "stream",
          "name": "stdout",
          "text": [
            "The training set accuracy is 0.82528\n"
          ]
        }
      ]
    },
    {
      "cell_type": "code",
      "source": [
        "import h5py\n",
        "# Open the file as readonly\n",
        "h5f = h5py.File('data/SVHN_single_grey.h5', 'r')\n",
        "\n",
        "# Load the training, test and validation set\n",
        "X_train = h5f['X_train'][:]\n",
        "y_train = h5f['y_no1hot_train'][:]\n",
        "X_test = h5f['X_test'][:]\n",
        "y_test = h5f['y_no1hot_test'][:]\n",
        "X_val = h5f['X_val'][:]\n",
        "y_val = h5f['y_y_no1hot_val'][:]\n",
        "\n",
        "# Close this file\n",
        "h5f.close()\n",
        "\n",
        "print('Training set', X_train.shape, y_train.shape)\n",
        "print('Validation set', X_val.shape, y_val.shape)\n",
        "print('Test set', X_test.shape, y_test.shape)"
      ],
      "metadata": {
        "colab": {
          "base_uri": "https://localhost:8080/"
        },
        "id": "5kwrhY94Za_j",
        "outputId": "f9ddb5fa-2e42-4241-8918-cc42dfb8dad4"
      },
      "execution_count": 239,
      "outputs": [
        {
          "output_type": "stream",
          "name": "stdout",
          "text": [
            "Training set (598388, 32, 32) (598388, 1)\n",
            "Validation set (6000, 32, 32) (6000, 1)\n",
            "Test set (26032, 32, 32) (26032, 1)\n"
          ]
        }
      ]
    },
    {
      "cell_type": "code",
      "source": [
        "y_train.shape"
      ],
      "metadata": {
        "colab": {
          "base_uri": "https://localhost:8080/"
        },
        "id": "MQ94Fy-WDRmj",
        "outputId": "7ff3dfc9-385f-49de-cbf5-b29b878fef19"
      },
      "execution_count": 240,
      "outputs": [
        {
          "output_type": "execute_result",
          "data": {
            "text/plain": [
              "(598388, 1)"
            ]
          },
          "metadata": {},
          "execution_count": 240
        }
      ]
    },
    {
      "cell_type": "code",
      "source": [
        "X_train = X_train[:,2:30, 2:30]\n",
        "X_test = X_test[:,2:30, 2:30]\n",
        "X_val = X_val[:,2:30, 2:30]"
      ],
      "metadata": {
        "id": "8UO1XXN8dlD_"
      },
      "execution_count": 241,
      "outputs": []
    },
    {
      "cell_type": "code",
      "source": [
        "x_train2nb = X_train.reshape(len(X_train), -1)"
      ],
      "metadata": {
        "id": "NFyocahRcjIE"
      },
      "execution_count": 242,
      "outputs": []
    },
    {
      "cell_type": "code",
      "source": [
        "x_train2nb"
      ],
      "metadata": {
        "colab": {
          "base_uri": "https://localhost:8080/"
        },
        "id": "j3ExndnFeL6_",
        "outputId": "9939460d-262a-4a92-d78b-a4db8ffb0989"
      },
      "execution_count": 243,
      "outputs": [
        {
          "output_type": "execute_result",
          "data": {
            "text/plain": [
              "array([[ 17.3834,  31.171 ,  61.6796, ..., 102.0085, 101.1396, 102.0516],\n",
              "       [ 53.7389,  29.3113,  28.7998, ..., 100.2429, 103.1178, 101.9376],\n",
              "       [ 49.1838,  49.9665,  53.906 , ..., 131.1378, 128.9208, 127.7638],\n",
              "       ...,\n",
              "       [191.138 , 191.138 , 191.9099, ..., 189.2692, 187.4974, 186.3126],\n",
              "       [192.0131, 193.013 , 193.241 , ..., 189.0134, 188.1275, 187.1276],\n",
              "       [194.2409, 193.5399, 193.5399, ..., 192.8389, 194.1269, 194.1269]],\n",
              "      dtype=float32)"
            ]
          },
          "metadata": {},
          "execution_count": 243
        }
      ]
    },
    {
      "cell_type": "code",
      "source": [
        "print('The training set accuracy is','%.5f'%MNB2.score(x_train2nb,y_no1hot_train))"
      ],
      "metadata": {
        "colab": {
          "base_uri": "https://localhost:8080/"
        },
        "id": "np9eO3KQmyQV",
        "outputId": "e8c2ae9b-ac1f-47d0-9437-bcec73062dd5"
      },
      "execution_count": 244,
      "outputs": [
        {
          "output_type": "stream",
          "name": "stdout",
          "text": [
            "The training set accuracy is 0.13466\n"
          ]
        }
      ]
    },
    {
      "cell_type": "code",
      "source": [
        "x_train2nb = torch.Tensor(X_train.reshape(X_train.shape[0], 1,28, 28))\n",
        "x_train2nb = x_train2nb/255"
      ],
      "metadata": {
        "id": "SA4iqG4fnHTE"
      },
      "execution_count": 245,
      "outputs": []
    },
    {
      "cell_type": "code",
      "source": [
        "x_train2nbe = feature_net(x_train2nb[100000:110000])\n",
        "x_train2nbe = x_train2nbe.detach().numpy()"
      ],
      "metadata": {
        "id": "pt_QvDAeHXLN"
      },
      "execution_count": 255,
      "outputs": []
    },
    {
      "cell_type": "code",
      "source": [
        "x_train2nbt = feature_net(x_train2nb[0:10000])\n",
        "x_train2nbt = x_train2nbt.detach().numpy()"
      ],
      "metadata": {
        "id": "lNteDMbTmo1x"
      },
      "execution_count": 252,
      "outputs": []
    },
    {
      "cell_type": "code",
      "source": [
        "x_train2nbt.shape"
      ],
      "metadata": {
        "colab": {
          "base_uri": "https://localhost:8080/"
        },
        "id": "0F-iRuUBICcZ",
        "outputId": "07037a61-c2b4-4c64-c4fd-e097e7ca1e84"
      },
      "execution_count": 251,
      "outputs": [
        {
          "output_type": "execute_result",
          "data": {
            "text/plain": [
              "(598388, 1, 28, 28)"
            ]
          },
          "metadata": {},
          "execution_count": 251
        }
      ]
    },
    {
      "cell_type": "code",
      "source": [
        "print('The training set accuracy is','%.5f'%MNB.score(x_train2nbt,y_no1hot_train[0:10000]))"
      ],
      "metadata": {
        "colab": {
          "base_uri": "https://localhost:8080/"
        },
        "id": "6O2I9SixjYcL",
        "outputId": "fb3c68bf-b2a3-473c-e5b7-1b46693913fa"
      },
      "execution_count": 253,
      "outputs": [
        {
          "output_type": "stream",
          "name": "stdout",
          "text": [
            "The training set accuracy is 0.17760\n"
          ]
        }
      ]
    },
    {
      "cell_type": "code",
      "source": [
        "print('The training set accuracy is','%.5f'%MNB.score(x_train2nbe,y_no1hot_train[100000:110000]))"
      ],
      "metadata": {
        "colab": {
          "base_uri": "https://localhost:8080/"
        },
        "id": "r4m0i8HmHF8K",
        "outputId": "1c65b41f-919c-470c-ae65-c9d77ac54bc3"
      },
      "execution_count": 256,
      "outputs": [
        {
          "output_type": "stream",
          "name": "stdout",
          "text": [
            "The training set accuracy is 0.19850\n"
          ]
        }
      ]
    },
    {
      "cell_type": "code",
      "source": [
        "# Mnist digits dataset\n",
        "if not(os.path.exists('./mnist/')) or not os.listdir('./mnist/'):\n",
        "    # not mnist dir or mnist is empyt dir\n",
        "    DOWNLOAD_MNIST = True\n",
        "\n",
        "train_data = torchvision.datasets.MNIST(\n",
        "    root='./mnist/',\n",
        "    train=True,                                     # this is training data\n",
        "    transform=torchvision.transforms.ToTensor(),    # Converts a PIL.Image or numpy.ndarray to\n",
        "                                                    # torch.FloatTensor of shape (C x H x W) and normalize in the range [0.0, 1.0]\n",
        "    download=DOWNLOAD_MNIST,\n",
        ")\n",
        "\n",
        "# plot one example\n",
        "# print(train_data.train_data.size())                 # (60000, 28, 28)\n",
        "# print(train_data.train_labels.size())               # (60000)\n",
        "for i in range(5):\n",
        "    plt.imshow(train_data.train_data[i].numpy(), cmap='gray')\n",
        "    plt.title('%i' % train_data.train_labels[i])\n",
        "    plt.show()\n",
        "\n",
        "# Data Loader for easy mini-batch return in training, the image batch shape will be (50, 1, 28, 28)\n",
        "train_loader = Data.DataLoader(dataset=train_data, batch_size=BATCH_SIZE, shuffle=True)\n",
        "\n",
        "# pick 2000 samples to speed up testing\n",
        "test_data = torchvision.datasets.MNIST(root='./mnist/', train=False)\n",
        "test_x = torch.unsqueeze(test_data.test_data, dim=1).type(torch.FloatTensor)[:2000]/255.   # shape from (2000, 28, 28) to (2000, 1, 28, 28), value in range(0,1)\n",
        "test_y = test_data.test_labels[:2000]"
      ],
      "metadata": {
        "colab": {
          "base_uri": "https://localhost:8080/",
          "height": 1000
        },
        "id": "j3Rss5HhpzUX",
        "outputId": "7e160a6a-6c2c-4947-8e1d-26748ef8c646"
      },
      "execution_count": null,
      "outputs": [
        {
          "output_type": "stream",
          "name": "stderr",
          "text": [
            "/usr/local/lib/python3.7/dist-packages/torchvision/datasets/mnist.py:75: UserWarning: train_data has been renamed data\n",
            "  warnings.warn(\"train_data has been renamed data\")\n",
            "/usr/local/lib/python3.7/dist-packages/torchvision/datasets/mnist.py:65: UserWarning: train_labels has been renamed targets\n",
            "  warnings.warn(\"train_labels has been renamed targets\")\n"
          ]
        },
        {
          "output_type": "display_data",
          "data": {
            "text/plain": [
              "<Figure size 432x288 with 1 Axes>"
            ],
            "image/png": "[encoded data removed]"
          },
          "metadata": {
            "needs_background": "light"
          }
        },
        {
          "output_type": "display_data",
          "data": {
            "text/plain": [
              "<Figure size 432x288 with 1 Axes>"
            ],
            "image/png": "[encoded data removed]"
          },
          "metadata": {
            "needs_background": "light"
          }
        },
        {
          "output_type": "display_data",
          "data": {
            "text/plain": [
              "<Figure size 432x288 with 1 Axes>"
            ],
            "image/png": "[encoded data removed]"
          },
          "metadata": {
            "needs_background": "light"
          }
        },
        {
          "output_type": "display_data",
          "data": {
            "text/plain": [
              "<Figure size 432x288 with 1 Axes>"
            ],
            "image/png": "[encoded data removed]"
          },
          "metadata": {
            "needs_background": "light"
          }
        },
        {
          "output_type": "display_data",
          "data": {
            "text/plain": [
              "<Figure size 432x288 with 1 Axes>"
            ],
            "image/png": "[encoded data removed]"
          },
          "metadata": {
            "needs_background": "light"
          }
        },
        {
          "output_type": "stream",
          "name": "stderr",
          "text": [
            "/usr/local/lib/python3.7/dist-packages/torchvision/datasets/mnist.py:80: UserWarning: test_data has been renamed data\n",
            "  warnings.warn(\"test_data has been renamed data\")\n",
            "/usr/local/lib/python3.7/dist-packages/torchvision/datasets/mnist.py:70: UserWarning: test_labels has been renamed targets\n",
            "  warnings.warn(\"test_labels has been renamed targets\")\n"
          ]
        }
      ]
    },
    {
      "cell_type": "code",
      "source": [
        "class CNN(nn.Module):\n",
        "    def __init__(self):\n",
        "        super(CNN, self).__init__()\n",
        "        self.conv1 = nn.Sequential(         # input shape (1, 28, 28)\n",
        "            nn.Conv2d(\n",
        "                in_channels=1,              # input height\n",
        "                out_channels=16,            # n_filters\n",
        "                kernel_size=5,              # filter size\n",
        "                stride=1,                   # filter movement/step\n",
        "                padding=2,                  # if want same width and length of this image after con2d, padding=(kernel_size-1)/2 if stride=1\n",
        "            ),                              # output shape (16, 28, 28)\n",
        "            nn.ReLU(),                      # activation\n",
        "            nn.MaxPool2d(kernel_size=2),    # choose max value in 2x2 area, output shape (16, 14, 14)\n",
        "        )\n",
        "        self.conv2 = nn.Sequential(         # input shape (16, 14, 14)\n",
        "            nn.Conv2d(16, 32, 5, 1, 2),     # output shape (32, 14, 14)\n",
        "            nn.ReLU(),                      # activation\n",
        "            nn.MaxPool2d(2),                # output shape (32, 7, 7)\n",
        "        )\n",
        "        self.out = nn.Linear(32 * 7 * 7, 10)   # fully connected layer, output 10 classes\n",
        "\n",
        "    def forward(self, x):\n",
        "        x = self.conv1(x)\n",
        "        x = self.conv2(x)\n",
        "        x = x.view(x.size(0), -1)           # flatten the output of conv2 to (batch_size, 32 * 7 * 7)\n",
        "        output = self.out(x)\n",
        "        return output, x    # return x for visualization"
      ],
      "metadata": {
        "id": "GkBmVn-6ZbEl"
      },
      "execution_count": null,
      "outputs": []
    },
    {
      "cell_type": "code",
      "source": [
        "cnn = CNN()\n",
        "print(cnn)  # net architecture\n",
        "\n",
        "optimizer = torch.optim.Adam(cnn.parameters(), lr=LR)   # optimize all cnn parameters\n",
        "loss_func = nn.CrossEntropyLoss()                       # the target label is not one-hotted\n",
        "\n",
        "\n",
        "for epoch in range(2):\n",
        "    for step, (b_x, b_y) in enumerate(train_loader):   # gives batch data, normalize x when iterate train_loader\n",
        "\n",
        "        output = cnn(b_x)[0]               # cnn output\n",
        "        loss = loss_func(output, b_y)   # cross entropy loss\n",
        "        optimizer.zero_grad()           # clear gradients for this training step\n",
        "        loss.backward()                 # backpropagation, compute gradients\n",
        "        optimizer.step()                # apply gradients\n",
        "\n",
        "        if step % 50 == 0:\n",
        "            test_output, last_layer = cnn(test_x)\n",
        "            pred_y = torch.max(test_output, 1)[1].data.squeeze().numpy()\n",
        "            accuracy = float((pred_y == test_y.data.numpy()).astype(int).sum()) / float(test_y.size(0))\n",
        "            print('Epoch: ', epoch, '| train loss: %.4f' % loss.data.numpy(), '| test accuracy: %.4f' % accuracy)\n",
        "#             if HAS_SK:\n",
        "#                 # Visualization of trained flatten layer (T-SNE)\n",
        "#                 tsne = TSNE(perplexity=30, n_components=2, init='pca', n_iter=5000)\n",
        "#                 plot_only = 500\n",
        "#                 low_dim_embs = tsne.fit_transform(last_layer.data.numpy()[:plot_only, :])\n",
        "#                 labels = test_y.numpy()[:plot_only]\n",
        "#                 plot_with_labels(low_dim_embs, labels)\n",
        "# plt.ioff()"
      ],
      "metadata": {
        "colab": {
          "base_uri": "https://localhost:8080/"
        },
        "id": "21xWYyjLZbG7",
        "outputId": "ee5e8c22-4e81-4a87-e363-fd774e273e1d"
      },
      "execution_count": null,
      "outputs": [
        {
          "output_type": "stream",
          "name": "stdout",
          "text": [
            "CNN(\n",
            "  (conv1): Sequential(\n",
            "    (0): Conv2d(1, 16, kernel_size=(5, 5), stride=(1, 1), padding=(2, 2))\n",
            "    (1): ReLU()\n",
            "    (2): MaxPool2d(kernel_size=2, stride=2, padding=0, dilation=1, ceil_mode=False)\n",
            "  )\n",
            "  (conv2): Sequential(\n",
            "    (0): Conv2d(16, 32, kernel_size=(5, 5), stride=(1, 1), padding=(2, 2))\n",
            "    (1): ReLU()\n",
            "    (2): MaxPool2d(kernel_size=2, stride=2, padding=0, dilation=1, ceil_mode=False)\n",
            "  )\n",
            "  (out): Linear(in_features=1568, out_features=10, bias=True)\n",
            ")\n",
            "Epoch:  0 | train loss: 2.3044 | test accuracy: 0.1300\n",
            "Epoch:  0 | train loss: 0.6795 | test accuracy: 0.8245\n",
            "Epoch:  0 | train loss: 0.3999 | test accuracy: 0.8960\n",
            "Epoch:  0 | train loss: 0.2499 | test accuracy: 0.9045\n",
            "Epoch:  0 | train loss: 0.3463 | test accuracy: 0.9265\n",
            "Epoch:  0 | train loss: 0.0731 | test accuracy: 0.9425\n",
            "Epoch:  0 | train loss: 0.1174 | test accuracy: 0.9480\n",
            "Epoch:  0 | train loss: 0.0618 | test accuracy: 0.9490\n",
            "Epoch:  0 | train loss: 0.0396 | test accuracy: 0.9605\n",
            "Epoch:  0 | train loss: 0.1418 | test accuracy: 0.9645\n",
            "Epoch:  0 | train loss: 0.0513 | test accuracy: 0.9635\n",
            "Epoch:  0 | train loss: 0.0332 | test accuracy: 0.9675\n",
            "Epoch:  0 | train loss: 0.2036 | test accuracy: 0.9720\n",
            "Epoch:  0 | train loss: 0.0470 | test accuracy: 0.9685\n",
            "Epoch:  0 | train loss: 0.0742 | test accuracy: 0.9765\n",
            "Epoch:  0 | train loss: 0.0503 | test accuracy: 0.9700\n",
            "Epoch:  0 | train loss: 0.0432 | test accuracy: 0.9670\n",
            "Epoch:  0 | train loss: 0.0519 | test accuracy: 0.9685\n",
            "Epoch:  0 | train loss: 0.0198 | test accuracy: 0.9705\n",
            "Epoch:  0 | train loss: 0.0584 | test accuracy: 0.9770\n",
            "Epoch:  0 | train loss: 0.1132 | test accuracy: 0.9740\n",
            "Epoch:  0 | train loss: 0.2087 | test accuracy: 0.9685\n",
            "Epoch:  0 | train loss: 0.0081 | test accuracy: 0.9765\n",
            "Epoch:  0 | train loss: 0.0189 | test accuracy: 0.9715\n",
            "Epoch:  1 | train loss: 0.0254 | test accuracy: 0.9765\n",
            "Epoch:  1 | train loss: 0.0151 | test accuracy: 0.9800\n",
            "Epoch:  1 | train loss: 0.0030 | test accuracy: 0.9755\n",
            "Epoch:  1 | train loss: 0.0157 | test accuracy: 0.9780\n",
            "Epoch:  1 | train loss: 0.0221 | test accuracy: 0.9770\n",
            "Epoch:  1 | train loss: 0.1292 | test accuracy: 0.9755\n",
            "Epoch:  1 | train loss: 0.0808 | test accuracy: 0.9780\n",
            "Epoch:  1 | train loss: 0.0168 | test accuracy: 0.9790\n",
            "Epoch:  1 | train loss: 0.0102 | test accuracy: 0.9790\n",
            "Epoch:  1 | train loss: 0.0741 | test accuracy: 0.9825\n",
            "Epoch:  1 | train loss: 0.0224 | test accuracy: 0.9820\n",
            "Epoch:  1 | train loss: 0.0879 | test accuracy: 0.9845\n",
            "Epoch:  1 | train loss: 0.0274 | test accuracy: 0.9855\n",
            "Epoch:  1 | train loss: 0.0164 | test accuracy: 0.9830\n",
            "Epoch:  1 | train loss: 0.0423 | test accuracy: 0.9795\n",
            "Epoch:  1 | train loss: 0.0038 | test accuracy: 0.9845\n",
            "Epoch:  1 | train loss: 0.0040 | test accuracy: 0.9860\n",
            "Epoch:  1 | train loss: 0.0025 | test accuracy: 0.9780\n",
            "Epoch:  1 | train loss: 0.1773 | test accuracy: 0.9805\n",
            "Epoch:  1 | train loss: 0.1029 | test accuracy: 0.9820\n",
            "Epoch:  1 | train loss: 0.0342 | test accuracy: 0.9795\n",
            "Epoch:  1 | train loss: 0.1198 | test accuracy: 0.9815\n",
            "Epoch:  1 | train loss: 0.1732 | test accuracy: 0.9840\n",
            "Epoch:  1 | train loss: 0.0112 | test accuracy: 0.9830\n"
          ]
        }
      ]
    },
    {
      "cell_type": "code",
      "source": [
        "# print 10 predictions from test data\n",
        "test_output, _ = cnn(test_x[:30])\n",
        "pred_y = torch.max(test_output, 1)[1].data.numpy().squeeze()\n",
        "print(pred_y, 'prediction number')\n",
        "print(test_y[:30].numpy(), 'real number')"
      ],
      "metadata": {
        "colab": {
          "base_uri": "https://localhost:8080/"
        },
        "id": "gcqs_c7AZbJS",
        "outputId": "ed70d18c-3409-46a3-f2d8-a8494d22b26c"
      },
      "execution_count": null,
      "outputs": [
        {
          "output_type": "stream",
          "name": "stdout",
          "text": [
            "[7 2 1 0 4 1 4 9 5 9 0 6 9 0 1 5 9 7 3 4 9 6 6 5 4 0 7 4 0 1] prediction number\n",
            "[7 2 1 0 4 1 4 9 5 9 0 6 9 0 1 5 9 7 3 4 9 6 6 5 4 0 7 4 0 1] real number\n"
          ]
        }
      ]
    },
    {
      "cell_type": "code",
      "source": [
        "torch.save(cnn, \"mnist_model.pth\")"
      ],
      "metadata": {
        "id": "Z66KVQD_ZbLk",
        "colab": {
          "base_uri": "https://localhost:8080/",
          "height": 175
        },
        "outputId": "41546bc6-d56b-4b2f-e6b0-4952ac60b10f"
      },
      "execution_count": 157,
      "outputs": [
        {
          "output_type": "error",
          "ename": "NameError",
          "evalue": "ignored",
          "traceback": [
            "\u001b[0;31m---------------------------------------------------------------------------\u001b[0m",
            "\u001b[0;31mNameError\u001b[0m                                 Traceback (most recent call last)",
            "\u001b[0;32m<ipython-input-157-5af9f9a05759>\u001b[0m in \u001b[0;36m<module>\u001b[0;34m()\u001b[0m\n\u001b[0;32m----> 1\u001b[0;31m \u001b[0mtorch\u001b[0m\u001b[0;34m.\u001b[0m\u001b[0msave\u001b[0m\u001b[0;34m(\u001b[0m\u001b[0mcnn\u001b[0m\u001b[0;34m,\u001b[0m \u001b[0;34m\"mnist_model.pth\"\u001b[0m\u001b[0;34m)\u001b[0m\u001b[0;34m\u001b[0m\u001b[0;34m\u001b[0m\u001b[0m\n\u001b[0m",
            "\u001b[0;31mNameError\u001b[0m: name 'cnn' is not defined"
          ]
        }
      ]
    },
    {
      "cell_type": "code",
      "source": [
        "del cnn"
      ],
      "metadata": {
        "id": "SNH-GEPBZbOI",
        "colab": {
          "base_uri": "https://localhost:8080/",
          "height": 175
        },
        "outputId": "0b94b064-79d0-47bb-9c35-f2b50f004c55"
      },
      "execution_count": 156,
      "outputs": [
        {
          "output_type": "error",
          "ename": "NameError",
          "evalue": "ignored",
          "traceback": [
            "\u001b[0;31m---------------------------------------------------------------------------\u001b[0m",
            "\u001b[0;31mNameError\u001b[0m                                 Traceback (most recent call last)",
            "\u001b[0;32m<ipython-input-156-d54bfcad36c3>\u001b[0m in \u001b[0;36m<module>\u001b[0;34m()\u001b[0m\n\u001b[0;32m----> 1\u001b[0;31m \u001b[0;32mdel\u001b[0m \u001b[0mcnn\u001b[0m\u001b[0;34m\u001b[0m\u001b[0;34m\u001b[0m\u001b[0m\n\u001b[0m",
            "\u001b[0;31mNameError\u001b[0m: name 'cnn' is not defined"
          ]
        }
      ]
    },
    {
      "cell_type": "code",
      "source": [
        "import os\n",
        "\n",
        "# third-party library\n",
        "import torch\n",
        "import torch.nn as nn\n",
        "import torch.utils.data as Data\n",
        "import torchvision\n",
        "import matplotlib.pyplot as plt\n",
        "\n",
        "# torch.manual_seed(1)    # reproducible\n",
        "\n",
        "# Hyper Parameters\n",
        "EPOCH = 10             # train the training data n times, to save time, we just train 1 epoch\n",
        "BATCH_SIZE = 50\n",
        "LR = 0.001              # learning rate"
      ],
      "metadata": {
        "id": "JPEGJzOyZbQc"
      },
      "execution_count": 158,
      "outputs": []
    },
    {
      "cell_type": "code",
      "source": [
        "model = torch.load(\"mnist_model.pth\") "
      ],
      "metadata": {
        "id": "_tScnhduZbSs"
      },
      "execution_count": 159,
      "outputs": []
    },
    {
      "cell_type": "code",
      "source": [
        "print(model)"
      ],
      "metadata": {
        "colab": {
          "base_uri": "https://localhost:8080/"
        },
        "id": "WUl1GlEzZbU3",
        "outputId": "421a056f-63bf-4c18-b615-d6eb9db5c676"
      },
      "execution_count": 160,
      "outputs": [
        {
          "output_type": "stream",
          "name": "stdout",
          "text": [
            "CNN(\n",
            "  (conv1): Sequential(\n",
            "    (0): Conv2d(1, 16, kernel_size=(5, 5), stride=(1, 1), padding=(2, 2))\n",
            "    (1): ReLU()\n",
            "    (2): MaxPool2d(kernel_size=2, stride=2, padding=0, dilation=1, ceil_mode=False)\n",
            "  )\n",
            "  (conv2): Sequential(\n",
            "    (0): Conv2d(16, 32, kernel_size=(5, 5), stride=(1, 1), padding=(2, 2))\n",
            "    (1): ReLU()\n",
            "    (2): MaxPool2d(kernel_size=2, stride=2, padding=0, dilation=1, ceil_mode=False)\n",
            "  )\n",
            "  (out): Linear(in_features=1568, out_features=10, bias=True)\n",
            ")\n"
          ]
        }
      ]
    },
    {
      "cell_type": "code",
      "source": [
        "for param in model.conv1.parameters():             # freeze the parameters\n",
        "    param.requires_grad = False\n",
        "    \n",
        "for param in model.conv2.parameters():\n",
        "    param.requires_grad = False"
      ],
      "metadata": {
        "id": "bj1wVhyDqfyk"
      },
      "execution_count": 161,
      "outputs": []
    },
    {
      "cell_type": "code",
      "source": [
        "import os\n",
        "import time\n",
        "import h5py\n",
        "import numpy as np"
      ],
      "metadata": {
        "id": "yQk3Zj9tqf06"
      },
      "execution_count": 162,
      "outputs": []
    },
    {
      "cell_type": "code",
      "source": [
        "# Open the file as readonly\n",
        "h5f = h5py.File('data/SVHN_single_grey.h5', 'r')\n",
        "\n",
        "# Load the training, test and validation set\n",
        "X_train = h5f['X_train'][:]\n",
        "y_train = h5f['y_no1hot_train'][:]\n",
        "X_test = h5f['X_test'][:]\n",
        "y_test = h5f['y_no1hot_test'][:]\n",
        "X_val = h5f['X_val'][:]\n",
        "y_val = h5f['y_y_no1hot_val'][:]\n",
        "\n",
        "# Close this file\n",
        "h5f.close()\n",
        "\n",
        "print('Training set', X_train.shape, y_train.shape)\n",
        "print('Validation set', X_val.shape, y_val.shape)\n",
        "print('Test set', X_test.shape, y_test.shape)"
      ],
      "metadata": {
        "colab": {
          "base_uri": "https://localhost:8080/"
        },
        "id": "mnZy5UEtruCh",
        "outputId": "18a258c4-580d-4b97-91ae-8360d383e3f0"
      },
      "execution_count": 163,
      "outputs": [
        {
          "output_type": "stream",
          "name": "stdout",
          "text": [
            "Training set (598388, 32, 32) (598388, 1)\n",
            "Validation set (6000, 32, 32) (6000, 1)\n",
            "Test set (26032, 32, 32) (26032, 1)\n"
          ]
        }
      ]
    },
    {
      "cell_type": "code",
      "source": [
        "y_train = y_train.squeeze()\n",
        "y_test = y_test.squeeze()\n",
        "y_val = y_val.squeeze()"
      ],
      "metadata": {
        "id": "Lq5NxsmTs3b9"
      },
      "execution_count": 164,
      "outputs": []
    },
    {
      "cell_type": "code",
      "source": [
        "y_train[1]"
      ],
      "metadata": {
        "colab": {
          "base_uri": "https://localhost:8080/"
        },
        "id": "yv5Vwk5ZvixN",
        "outputId": "c78d8d51-8f74-4206-af3d-1dc034ba3684"
      },
      "execution_count": 165,
      "outputs": [
        {
          "output_type": "execute_result",
          "data": {
            "text/plain": [
              "9"
            ]
          },
          "metadata": {},
          "execution_count": 165
        }
      ]
    },
    {
      "cell_type": "code",
      "source": [
        "for i in range(5):\n",
        "    plt.imshow(X_train[i][2:30, 2:30], cmap='gray')\n",
        "    plt.title('%i' % y_train[i])\n",
        "    plt.show()"
      ],
      "metadata": {
        "colab": {
          "base_uri": "https://localhost:8080/",
          "height": 1000
        },
        "id": "SSwyVc1Isupk",
        "outputId": "879d4672-7db2-479d-b3b1-974e944770ac"
      },
      "execution_count": 166,
      "outputs": [
        {
          "output_type": "display_data",
          "data": {
            "text/plain": [
              "<Figure size 432x288 with 1 Axes>"
            ],
            "image/png": "[encoded data removed]"
          },
          "metadata": {
            "needs_background": "light"
          }
        },
        {
          "output_type": "display_data",
          "data": {
            "text/plain": [
              "<Figure size 432x288 with 1 Axes>"
            ],
            "image/png": "[encoded data removed]"
          },
          "metadata": {
            "needs_background": "light"
          }
        },
        {
          "output_type": "display_data",
          "data": {
            "text/plain": [
              "<Figure size 432x288 with 1 Axes>"
            ],
            "image/png": "[encoded data removed]"
          },
          "metadata": {
            "needs_background": "light"
          }
        },
        {
          "output_type": "display_data",
          "data": {
            "text/plain": [
              "<Figure size 432x288 with 1 Axes>"
            ],
            "image/png": "[encoded data removed]"
          },
          "metadata": {
            "needs_background": "light"
          }
        },
        {
          "output_type": "display_data",
          "data": {
            "text/plain": [
              "<Figure size 432x288 with 1 Axes>"
            ],
            "image/png": "[encoded data removed]"
          },
          "metadata": {
            "needs_background": "light"
          }
        }
      ]
    },
    {
      "cell_type": "code",
      "source": [
        "X_train = X_train[:,2:30, 2:30]\n",
        "X_test = X_test[:,2:30, 2:30]\n",
        "X_val = X_val[:,2:30, 2:30]"
      ],
      "metadata": {
        "id": "ahZvjfP5rzPq"
      },
      "execution_count": 167,
      "outputs": []
    },
    {
      "cell_type": "code",
      "source": [
        "X_train = np.expand_dims(X_train, axis=1)\n",
        "X_test = np.expand_dims(X_test, axis=1)\n",
        "X_val = np.expand_dims(X_val, axis=1)"
      ],
      "metadata": {
        "id": "MXY1G_mOqf3J"
      },
      "execution_count": 168,
      "outputs": []
    },
    {
      "cell_type": "code",
      "source": [
        "# # Calculate the mean on the training data\n",
        "# train_mean = np.mean(X_train, axis=0)\n",
        "\n",
        "# # Calculate the std on the training data\n",
        "# train_std = np.std(X_train, axis=0)\n",
        "\n",
        "# # Subtract it equally from all splits\n",
        "# X_train = (X_train - train_mean) / train_std\n",
        "# X_test = (X_test - train_mean)  / train_std\n",
        "# X_val = (train_mean - X_val) / train_std\n",
        "X_train = X_train/255\n",
        "X_test = X_test/255\n",
        "X_val = X_val/255"
      ],
      "metadata": {
        "id": "J4CGNM9zqf5W"
      },
      "execution_count": 169,
      "outputs": []
    },
    {
      "cell_type": "code",
      "source": [
        "from torch.utils.data import Dataset, DataLoader\n",
        "\n",
        "class MyDataset(Dataset):\n",
        "    def __init__(self, data, target, transform=None):\n",
        "        self.data = torch.from_numpy(data).float()\n",
        "        self.target = torch.from_numpy(target).long()\n",
        "        self.transform = transform\n",
        "        \n",
        "    def __getitem__(self, index):\n",
        "        x = self.data[index]\n",
        "        y = self.target[index]\n",
        "        \n",
        "        if self.transform:\n",
        "            x = self.transform(x)\n",
        "        \n",
        "        return x, y\n",
        "    \n",
        "    def __len__(self):\n",
        "        return len(self.data)\n"
      ],
      "metadata": {
        "id": "D1Cn-2sqqf7q"
      },
      "execution_count": 170,
      "outputs": []
    },
    {
      "cell_type": "code",
      "source": [
        "train_dataset = MyDataset(X_train, y_train)\n",
        "train_loader = DataLoader(\n",
        "    train_dataset,\n",
        "    batch_size=64,\n",
        "    shuffle=True,\n",
        ")"
      ],
      "metadata": {
        "id": "T5uy3Mlgqf98"
      },
      "execution_count": 171,
      "outputs": []
    },
    {
      "cell_type": "code",
      "source": [
        "test_dataset = MyDataset(X_test, y_test)\n",
        "test_loader = DataLoader(\n",
        "    test_dataset,\n",
        "    batch_size=32,\n",
        "    shuffle=True,\n",
        ")\n",
        "test_dataiter = iter(test_loader)"
      ],
      "metadata": {
        "id": "eQ11ReNnqgAG"
      },
      "execution_count": 172,
      "outputs": []
    },
    {
      "cell_type": "code",
      "source": [
        "val_dataset = MyDataset(X_val, y_val)\n",
        "val_loader = DataLoader(\n",
        "    val_dataset,\n",
        "    batch_size=50,\n",
        "    shuffle=True,\n",
        ")\n",
        "val_dataiter = iter(val_loader)"
      ],
      "metadata": {
        "id": "X-9MKgqnqgCW"
      },
      "execution_count": 173,
      "outputs": []
    },
    {
      "cell_type": "code",
      "source": [
        "torch.cuda.is_available()\n",
        "torch.cuda.device_count()"
      ],
      "metadata": {
        "colab": {
          "base_uri": "https://localhost:8080/"
        },
        "id": "_0tIjd6zqgEt",
        "outputId": "d830aab0-b9a0-4d11-bd70-b971aac809ea"
      },
      "execution_count": 174,
      "outputs": [
        {
          "output_type": "execute_result",
          "data": {
            "text/plain": [
              "1"
            ]
          },
          "metadata": {},
          "execution_count": 174
        }
      ]
    },
    {
      "cell_type": "code",
      "source": [
        "optimizer = torch.optim.Adam(model.out.parameters(), lr=LR)   # optimize all cnn parameters\n",
        "loss_func = nn.CrossEntropyLoss()       "
      ],
      "metadata": {
        "id": "SddicVNfqgG-"
      },
      "execution_count": 175,
      "outputs": []
    },
    {
      "cell_type": "code",
      "source": [
        "for epoch in range(EPOCH):\n",
        "    \n",
        "    running_loss = 0.0\n",
        "    for step, (b_x, b_y) in enumerate(train_loader):   # gives batch data, normalize x when iterate train_loader\n",
        "\n",
        "        output = model(b_x)[0]            # cnn output\n",
        "        loss = loss_func(output, b_y)   # cross entropy loss\n",
        "        optimizer.zero_grad()           # clear gradients for this training step\n",
        "        loss.backward()                 # backpropagation, compute gradients\n",
        "        optimizer.step()                # apply gradients\n",
        "        running_loss += loss.item()\n",
        "        \n",
        "        if step % 1000 == 999:\n",
        "            images, labels = val_dataiter.next()\n",
        "            val_output, last_layer = model(images)\n",
        "            pred_y = torch.max(val_output, 1)[1].data.squeeze().numpy()\n",
        "            accuracy = float((pred_y == labels.data.numpy()).astype(int).sum()) / float(labels.size(0))\n",
        "            print('Epoch: ', epoch+1, '|step: ',step, '| train loss: %.4f' % running_loss, '| val accuracy: %.4f' % accuracy)\n",
        "            running_loss = 0.0"
      ],
      "metadata": {
        "colab": {
          "base_uri": "https://localhost:8080/"
        },
        "id": "1IpTUk9kqgJA",
        "outputId": "5824f96b-bbad-4c8a-a858-8b4f30bd09c4"
      },
      "execution_count": 176,
      "outputs": [
        {
          "output_type": "stream",
          "name": "stdout",
          "text": [
            "Epoch:  1 |step:  999 | train loss: 899.3520 | val accuracy: 0.7800\n",
            "Epoch:  1 |step:  1999 | train loss: 606.4759 | val accuracy: 0.7600\n",
            "Epoch:  1 |step:  2999 | train loss: 544.0653 | val accuracy: 0.6600\n",
            "Epoch:  1 |step:  3999 | train loss: 507.6745 | val accuracy: 0.8400\n",
            "Epoch:  1 |step:  4999 | train loss: 493.7790 | val accuracy: 0.8400\n",
            "Epoch:  1 |step:  5999 | train loss: 478.3856 | val accuracy: 0.8200\n",
            "Epoch:  1 |step:  6999 | train loss: 460.6619 | val accuracy: 0.8400\n",
            "Epoch:  1 |step:  7999 | train loss: 453.4858 | val accuracy: 0.7400\n",
            "Epoch:  1 |step:  8999 | train loss: 445.2790 | val accuracy: 0.8800\n",
            "Epoch:  2 |step:  999 | train loss: 429.8229 | val accuracy: 0.7800\n",
            "Epoch:  2 |step:  1999 | train loss: 420.8843 | val accuracy: 0.8600\n",
            "Epoch:  2 |step:  2999 | train loss: 426.5253 | val accuracy: 0.8200\n",
            "Epoch:  2 |step:  3999 | train loss: 421.0541 | val accuracy: 0.8600\n",
            "Epoch:  2 |step:  4999 | train loss: 421.8538 | val accuracy: 0.8400\n",
            "Epoch:  2 |step:  5999 | train loss: 409.0731 | val accuracy: 0.8400\n",
            "Epoch:  2 |step:  6999 | train loss: 410.2588 | val accuracy: 0.8000\n",
            "Epoch:  2 |step:  7999 | train loss: 401.0175 | val accuracy: 0.8200\n",
            "Epoch:  2 |step:  8999 | train loss: 414.3909 | val accuracy: 0.7400\n",
            "Epoch:  3 |step:  999 | train loss: 396.6990 | val accuracy: 0.8200\n",
            "Epoch:  3 |step:  1999 | train loss: 401.6819 | val accuracy: 0.8400\n",
            "Epoch:  3 |step:  2999 | train loss: 399.4054 | val accuracy: 0.8200\n",
            "Epoch:  3 |step:  3999 | train loss: 393.8112 | val accuracy: 0.8400\n",
            "Epoch:  3 |step:  4999 | train loss: 398.4135 | val accuracy: 0.8400\n",
            "Epoch:  3 |step:  5999 | train loss: 395.6943 | val accuracy: 0.8200\n",
            "Epoch:  3 |step:  6999 | train loss: 388.7112 | val accuracy: 0.7800\n",
            "Epoch:  3 |step:  7999 | train loss: 386.7597 | val accuracy: 0.8600\n",
            "Epoch:  3 |step:  8999 | train loss: 385.4538 | val accuracy: 0.8000\n",
            "Epoch:  4 |step:  999 | train loss: 389.3809 | val accuracy: 0.8200\n",
            "Epoch:  4 |step:  1999 | train loss: 377.4161 | val accuracy: 0.8400\n",
            "Epoch:  4 |step:  2999 | train loss: 381.7543 | val accuracy: 0.8000\n",
            "Epoch:  4 |step:  3999 | train loss: 388.5024 | val accuracy: 0.8000\n",
            "Epoch:  4 |step:  4999 | train loss: 379.4446 | val accuracy: 0.8400\n",
            "Epoch:  4 |step:  5999 | train loss: 381.9288 | val accuracy: 0.8400\n",
            "Epoch:  4 |step:  6999 | train loss: 380.9723 | val accuracy: 0.8200\n",
            "Epoch:  4 |step:  7999 | train loss: 382.1130 | val accuracy: 0.8200\n",
            "Epoch:  4 |step:  8999 | train loss: 382.8406 | val accuracy: 0.8600\n",
            "Epoch:  5 |step:  999 | train loss: 378.8663 | val accuracy: 0.7400\n",
            "Epoch:  5 |step:  1999 | train loss: 374.5525 | val accuracy: 0.9000\n",
            "Epoch:  5 |step:  2999 | train loss: 373.1056 | val accuracy: 0.7800\n",
            "Epoch:  5 |step:  3999 | train loss: 376.2205 | val accuracy: 0.9200\n",
            "Epoch:  5 |step:  4999 | train loss: 370.4080 | val accuracy: 0.9200\n",
            "Epoch:  5 |step:  5999 | train loss: 382.4573 | val accuracy: 0.8200\n",
            "Epoch:  5 |step:  6999 | train loss: 378.5939 | val accuracy: 0.8000\n",
            "Epoch:  5 |step:  7999 | train loss: 375.9801 | val accuracy: 0.8800\n",
            "Epoch:  5 |step:  8999 | train loss: 368.4584 | val accuracy: 0.8400\n",
            "Epoch:  6 |step:  999 | train loss: 370.3379 | val accuracy: 0.8600\n",
            "Epoch:  6 |step:  1999 | train loss: 372.4819 | val accuracy: 0.8200\n",
            "Epoch:  6 |step:  2999 | train loss: 367.5497 | val accuracy: 0.8200\n",
            "Epoch:  6 |step:  3999 | train loss: 364.4882 | val accuracy: 0.7800\n",
            "Epoch:  6 |step:  4999 | train loss: 375.2495 | val accuracy: 0.8200\n",
            "Epoch:  6 |step:  5999 | train loss: 370.1870 | val accuracy: 0.7600\n",
            "Epoch:  6 |step:  6999 | train loss: 365.3992 | val accuracy: 0.9200\n",
            "Epoch:  6 |step:  7999 | train loss: 373.2148 | val accuracy: 0.7600\n",
            "Epoch:  6 |step:  8999 | train loss: 376.2478 | val accuracy: 0.8000\n",
            "Epoch:  7 |step:  999 | train loss: 364.0635 | val accuracy: 0.8800\n",
            "Epoch:  7 |step:  1999 | train loss: 363.7080 | val accuracy: 0.8200\n",
            "Epoch:  7 |step:  2999 | train loss: 367.7854 | val accuracy: 0.7400\n",
            "Epoch:  7 |step:  3999 | train loss: 367.5609 | val accuracy: 0.6400\n",
            "Epoch:  7 |step:  4999 | train loss: 366.2868 | val accuracy: 0.8400\n",
            "Epoch:  7 |step:  5999 | train loss: 367.0847 | val accuracy: 0.9000\n",
            "Epoch:  7 |step:  6999 | train loss: 371.5867 | val accuracy: 0.8800\n",
            "Epoch:  7 |step:  7999 | train loss: 368.0971 | val accuracy: 0.8200\n",
            "Epoch:  7 |step:  8999 | train loss: 362.6636 | val accuracy: 0.8800\n",
            "Epoch:  8 |step:  999 | train loss: 359.1921 | val accuracy: 0.8600\n",
            "Epoch:  8 |step:  1999 | train loss: 358.3490 | val accuracy: 0.8400\n",
            "Epoch:  8 |step:  2999 | train loss: 363.6864 | val accuracy: 0.8400\n",
            "Epoch:  8 |step:  3999 | train loss: 365.9618 | val accuracy: 0.7800\n",
            "Epoch:  8 |step:  4999 | train loss: 362.6221 | val accuracy: 0.8200\n",
            "Epoch:  8 |step:  5999 | train loss: 365.2253 | val accuracy: 0.9400\n",
            "Epoch:  8 |step:  6999 | train loss: 358.7674 | val accuracy: 0.8200\n",
            "Epoch:  8 |step:  7999 | train loss: 367.0688 | val accuracy: 0.9200\n",
            "Epoch:  8 |step:  8999 | train loss: 370.9459 | val accuracy: 0.8800\n",
            "Epoch:  9 |step:  999 | train loss: 360.8922 | val accuracy: 0.8600\n",
            "Epoch:  9 |step:  1999 | train loss: 362.3565 | val accuracy: 0.8000\n",
            "Epoch:  9 |step:  2999 | train loss: 353.7398 | val accuracy: 0.9000\n",
            "Epoch:  9 |step:  3999 | train loss: 357.1040 | val accuracy: 0.8600\n",
            "Epoch:  9 |step:  4999 | train loss: 362.3349 | val accuracy: 0.8000\n",
            "Epoch:  9 |step:  5999 | train loss: 370.2153 | val accuracy: 0.9400\n",
            "Epoch:  9 |step:  6999 | train loss: 365.0747 | val accuracy: 0.9600\n",
            "Epoch:  9 |step:  7999 | train loss: 363.9797 | val accuracy: 0.8600\n",
            "Epoch:  9 |step:  8999 | train loss: 359.4769 | val accuracy: 0.8600\n",
            "Epoch:  10 |step:  999 | train loss: 352.3713 | val accuracy: 0.8400\n",
            "Epoch:  10 |step:  1999 | train loss: 359.2213 | val accuracy: 0.8800\n",
            "Epoch:  10 |step:  2999 | train loss: 365.9766 | val accuracy: 0.8200\n",
            "Epoch:  10 |step:  3999 | train loss: 356.3237 | val accuracy: 0.8600\n",
            "Epoch:  10 |step:  4999 | train loss: 363.0741 | val accuracy: 0.9600\n",
            "Epoch:  10 |step:  5999 | train loss: 360.0560 | val accuracy: 0.7800\n",
            "Epoch:  10 |step:  6999 | train loss: 363.9231 | val accuracy: 0.8200\n",
            "Epoch:  10 |step:  7999 | train loss: 352.4752 | val accuracy: 0.7400\n",
            "Epoch:  10 |step:  8999 | train loss: 360.5600 | val accuracy: 0.8400\n"
          ]
        }
      ]
    },
    {
      "cell_type": "code",
      "source": [
        "test_loader2 = DataLoader(\n",
        "    test_dataset,\n",
        "    batch_size=26032,\n",
        "    shuffle=True,\n",
        ")"
      ],
      "metadata": {
        "id": "5G7J9Fqq4ytQ"
      },
      "execution_count": 177,
      "outputs": []
    },
    {
      "cell_type": "code",
      "source": [
        "for image, labels in test_loader2:\n",
        "  pred_y = torch.max(model(image)[0], 1)[1].data.squeeze().numpy()\n",
        "  accuracy = float((pred_y == labels.data.numpy()).astype(int).sum()) / float(labels.size(0))\n",
        "print(accuracy)"
      ],
      "metadata": {
        "colab": {
          "base_uri": "https://localhost:8080/"
        },
        "id": "j9Zx0Ao46Wsn",
        "outputId": "d2f1fc92-5715-4dbb-c481-82af87752955"
      },
      "execution_count": 178,
      "outputs": [
        {
          "output_type": "stream",
          "name": "stdout",
          "text": [
            "0.8421173939766441\n"
          ]
        }
      ]
    },
    {
      "cell_type": "code",
      "source": [
        "images, labels = val_dataiter.next()\n",
        "\n",
        "def imshow(img):\n",
        "    img = img / 2 + 0.5     # unnormalize\n",
        "    npimg = img.numpy()\n",
        "    plt.imshow(np.transpose(npimg, (1, 2, 0)))\n",
        "    plt.show()\n",
        "    \n",
        "# print images\n",
        "imshow(torchvision.utils.make_grid(images))\n",
        "print('GroundTruth: ', ' '.join('%5s' % labels[j] for j in range(50)))"
      ],
      "metadata": {
        "id": "osoKuoPBqgLW",
        "colab": {
          "base_uri": "https://localhost:8080/",
          "height": 307
        },
        "outputId": "65ba58b0-342b-47c1-d443-3ed74d5bb7dc"
      },
      "execution_count": 186,
      "outputs": [
        {
          "output_type": "display_data",
          "data": {
            "text/plain": [
              "<Figure size 432x288 with 1 Axes>"
            ],
            "image/png": "[encoded data removed]"
          },
          "metadata": {
            "needs_background": "light"
          }
        },
        {
          "output_type": "stream",
          "name": "stdout",
          "text": [
            "GroundTruth:  tensor(6) tensor(5) tensor(9) tensor(8) tensor(0) tensor(2) tensor(8) tensor(4) tensor(1) tensor(5) tensor(8) tensor(9) tensor(9) tensor(2) tensor(3) tensor(9) tensor(0) tensor(5) tensor(3) tensor(8) tensor(5) tensor(2) tensor(6) tensor(4) tensor(5) tensor(5) tensor(1) tensor(4) tensor(9) tensor(0) tensor(7) tensor(7) tensor(9) tensor(3) tensor(3) tensor(6) tensor(9) tensor(9) tensor(9) tensor(7) tensor(8) tensor(5) tensor(4) tensor(1) tensor(2) tensor(4) tensor(2) tensor(0) tensor(4) tensor(3)\n"
          ]
        }
      ]
    },
    {
      "cell_type": "code",
      "source": [
        "test_output, last_layer = model(images)\n",
        "pred_y = torch.max(test_output, 1)[1].data.squeeze().numpy()\n",
        "\n",
        "print('Predicted: ', ' '.join('%5s' % pred_y[j]\n",
        "                              for j in range(50)))"
      ],
      "metadata": {
        "id": "jZDcG9ePrA6y",
        "colab": {
          "base_uri": "https://localhost:8080/"
        },
        "outputId": "c045c9d6-05cb-48c0-c2e3-773cc357aca0"
      },
      "execution_count": 187,
      "outputs": [
        {
          "output_type": "stream",
          "name": "stdout",
          "text": [
            "Predicted:      6     5     9     8     0     2     6     5     1     5     8     9     9     2     3     9     0     3     3     8     4     2     6     4     5     5     1     4     0     0     7     7     9     3     3     6     6     9     9     7     6     5     4     1     2     1     2     0     4     3\n"
          ]
        }
      ]
    },
    {
      "cell_type": "code",
      "source": [
        ""
      ],
      "metadata": {
        "id": "3Wttq1HKrA8x"
      },
      "execution_count": null,
      "outputs": []
    },
    {
      "cell_type": "code",
      "source": [
        ""
      ],
      "metadata": {
        "id": "nUKuz5cnrA-6"
      },
      "execution_count": null,
      "outputs": []
    },
    {
      "cell_type": "code",
      "source": [
        ""
      ],
      "metadata": {
        "id": "jPV173x3rBA6"
      },
      "execution_count": null,
      "outputs": []
    },
    {
      "cell_type": "code",
      "source": [
        ""
      ],
      "metadata": {
        "id": "atp9KT7FrBFW"
      },
      "execution_count": null,
      "outputs": []
    },
    {
      "cell_type": "code",
      "source": [
        ""
      ],
      "metadata": {
        "id": "DNoQOz7arBHo"
      },
      "execution_count": null,
      "outputs": []
    }
  ]
}
