{
  "nbformat": 4,
  "nbformat_minor": 0,
  "metadata": {
    "colab": {
      "name": "TL_CNN",
      "provenance": [],
      "collapsed_sections": [],
      "machine_shape": "hm"
    },
    "kernelspec": {
      "name": "python3",
      "display_name": "Python 3"
    },
    "language_info": {
      "name": "python"
    },
    "accelerator": "GPU",
    "widgets": {
      "application/vnd.jupyter.widget-state+json": {
        "f874f370083c4045af19a04b7c573002": {
          "model_module": "@jupyter-widgets/controls",
          "model_name": "HBoxModel",
          "model_module_version": "1.5.0",
          "state": {
            "_dom_classes": [],
            "_model_module": "@jupyter-widgets/controls",
            "_model_module_version": "1.5.0",
            "_model_name": "HBoxModel",
            "_view_count": null,
            "_view_module": "@jupyter-widgets/controls",
            "_view_module_version": "1.5.0",
            "_view_name": "HBoxView",
            "box_style": "",
            "children": [
              "IPY_MODEL_f89c9e0a6c9949e9835dd06d81255553",
              "IPY_MODEL_55b3fff03d8c43bea8efe12ea154d5d8",
              "IPY_MODEL_ec7f64830ad445c29ed4e57196ba2059"
            ],
            "layout": "IPY_MODEL_5f96f08135c24b9d818524b0aa3edaf5"
          }
        },
        "f89c9e0a6c9949e9835dd06d81255553": {
          "model_module": "@jupyter-widgets/controls",
          "model_name": "HTMLModel",
          "model_module_version": "1.5.0",
          "state": {
            "_dom_classes": [],
            "_model_module": "@jupyter-widgets/controls",
            "_model_module_version": "1.5.0",
            "_model_name": "HTMLModel",
            "_view_count": null,
            "_view_module": "@jupyter-widgets/controls",
            "_view_module_version": "1.5.0",
            "_view_name": "HTMLView",
            "description": "",
            "description_tooltip": null,
            "layout": "IPY_MODEL_52acb46ad0a442299da558ade90cd1a2",
            "placeholder": "​",
            "style": "IPY_MODEL_74c979a8ab284190a0a1525ab42944f4",
            "value": ""
          }
        },
        "55b3fff03d8c43bea8efe12ea154d5d8": {
          "model_module": "@jupyter-widgets/controls",
          "model_name": "FloatProgressModel",
          "model_module_version": "1.5.0",
          "state": {
            "_dom_classes": [],
            "_model_module": "@jupyter-widgets/controls",
            "_model_module_version": "1.5.0",
            "_model_name": "FloatProgressModel",
            "_view_count": null,
            "_view_module": "@jupyter-widgets/controls",
            "_view_module_version": "1.5.0",
            "_view_name": "ProgressView",
            "bar_style": "success",
            "description": "",
            "description_tooltip": null,
            "layout": "IPY_MODEL_192942a463ed4eeeb2efe3b944392420",
            "max": 9912422,
            "min": 0,
            "orientation": "horizontal",
            "style": "IPY_MODEL_352932d8891b4dff80743d35a7edec62",
            "value": 9912422
          }
        },
        "ec7f64830ad445c29ed4e57196ba2059": {
          "model_module": "@jupyter-widgets/controls",
          "model_name": "HTMLModel",
          "model_module_version": "1.5.0",
          "state": {
            "_dom_classes": [],
            "_model_module": "@jupyter-widgets/controls",
            "_model_module_version": "1.5.0",
            "_model_name": "HTMLModel",
            "_view_count": null,
            "_view_module": "@jupyter-widgets/controls",
            "_view_module_version": "1.5.0",
            "_view_name": "HTMLView",
            "description": "",
            "description_tooltip": null,
            "layout": "IPY_MODEL_2465787e34964c9d8673a0b03618c5ca",
            "placeholder": "​",
            "style": "IPY_MODEL_fd295f45ff8144f1ad9024c6c351ffe6",
            "value": " 9913344/? [00:00&lt;00:00, 20806773.18it/s]"
          }
        },
        "5f96f08135c24b9d818524b0aa3edaf5": {
          "model_module": "@jupyter-widgets/base",
          "model_name": "LayoutModel",
          "model_module_version": "1.2.0",
          "state": {
            "_model_module": "@jupyter-widgets/base",
            "_model_module_version": "1.2.0",
            "_model_name": "LayoutModel",
            "_view_count": null,
            "_view_module": "@jupyter-widgets/base",
            "_view_module_version": "1.2.0",
            "_view_name": "LayoutView",
            "align_content": null,
            "align_items": null,
            "align_self": null,
            "border": null,
            "bottom": null,
            "display": null,
            "flex": null,
            "flex_flow": null,
            "grid_area": null,
            "grid_auto_columns": null,
            "grid_auto_flow": null,
            "grid_auto_rows": null,
            "grid_column": null,
            "grid_gap": null,
            "grid_row": null,
            "grid_template_areas": null,
            "grid_template_columns": null,
            "grid_template_rows": null,
            "height": null,
            "justify_content": null,
            "justify_items": null,
            "left": null,
            "margin": null,
            "max_height": null,
            "max_width": null,
            "min_height": null,
            "min_width": null,
            "object_fit": null,
            "object_position": null,
            "order": null,
            "overflow": null,
            "overflow_x": null,
            "overflow_y": null,
            "padding": null,
            "right": null,
            "top": null,
            "visibility": null,
            "width": null
          }
        },
        "52acb46ad0a442299da558ade90cd1a2": {
          "model_module": "@jupyter-widgets/base",
          "model_name": "LayoutModel",
          "model_module_version": "1.2.0",
          "state": {
            "_model_module": "@jupyter-widgets/base",
            "_model_module_version": "1.2.0",
            "_model_name": "LayoutModel",
            "_view_count": null,
            "_view_module": "@jupyter-widgets/base",
            "_view_module_version": "1.2.0",
            "_view_name": "LayoutView",
            "align_content": null,
            "align_items": null,
            "align_self": null,
            "border": null,
            "bottom": null,
            "display": null,
            "flex": null,
            "flex_flow": null,
            "grid_area": null,
            "grid_auto_columns": null,
            "grid_auto_flow": null,
            "grid_auto_rows": null,
            "grid_column": null,
            "grid_gap": null,
            "grid_row": null,
            "grid_template_areas": null,
            "grid_template_columns": null,
            "grid_template_rows": null,
            "height": null,
            "justify_content": null,
            "justify_items": null,
            "left": null,
            "margin": null,
            "max_height": null,
            "max_width": null,
            "min_height": null,
            "min_width": null,
            "object_fit": null,
            "object_position": null,
            "order": null,
            "overflow": null,
            "overflow_x": null,
            "overflow_y": null,
            "padding": null,
            "right": null,
            "top": null,
            "visibility": null,
            "width": null
          }
        },
        "74c979a8ab284190a0a1525ab42944f4": {
          "model_module": "@jupyter-widgets/controls",
          "model_name": "DescriptionStyleModel",
          "model_module_version": "1.5.0",
          "state": {
            "_model_module": "@jupyter-widgets/controls",
            "_model_module_version": "1.5.0",
            "_model_name": "DescriptionStyleModel",
            "_view_count": null,
            "_view_module": "@jupyter-widgets/base",
            "_view_module_version": "1.2.0",
            "_view_name": "StyleView",
            "description_width": ""
          }
        },
        "192942a463ed4eeeb2efe3b944392420": {
          "model_module": "@jupyter-widgets/base",
          "model_name": "LayoutModel",
          "model_module_version": "1.2.0",
          "state": {
            "_model_module": "@jupyter-widgets/base",
            "_model_module_version": "1.2.0",
            "_model_name": "LayoutModel",
            "_view_count": null,
            "_view_module": "@jupyter-widgets/base",
            "_view_module_version": "1.2.0",
            "_view_name": "LayoutView",
            "align_content": null,
            "align_items": null,
            "align_self": null,
            "border": null,
            "bottom": null,
            "display": null,
            "flex": null,
            "flex_flow": null,
            "grid_area": null,
            "grid_auto_columns": null,
            "grid_auto_flow": null,
            "grid_auto_rows": null,
            "grid_column": null,
            "grid_gap": null,
            "grid_row": null,
            "grid_template_areas": null,
            "grid_template_columns": null,
            "grid_template_rows": null,
            "height": null,
            "justify_content": null,
            "justify_items": null,
            "left": null,
            "margin": null,
            "max_height": null,
            "max_width": null,
            "min_height": null,
            "min_width": null,
            "object_fit": null,
            "object_position": null,
            "order": null,
            "overflow": null,
            "overflow_x": null,
            "overflow_y": null,
            "padding": null,
            "right": null,
            "top": null,
            "visibility": null,
            "width": null
          }
        },
        "352932d8891b4dff80743d35a7edec62": {
          "model_module": "@jupyter-widgets/controls",
          "model_name": "ProgressStyleModel",
          "model_module_version": "1.5.0",
          "state": {
            "_model_module": "@jupyter-widgets/controls",
            "_model_module_version": "1.5.0",
            "_model_name": "ProgressStyleModel",
            "_view_count": null,
            "_view_module": "@jupyter-widgets/base",
            "_view_module_version": "1.2.0",
            "_view_name": "StyleView",
            "bar_color": null,
            "description_width": ""
          }
        },
        "2465787e34964c9d8673a0b03618c5ca": {
          "model_module": "@jupyter-widgets/base",
          "model_name": "LayoutModel",
          "model_module_version": "1.2.0",
          "state": {
            "_model_module": "@jupyter-widgets/base",
            "_model_module_version": "1.2.0",
            "_model_name": "LayoutModel",
            "_view_count": null,
            "_view_module": "@jupyter-widgets/base",
            "_view_module_version": "1.2.0",
            "_view_name": "LayoutView",
            "align_content": null,
            "align_items": null,
            "align_self": null,
            "border": null,
            "bottom": null,
            "display": null,
            "flex": null,
            "flex_flow": null,
            "grid_area": null,
            "grid_auto_columns": null,
            "grid_auto_flow": null,
            "grid_auto_rows": null,
            "grid_column": null,
            "grid_gap": null,
            "grid_row": null,
            "grid_template_areas": null,
            "grid_template_columns": null,
            "grid_template_rows": null,
            "height": null,
            "justify_content": null,
            "justify_items": null,
            "left": null,
            "margin": null,
            "max_height": null,
            "max_width": null,
            "min_height": null,
            "min_width": null,
            "object_fit": null,
            "object_position": null,
            "order": null,
            "overflow": null,
            "overflow_x": null,
            "overflow_y": null,
            "padding": null,
            "right": null,
            "top": null,
            "visibility": null,
            "width": null
          }
        },
        "fd295f45ff8144f1ad9024c6c351ffe6": {
          "model_module": "@jupyter-widgets/controls",
          "model_name": "DescriptionStyleModel",
          "model_module_version": "1.5.0",
          "state": {
            "_model_module": "@jupyter-widgets/controls",
            "_model_module_version": "1.5.0",
            "_model_name": "DescriptionStyleModel",
            "_view_count": null,
            "_view_module": "@jupyter-widgets/base",
            "_view_module_version": "1.2.0",
            "_view_name": "StyleView",
            "description_width": ""
          }
        },
        "c1003b709c054091ace05174e15211a5": {
          "model_module": "@jupyter-widgets/controls",
          "model_name": "HBoxModel",
          "model_module_version": "1.5.0",
          "state": {
            "_dom_classes": [],
            "_model_module": "@jupyter-widgets/controls",
            "_model_module_version": "1.5.0",
            "_model_name": "HBoxModel",
            "_view_count": null,
            "_view_module": "@jupyter-widgets/controls",
            "_view_module_version": "1.5.0",
            "_view_name": "HBoxView",
            "box_style": "",
            "children": [
              "IPY_MODEL_75cd7c6f1c2740c0ac16c7784154ccf0",
              "IPY_MODEL_1387b0b6ad15445a8f39450195b3bb23",
              "IPY_MODEL_9ca160fec67a4c7daf9fb9f983dda3e7"
            ],
            "layout": "IPY_MODEL_da272ff09dec4eb9824885d6f6731adf"
          }
        },
        "75cd7c6f1c2740c0ac16c7784154ccf0": {
          "model_module": "@jupyter-widgets/controls",
          "model_name": "HTMLModel",
          "model_module_version": "1.5.0",
          "state": {
            "_dom_classes": [],
            "_model_module": "@jupyter-widgets/controls",
            "_model_module_version": "1.5.0",
            "_model_name": "HTMLModel",
            "_view_count": null,
            "_view_module": "@jupyter-widgets/controls",
            "_view_module_version": "1.5.0",
            "_view_name": "HTMLView",
            "description": "",
            "description_tooltip": null,
            "layout": "IPY_MODEL_9da9c68b71dc4a78b739d3aa9873dfff",
            "placeholder": "​",
            "style": "IPY_MODEL_766b9d4c7a08451d9195c258e5f85c18",
            "value": ""
          }
        },
        "1387b0b6ad15445a8f39450195b3bb23": {
          "model_module": "@jupyter-widgets/controls",
          "model_name": "FloatProgressModel",
          "model_module_version": "1.5.0",
          "state": {
            "_dom_classes": [],
            "_model_module": "@jupyter-widgets/controls",
            "_model_module_version": "1.5.0",
            "_model_name": "FloatProgressModel",
            "_view_count": null,
            "_view_module": "@jupyter-widgets/controls",
            "_view_module_version": "1.5.0",
            "_view_name": "ProgressView",
            "bar_style": "success",
            "description": "",
            "description_tooltip": null,
            "layout": "IPY_MODEL_35e42c9a645a45b0b37e304f05360dd5",
            "max": 28881,
            "min": 0,
            "orientation": "horizontal",
            "style": "IPY_MODEL_ec0a7b58db704b19b5c732176217c59b",
            "value": 28881
          }
        },
        "9ca160fec67a4c7daf9fb9f983dda3e7": {
          "model_module": "@jupyter-widgets/controls",
          "model_name": "HTMLModel",
          "model_module_version": "1.5.0",
          "state": {
            "_dom_classes": [],
            "_model_module": "@jupyter-widgets/controls",
            "_model_module_version": "1.5.0",
            "_model_name": "HTMLModel",
            "_view_count": null,
            "_view_module": "@jupyter-widgets/controls",
            "_view_module_version": "1.5.0",
            "_view_name": "HTMLView",
            "description": "",
            "description_tooltip": null,
            "layout": "IPY_MODEL_dcd862589ae141dab4c4d311b4829cea",
            "placeholder": "​",
            "style": "IPY_MODEL_3745cc015045473399ed617ef55552bc",
            "value": " 29696/? [00:00&lt;00:00, 1202363.64it/s]"
          }
        },
        "da272ff09dec4eb9824885d6f6731adf": {
          "model_module": "@jupyter-widgets/base",
          "model_name": "LayoutModel",
          "model_module_version": "1.2.0",
          "state": {
            "_model_module": "@jupyter-widgets/base",
            "_model_module_version": "1.2.0",
            "_model_name": "LayoutModel",
            "_view_count": null,
            "_view_module": "@jupyter-widgets/base",
            "_view_module_version": "1.2.0",
            "_view_name": "LayoutView",
            "align_content": null,
            "align_items": null,
            "align_self": null,
            "border": null,
            "bottom": null,
            "display": null,
            "flex": null,
            "flex_flow": null,
            "grid_area": null,
            "grid_auto_columns": null,
            "grid_auto_flow": null,
            "grid_auto_rows": null,
            "grid_column": null,
            "grid_gap": null,
            "grid_row": null,
            "grid_template_areas": null,
            "grid_template_columns": null,
            "grid_template_rows": null,
            "height": null,
            "justify_content": null,
            "justify_items": null,
            "left": null,
            "margin": null,
            "max_height": null,
            "max_width": null,
            "min_height": null,
            "min_width": null,
            "object_fit": null,
            "object_position": null,
            "order": null,
            "overflow": null,
            "overflow_x": null,
            "overflow_y": null,
            "padding": null,
            "right": null,
            "top": null,
            "visibility": null,
            "width": null
          }
        },
        "9da9c68b71dc4a78b739d3aa9873dfff": {
          "model_module": "@jupyter-widgets/base",
          "model_name": "LayoutModel",
          "model_module_version": "1.2.0",
          "state": {
            "_model_module": "@jupyter-widgets/base",
            "_model_module_version": "1.2.0",
            "_model_name": "LayoutModel",
            "_view_count": null,
            "_view_module": "@jupyter-widgets/base",
            "_view_module_version": "1.2.0",
            "_view_name": "LayoutView",
            "align_content": null,
            "align_items": null,
            "align_self": null,
            "border": null,
            "bottom": null,
            "display": null,
            "flex": null,
            "flex_flow": null,
            "grid_area": null,
            "grid_auto_columns": null,
            "grid_auto_flow": null,
            "grid_auto_rows": null,
            "grid_column": null,
            "grid_gap": null,
            "grid_row": null,
            "grid_template_areas": null,
            "grid_template_columns": null,
            "grid_template_rows": null,
            "height": null,
            "justify_content": null,
            "justify_items": null,
            "left": null,
            "margin": null,
            "max_height": null,
            "max_width": null,
            "min_height": null,
            "min_width": null,
            "object_fit": null,
            "object_position": null,
            "order": null,
            "overflow": null,
            "overflow_x": null,
            "overflow_y": null,
            "padding": null,
            "right": null,
            "top": null,
            "visibility": null,
            "width": null
          }
        },
        "766b9d4c7a08451d9195c258e5f85c18": {
          "model_module": "@jupyter-widgets/controls",
          "model_name": "DescriptionStyleModel",
          "model_module_version": "1.5.0",
          "state": {
            "_model_module": "@jupyter-widgets/controls",
            "_model_module_version": "1.5.0",
            "_model_name": "DescriptionStyleModel",
            "_view_count": null,
            "_view_module": "@jupyter-widgets/base",
            "_view_module_version": "1.2.0",
            "_view_name": "StyleView",
            "description_width": ""
          }
        },
        "35e42c9a645a45b0b37e304f05360dd5": {
          "model_module": "@jupyter-widgets/base",
          "model_name": "LayoutModel",
          "model_module_version": "1.2.0",
          "state": {
            "_model_module": "@jupyter-widgets/base",
            "_model_module_version": "1.2.0",
            "_model_name": "LayoutModel",
            "_view_count": null,
            "_view_module": "@jupyter-widgets/base",
            "_view_module_version": "1.2.0",
            "_view_name": "LayoutView",
            "align_content": null,
            "align_items": null,
            "align_self": null,
            "border": null,
            "bottom": null,
            "display": null,
            "flex": null,
            "flex_flow": null,
            "grid_area": null,
            "grid_auto_columns": null,
            "grid_auto_flow": null,
            "grid_auto_rows": null,
            "grid_column": null,
            "grid_gap": null,
            "grid_row": null,
            "grid_template_areas": null,
            "grid_template_columns": null,
            "grid_template_rows": null,
            "height": null,
            "justify_content": null,
            "justify_items": null,
            "left": null,
            "margin": null,
            "max_height": null,
            "max_width": null,
            "min_height": null,
            "min_width": null,
            "object_fit": null,
            "object_position": null,
            "order": null,
            "overflow": null,
            "overflow_x": null,
            "overflow_y": null,
            "padding": null,
            "right": null,
            "top": null,
            "visibility": null,
            "width": null
          }
        },
        "ec0a7b58db704b19b5c732176217c59b": {
          "model_module": "@jupyter-widgets/controls",
          "model_name": "ProgressStyleModel",
          "model_module_version": "1.5.0",
          "state": {
            "_model_module": "@jupyter-widgets/controls",
            "_model_module_version": "1.5.0",
            "_model_name": "ProgressStyleModel",
            "_view_count": null,
            "_view_module": "@jupyter-widgets/base",
            "_view_module_version": "1.2.0",
            "_view_name": "StyleView",
            "bar_color": null,
            "description_width": ""
          }
        },
        "dcd862589ae141dab4c4d311b4829cea": {
          "model_module": "@jupyter-widgets/base",
          "model_name": "LayoutModel",
          "model_module_version": "1.2.0",
          "state": {
            "_model_module": "@jupyter-widgets/base",
            "_model_module_version": "1.2.0",
            "_model_name": "LayoutModel",
            "_view_count": null,
            "_view_module": "@jupyter-widgets/base",
            "_view_module_version": "1.2.0",
            "_view_name": "LayoutView",
            "align_content": null,
            "align_items": null,
            "align_self": null,
            "border": null,
            "bottom": null,
            "display": null,
            "flex": null,
            "flex_flow": null,
            "grid_area": null,
            "grid_auto_columns": null,
            "grid_auto_flow": null,
            "grid_auto_rows": null,
            "grid_column": null,
            "grid_gap": null,
            "grid_row": null,
            "grid_template_areas": null,
            "grid_template_columns": null,
            "grid_template_rows": null,
            "height": null,
            "justify_content": null,
            "justify_items": null,
            "left": null,
            "margin": null,
            "max_height": null,
            "max_width": null,
            "min_height": null,
            "min_width": null,
            "object_fit": null,
            "object_position": null,
            "order": null,
            "overflow": null,
            "overflow_x": null,
            "overflow_y": null,
            "padding": null,
            "right": null,
            "top": null,
            "visibility": null,
            "width": null
          }
        },
        "3745cc015045473399ed617ef55552bc": {
          "model_module": "@jupyter-widgets/controls",
          "model_name": "DescriptionStyleModel",
          "model_module_version": "1.5.0",
          "state": {
            "_model_module": "@jupyter-widgets/controls",
            "_model_module_version": "1.5.0",
            "_model_name": "DescriptionStyleModel",
            "_view_count": null,
            "_view_module": "@jupyter-widgets/base",
            "_view_module_version": "1.2.0",
            "_view_name": "StyleView",
            "description_width": ""
          }
        },
        "7dbe9b8ef8664c00b53d69fb92d73170": {
          "model_module": "@jupyter-widgets/controls",
          "model_name": "HBoxModel",
          "model_module_version": "1.5.0",
          "state": {
            "_dom_classes": [],
            "_model_module": "@jupyter-widgets/controls",
            "_model_module_version": "1.5.0",
            "_model_name": "HBoxModel",
            "_view_count": null,
            "_view_module": "@jupyter-widgets/controls",
            "_view_module_version": "1.5.0",
            "_view_name": "HBoxView",
            "box_style": "",
            "children": [
              "IPY_MODEL_a9b8d9edbe214c9abbc567598c39f0a9",
              "IPY_MODEL_9a1bffa8abcb4530a0086488fc8de33e",
              "IPY_MODEL_7bff5cd6d8ee4be986c9ed12482ba1d4"
            ],
            "layout": "IPY_MODEL_f35f5f055cb341c6b8c94568d93f4f77"
          }
        },
        "a9b8d9edbe214c9abbc567598c39f0a9": {
          "model_module": "@jupyter-widgets/controls",
          "model_name": "HTMLModel",
          "model_module_version": "1.5.0",
          "state": {
            "_dom_classes": [],
            "_model_module": "@jupyter-widgets/controls",
            "_model_module_version": "1.5.0",
            "_model_name": "HTMLModel",
            "_view_count": null,
            "_view_module": "@jupyter-widgets/controls",
            "_view_module_version": "1.5.0",
            "_view_name": "HTMLView",
            "description": "",
            "description_tooltip": null,
            "layout": "IPY_MODEL_3540564c60ce418ca99e1cd7157a253b",
            "placeholder": "​",
            "style": "IPY_MODEL_a25d792c63984c5d963529d9fb40b537",
            "value": ""
          }
        },
        "9a1bffa8abcb4530a0086488fc8de33e": {
          "model_module": "@jupyter-widgets/controls",
          "model_name": "FloatProgressModel",
          "model_module_version": "1.5.0",
          "state": {
            "_dom_classes": [],
            "_model_module": "@jupyter-widgets/controls",
            "_model_module_version": "1.5.0",
            "_model_name": "FloatProgressModel",
            "_view_count": null,
            "_view_module": "@jupyter-widgets/controls",
            "_view_module_version": "1.5.0",
            "_view_name": "ProgressView",
            "bar_style": "success",
            "description": "",
            "description_tooltip": null,
            "layout": "IPY_MODEL_12825709e50d44908b21bf01a29b0a85",
            "max": 1648877,
            "min": 0,
            "orientation": "horizontal",
            "style": "IPY_MODEL_7d318bca11f04464a945a3a5dce07364",
            "value": 1648877
          }
        },
        "7bff5cd6d8ee4be986c9ed12482ba1d4": {
          "model_module": "@jupyter-widgets/controls",
          "model_name": "HTMLModel",
          "model_module_version": "1.5.0",
          "state": {
            "_dom_classes": [],
            "_model_module": "@jupyter-widgets/controls",
            "_model_module_version": "1.5.0",
            "_model_name": "HTMLModel",
            "_view_count": null,
            "_view_module": "@jupyter-widgets/controls",
            "_view_module_version": "1.5.0",
            "_view_name": "HTMLView",
            "description": "",
            "description_tooltip": null,
            "layout": "IPY_MODEL_a1e55b0970b24a1a9e04c08f04ed55e2",
            "placeholder": "​",
            "style": "IPY_MODEL_19f2748e4cf34f85858cec9b5215e5f6",
            "value": " 1649664/? [00:00&lt;00:00, 5424558.69it/s]"
          }
        },
        "f35f5f055cb341c6b8c94568d93f4f77": {
          "model_module": "@jupyter-widgets/base",
          "model_name": "LayoutModel",
          "model_module_version": "1.2.0",
          "state": {
            "_model_module": "@jupyter-widgets/base",
            "_model_module_version": "1.2.0",
            "_model_name": "LayoutModel",
            "_view_count": null,
            "_view_module": "@jupyter-widgets/base",
            "_view_module_version": "1.2.0",
            "_view_name": "LayoutView",
            "align_content": null,
            "align_items": null,
            "align_self": null,
            "border": null,
            "bottom": null,
            "display": null,
            "flex": null,
            "flex_flow": null,
            "grid_area": null,
            "grid_auto_columns": null,
            "grid_auto_flow": null,
            "grid_auto_rows": null,
            "grid_column": null,
            "grid_gap": null,
            "grid_row": null,
            "grid_template_areas": null,
            "grid_template_columns": null,
            "grid_template_rows": null,
            "height": null,
            "justify_content": null,
            "justify_items": null,
            "left": null,
            "margin": null,
            "max_height": null,
            "max_width": null,
            "min_height": null,
            "min_width": null,
            "object_fit": null,
            "object_position": null,
            "order": null,
            "overflow": null,
            "overflow_x": null,
            "overflow_y": null,
            "padding": null,
            "right": null,
            "top": null,
            "visibility": null,
            "width": null
          }
        },
        "3540564c60ce418ca99e1cd7157a253b": {
          "model_module": "@jupyter-widgets/base",
          "model_name": "LayoutModel",
          "model_module_version": "1.2.0",
          "state": {
            "_model_module": "@jupyter-widgets/base",
            "_model_module_version": "1.2.0",
            "_model_name": "LayoutModel",
            "_view_count": null,
            "_view_module": "@jupyter-widgets/base",
            "_view_module_version": "1.2.0",
            "_view_name": "LayoutView",
            "align_content": null,
            "align_items": null,
            "align_self": null,
            "border": null,
            "bottom": null,
            "display": null,
            "flex": null,
            "flex_flow": null,
            "grid_area": null,
            "grid_auto_columns": null,
            "grid_auto_flow": null,
            "grid_auto_rows": null,
            "grid_column": null,
            "grid_gap": null,
            "grid_row": null,
            "grid_template_areas": null,
            "grid_template_columns": null,
            "grid_template_rows": null,
            "height": null,
            "justify_content": null,
            "justify_items": null,
            "left": null,
            "margin": null,
            "max_height": null,
            "max_width": null,
            "min_height": null,
            "min_width": null,
            "object_fit": null,
            "object_position": null,
            "order": null,
            "overflow": null,
            "overflow_x": null,
            "overflow_y": null,
            "padding": null,
            "right": null,
            "top": null,
            "visibility": null,
            "width": null
          }
        },
        "a25d792c63984c5d963529d9fb40b537": {
          "model_module": "@jupyter-widgets/controls",
          "model_name": "DescriptionStyleModel",
          "model_module_version": "1.5.0",
          "state": {
            "_model_module": "@jupyter-widgets/controls",
            "_model_module_version": "1.5.0",
            "_model_name": "DescriptionStyleModel",
            "_view_count": null,
            "_view_module": "@jupyter-widgets/base",
            "_view_module_version": "1.2.0",
            "_view_name": "StyleView",
            "description_width": ""
          }
        },
        "12825709e50d44908b21bf01a29b0a85": {
          "model_module": "@jupyter-widgets/base",
          "model_name": "LayoutModel",
          "model_module_version": "1.2.0",
          "state": {
            "_model_module": "@jupyter-widgets/base",
            "_model_module_version": "1.2.0",
            "_model_name": "LayoutModel",
            "_view_count": null,
            "_view_module": "@jupyter-widgets/base",
            "_view_module_version": "1.2.0",
            "_view_name": "LayoutView",
            "align_content": null,
            "align_items": null,
            "align_self": null,
            "border": null,
            "bottom": null,
            "display": null,
            "flex": null,
            "flex_flow": null,
            "grid_area": null,
            "grid_auto_columns": null,
            "grid_auto_flow": null,
            "grid_auto_rows": null,
            "grid_column": null,
            "grid_gap": null,
            "grid_row": null,
            "grid_template_areas": null,
            "grid_template_columns": null,
            "grid_template_rows": null,
            "height": null,
            "justify_content": null,
            "justify_items": null,
            "left": null,
            "margin": null,
            "max_height": null,
            "max_width": null,
            "min_height": null,
            "min_width": null,
            "object_fit": null,
            "object_position": null,
            "order": null,
            "overflow": null,
            "overflow_x": null,
            "overflow_y": null,
            "padding": null,
            "right": null,
            "top": null,
            "visibility": null,
            "width": null
          }
        },
        "7d318bca11f04464a945a3a5dce07364": {
          "model_module": "@jupyter-widgets/controls",
          "model_name": "ProgressStyleModel",
          "model_module_version": "1.5.0",
          "state": {
            "_model_module": "@jupyter-widgets/controls",
            "_model_module_version": "1.5.0",
            "_model_name": "ProgressStyleModel",
            "_view_count": null,
            "_view_module": "@jupyter-widgets/base",
            "_view_module_version": "1.2.0",
            "_view_name": "StyleView",
            "bar_color": null,
            "description_width": ""
          }
        },
        "a1e55b0970b24a1a9e04c08f04ed55e2": {
          "model_module": "@jupyter-widgets/base",
          "model_name": "LayoutModel",
          "model_module_version": "1.2.0",
          "state": {
            "_model_module": "@jupyter-widgets/base",
            "_model_module_version": "1.2.0",
            "_model_name": "LayoutModel",
            "_view_count": null,
            "_view_module": "@jupyter-widgets/base",
            "_view_module_version": "1.2.0",
            "_view_name": "LayoutView",
            "align_content": null,
            "align_items": null,
            "align_self": null,
            "border": null,
            "bottom": null,
            "display": null,
            "flex": null,
            "flex_flow": null,
            "grid_area": null,
            "grid_auto_columns": null,
            "grid_auto_flow": null,
            "grid_auto_rows": null,
            "grid_column": null,
            "grid_gap": null,
            "grid_row": null,
            "grid_template_areas": null,
            "grid_template_columns": null,
            "grid_template_rows": null,
            "height": null,
            "justify_content": null,
            "justify_items": null,
            "left": null,
            "margin": null,
            "max_height": null,
            "max_width": null,
            "min_height": null,
            "min_width": null,
            "object_fit": null,
            "object_position": null,
            "order": null,
            "overflow": null,
            "overflow_x": null,
            "overflow_y": null,
            "padding": null,
            "right": null,
            "top": null,
            "visibility": null,
            "width": null
          }
        },
        "19f2748e4cf34f85858cec9b5215e5f6": {
          "model_module": "@jupyter-widgets/controls",
          "model_name": "DescriptionStyleModel",
          "model_module_version": "1.5.0",
          "state": {
            "_model_module": "@jupyter-widgets/controls",
            "_model_module_version": "1.5.0",
            "_model_name": "DescriptionStyleModel",
            "_view_count": null,
            "_view_module": "@jupyter-widgets/base",
            "_view_module_version": "1.2.0",
            "_view_name": "StyleView",
            "description_width": ""
          }
        },
        "2bcbd24f1e804738a714abeccb139eac": {
          "model_module": "@jupyter-widgets/controls",
          "model_name": "HBoxModel",
          "model_module_version": "1.5.0",
          "state": {
            "_dom_classes": [],
            "_model_module": "@jupyter-widgets/controls",
            "_model_module_version": "1.5.0",
            "_model_name": "HBoxModel",
            "_view_count": null,
            "_view_module": "@jupyter-widgets/controls",
            "_view_module_version": "1.5.0",
            "_view_name": "HBoxView",
            "box_style": "",
            "children": [
              "IPY_MODEL_18163e8660904d6ba2f2a7819ca9db41",
              "IPY_MODEL_768812682aa1446bac9b102a728b71aa",
              "IPY_MODEL_3662441253a94d24abfd1327d113ac3c"
            ],
            "layout": "IPY_MODEL_1b7c3e48209a4ca39d9ffc28852183d1"
          }
        },
        "18163e8660904d6ba2f2a7819ca9db41": {
          "model_module": "@jupyter-widgets/controls",
          "model_name": "HTMLModel",
          "model_module_version": "1.5.0",
          "state": {
            "_dom_classes": [],
            "_model_module": "@jupyter-widgets/controls",
            "_model_module_version": "1.5.0",
            "_model_name": "HTMLModel",
            "_view_count": null,
            "_view_module": "@jupyter-widgets/controls",
            "_view_module_version": "1.5.0",
            "_view_name": "HTMLView",
            "description": "",
            "description_tooltip": null,
            "layout": "IPY_MODEL_082cb59cdbf9425ca7024da832d565b8",
            "placeholder": "​",
            "style": "IPY_MODEL_024672190c7e4c5ba91c9d7b3790ef57",
            "value": ""
          }
        },
        "768812682aa1446bac9b102a728b71aa": {
          "model_module": "@jupyter-widgets/controls",
          "model_name": "FloatProgressModel",
          "model_module_version": "1.5.0",
          "state": {
            "_dom_classes": [],
            "_model_module": "@jupyter-widgets/controls",
            "_model_module_version": "1.5.0",
            "_model_name": "FloatProgressModel",
            "_view_count": null,
            "_view_module": "@jupyter-widgets/controls",
            "_view_module_version": "1.5.0",
            "_view_name": "ProgressView",
            "bar_style": "success",
            "description": "",
            "description_tooltip": null,
            "layout": "IPY_MODEL_82e6cc0424aa46548ace3bc99bdabddb",
            "max": 4542,
            "min": 0,
            "orientation": "horizontal",
            "style": "IPY_MODEL_c5c9589405a641c7a59a9b129a918ff4",
            "value": 4542
          }
        },
        "3662441253a94d24abfd1327d113ac3c": {
          "model_module": "@jupyter-widgets/controls",
          "model_name": "HTMLModel",
          "model_module_version": "1.5.0",
          "state": {
            "_dom_classes": [],
            "_model_module": "@jupyter-widgets/controls",
            "_model_module_version": "1.5.0",
            "_model_name": "HTMLModel",
            "_view_count": null,
            "_view_module": "@jupyter-widgets/controls",
            "_view_module_version": "1.5.0",
            "_view_name": "HTMLView",
            "description": "",
            "description_tooltip": null,
            "layout": "IPY_MODEL_184cde322ad844eb8eb74bd5ac917451",
            "placeholder": "​",
            "style": "IPY_MODEL_a311487ccd37498c95e3667975dd3040",
            "value": " 5120/? [00:00&lt;00:00, 227004.33it/s]"
          }
        },
        "1b7c3e48209a4ca39d9ffc28852183d1": {
          "model_module": "@jupyter-widgets/base",
          "model_name": "LayoutModel",
          "model_module_version": "1.2.0",
          "state": {
            "_model_module": "@jupyter-widgets/base",
            "_model_module_version": "1.2.0",
            "_model_name": "LayoutModel",
            "_view_count": null,
            "_view_module": "@jupyter-widgets/base",
            "_view_module_version": "1.2.0",
            "_view_name": "LayoutView",
            "align_content": null,
            "align_items": null,
            "align_self": null,
            "border": null,
            "bottom": null,
            "display": null,
            "flex": null,
            "flex_flow": null,
            "grid_area": null,
            "grid_auto_columns": null,
            "grid_auto_flow": null,
            "grid_auto_rows": null,
            "grid_column": null,
            "grid_gap": null,
            "grid_row": null,
            "grid_template_areas": null,
            "grid_template_columns": null,
            "grid_template_rows": null,
            "height": null,
            "justify_content": null,
            "justify_items": null,
            "left": null,
            "margin": null,
            "max_height": null,
            "max_width": null,
            "min_height": null,
            "min_width": null,
            "object_fit": null,
            "object_position": null,
            "order": null,
            "overflow": null,
            "overflow_x": null,
            "overflow_y": null,
            "padding": null,
            "right": null,
            "top": null,
            "visibility": null,
            "width": null
          }
        },
        "082cb59cdbf9425ca7024da832d565b8": {
          "model_module": "@jupyter-widgets/base",
          "model_name": "LayoutModel",
          "model_module_version": "1.2.0",
          "state": {
            "_model_module": "@jupyter-widgets/base",
            "_model_module_version": "1.2.0",
            "_model_name": "LayoutModel",
            "_view_count": null,
            "_view_module": "@jupyter-widgets/base",
            "_view_module_version": "1.2.0",
            "_view_name": "LayoutView",
            "align_content": null,
            "align_items": null,
            "align_self": null,
            "border": null,
            "bottom": null,
            "display": null,
            "flex": null,
            "flex_flow": null,
            "grid_area": null,
            "grid_auto_columns": null,
            "grid_auto_flow": null,
            "grid_auto_rows": null,
            "grid_column": null,
            "grid_gap": null,
            "grid_row": null,
            "grid_template_areas": null,
            "grid_template_columns": null,
            "grid_template_rows": null,
            "height": null,
            "justify_content": null,
            "justify_items": null,
            "left": null,
            "margin": null,
            "max_height": null,
            "max_width": null,
            "min_height": null,
            "min_width": null,
            "object_fit": null,
            "object_position": null,
            "order": null,
            "overflow": null,
            "overflow_x": null,
            "overflow_y": null,
            "padding": null,
            "right": null,
            "top": null,
            "visibility": null,
            "width": null
          }
        },
        "024672190c7e4c5ba91c9d7b3790ef57": {
          "model_module": "@jupyter-widgets/controls",
          "model_name": "DescriptionStyleModel",
          "model_module_version": "1.5.0",
          "state": {
            "_model_module": "@jupyter-widgets/controls",
            "_model_module_version": "1.5.0",
            "_model_name": "DescriptionStyleModel",
            "_view_count": null,
            "_view_module": "@jupyter-widgets/base",
            "_view_module_version": "1.2.0",
            "_view_name": "StyleView",
            "description_width": ""
          }
        },
        "82e6cc0424aa46548ace3bc99bdabddb": {
          "model_module": "@jupyter-widgets/base",
          "model_name": "LayoutModel",
          "model_module_version": "1.2.0",
          "state": {
            "_model_module": "@jupyter-widgets/base",
            "_model_module_version": "1.2.0",
            "_model_name": "LayoutModel",
            "_view_count": null,
            "_view_module": "@jupyter-widgets/base",
            "_view_module_version": "1.2.0",
            "_view_name": "LayoutView",
            "align_content": null,
            "align_items": null,
            "align_self": null,
            "border": null,
            "bottom": null,
            "display": null,
            "flex": null,
            "flex_flow": null,
            "grid_area": null,
            "grid_auto_columns": null,
            "grid_auto_flow": null,
            "grid_auto_rows": null,
            "grid_column": null,
            "grid_gap": null,
            "grid_row": null,
            "grid_template_areas": null,
            "grid_template_columns": null,
            "grid_template_rows": null,
            "height": null,
            "justify_content": null,
            "justify_items": null,
            "left": null,
            "margin": null,
            "max_height": null,
            "max_width": null,
            "min_height": null,
            "min_width": null,
            "object_fit": null,
            "object_position": null,
            "order": null,
            "overflow": null,
            "overflow_x": null,
            "overflow_y": null,
            "padding": null,
            "right": null,
            "top": null,
            "visibility": null,
            "width": null
          }
        },
        "c5c9589405a641c7a59a9b129a918ff4": {
          "model_module": "@jupyter-widgets/controls",
          "model_name": "ProgressStyleModel",
          "model_module_version": "1.5.0",
          "state": {
            "_model_module": "@jupyter-widgets/controls",
            "_model_module_version": "1.5.0",
            "_model_name": "ProgressStyleModel",
            "_view_count": null,
            "_view_module": "@jupyter-widgets/base",
            "_view_module_version": "1.2.0",
            "_view_name": "StyleView",
            "bar_color": null,
            "description_width": ""
          }
        },
        "184cde322ad844eb8eb74bd5ac917451": {
          "model_module": "@jupyter-widgets/base",
          "model_name": "LayoutModel",
          "model_module_version": "1.2.0",
          "state": {
            "_model_module": "@jupyter-widgets/base",
            "_model_module_version": "1.2.0",
            "_model_name": "LayoutModel",
            "_view_count": null,
            "_view_module": "@jupyter-widgets/base",
            "_view_module_version": "1.2.0",
            "_view_name": "LayoutView",
            "align_content": null,
            "align_items": null,
            "align_self": null,
            "border": null,
            "bottom": null,
            "display": null,
            "flex": null,
            "flex_flow": null,
            "grid_area": null,
            "grid_auto_columns": null,
            "grid_auto_flow": null,
            "grid_auto_rows": null,
            "grid_column": null,
            "grid_gap": null,
            "grid_row": null,
            "grid_template_areas": null,
            "grid_template_columns": null,
            "grid_template_rows": null,
            "height": null,
            "justify_content": null,
            "justify_items": null,
            "left": null,
            "margin": null,
            "max_height": null,
            "max_width": null,
            "min_height": null,
            "min_width": null,
            "object_fit": null,
            "object_position": null,
            "order": null,
            "overflow": null,
            "overflow_x": null,
            "overflow_y": null,
            "padding": null,
            "right": null,
            "top": null,
            "visibility": null,
            "width": null
          }
        },
        "a311487ccd37498c95e3667975dd3040": {
          "model_module": "@jupyter-widgets/controls",
          "model_name": "DescriptionStyleModel",
          "model_module_version": "1.5.0",
          "state": {
            "_model_module": "@jupyter-widgets/controls",
            "_model_module_version": "1.5.0",
            "_model_name": "DescriptionStyleModel",
            "_view_count": null,
            "_view_module": "@jupyter-widgets/base",
            "_view_module_version": "1.2.0",
            "_view_name": "StyleView",
            "description_width": ""
          }
        }
      }
    }
  },
  "cells": [
    {
      "cell_type": "markdown",
      "source": [
        "**Pre-processing done**"
      ],
      "metadata": {
        "id": "10eqq9VIF0OL"
      }
    },
    {
      "cell_type": "markdown",
      "source": [
        "**Transfer learning begin:**"
      ],
      "metadata": {
        "id": "vvfaPVheF5Ho"
      }
    },
    {
      "cell_type": "code",
      "source": [
        "import os\n",
        "\n",
        "# third-party library\n",
        "import torch\n",
        "import torch.nn as nn\n",
        "import torch.utils.data as Data\n",
        "import torchvision\n",
        "import matplotlib.pyplot as plt\n",
        "\n",
        "# torch.manual_seed(1)    # reproducible\n",
        "\n",
        "# Hyper Parameters\n",
        "EPOCH = 2             # train the training data n times, to save time, we just train 1 epoch\n",
        "BATCH_SIZE = 50\n",
        "LR = 0.001              # learning rate\n",
        "DOWNLOAD_MNIST = False"
      ],
      "metadata": {
        "id": "3T5xdV-5V7O5"
      },
      "execution_count": null,
      "outputs": []
    },
    {
      "cell_type": "code",
      "source": [
        "from collections import Counter       #Written by Jacob and used to calculate the true accuracy.\n",
        "import numpy as np\n",
        "\n",
        "\n",
        "# actual accuracy\n",
        "def get_accuracy(p_data, t_data, extra_data):\n",
        "    sc = 0\n",
        "    if extra_data is None:\n",
        "        for i in range(len(p_data)):\n",
        "            if p_data[i] == t_data[i]:\n",
        "                sc += 1\n",
        "\n",
        "        return sc / len(p_data)\n",
        "    else:\n",
        "        counter = -1\n",
        "        for i in range(len(extra_data)):\n",
        "            is_good = True\n",
        "            for j in range(extra_data[i]):\n",
        "                counter += 1\n",
        "                is_good &= p_data[counter] == t_data[counter]\n",
        "            if is_good:\n",
        "                sc += 1\n",
        "        return sc / len(extra_data)"
      ],
      "metadata": {
        "id": "0TOKZvX43iYg"
      },
      "execution_count": null,
      "outputs": []
    },
    {
      "cell_type": "markdown",
      "source": [
        "CNN\n",
        "\n"
      ],
      "metadata": {
        "id": "JB027YCPw_mH"
      }
    },
    {
      "cell_type": "code",
      "source": [
        "# Mnist digits dataset\n",
        "if not(os.path.exists('./mnist/')) or not os.listdir('./mnist/'):\n",
        "    # not mnist dir or mnist is empyt dir\n",
        "    DOWNLOAD_MNIST = True\n",
        "\n",
        "train_data = torchvision.datasets.MNIST(\n",
        "    root='./mnist/',\n",
        "    train=True,                                     # this is training data\n",
        "    transform=torchvision.transforms.ToTensor(),    # Converts a PIL.Image or numpy.ndarray to\n",
        "                                                    # torch.FloatTensor of shape (C x H x W) and normalize in the range [0.0, 1.0]\n",
        "    download=DOWNLOAD_MNIST,\n",
        ")\n",
        "\n",
        "# plot one example\n",
        "# print(train_data.train_data.size())                 # (60000, 28, 28)\n",
        "# print(train_data.train_labels.size())               # (60000)\n",
        "#for i in range(5):\n",
        "    #plt.imshow(train_data.train_data[i].numpy(), cmap='gray')\n",
        "    #plt.title('%i' % train_data.train_labels[i])\n",
        "    #plt.show()\n",
        "\n",
        "# Data Loader for easy mini-batch return in training, the image batch shape will be (50, 1, 28, 28)\n",
        "train_loader = Data.DataLoader(dataset=train_data, batch_size=BATCH_SIZE, shuffle=True)\n",
        "\n",
        "# pick 2000 samples to speed up testing\n",
        "test_data = torchvision.datasets.MNIST(root='./mnist/', train=False)\n",
        "test_x = torch.unsqueeze(test_data.test_data, dim=1).type(torch.FloatTensor)[:2000]/255.   # shape from (2000, 28, 28) to (2000, 1, 28, 28), value in range(0,1)\n",
        "test_y = test_data.test_labels[:2000]"
      ],
      "metadata": {
        "colab": {
          "base_uri": "https://localhost:8080/",
          "height": 512,
          "referenced_widgets": [
            "f874f370083c4045af19a04b7c573002",
            "f89c9e0a6c9949e9835dd06d81255553",
            "55b3fff03d8c43bea8efe12ea154d5d8",
            "ec7f64830ad445c29ed4e57196ba2059",
            "5f96f08135c24b9d818524b0aa3edaf5",
            "52acb46ad0a442299da558ade90cd1a2",
            "74c979a8ab284190a0a1525ab42944f4",
            "192942a463ed4eeeb2efe3b944392420",
            "352932d8891b4dff80743d35a7edec62",
            "2465787e34964c9d8673a0b03618c5ca",
            "fd295f45ff8144f1ad9024c6c351ffe6",
            "c1003b709c054091ace05174e15211a5",
            "75cd7c6f1c2740c0ac16c7784154ccf0",
            "1387b0b6ad15445a8f39450195b3bb23",
            "9ca160fec67a4c7daf9fb9f983dda3e7",
            "da272ff09dec4eb9824885d6f6731adf",
            "9da9c68b71dc4a78b739d3aa9873dfff",
            "766b9d4c7a08451d9195c258e5f85c18",
            "35e42c9a645a45b0b37e304f05360dd5",
            "ec0a7b58db704b19b5c732176217c59b",
            "dcd862589ae141dab4c4d311b4829cea",
            "3745cc015045473399ed617ef55552bc",
            "7dbe9b8ef8664c00b53d69fb92d73170",
            "a9b8d9edbe214c9abbc567598c39f0a9",
            "9a1bffa8abcb4530a0086488fc8de33e",
            "7bff5cd6d8ee4be986c9ed12482ba1d4",
            "f35f5f055cb341c6b8c94568d93f4f77",
            "3540564c60ce418ca99e1cd7157a253b",
            "a25d792c63984c5d963529d9fb40b537",
            "12825709e50d44908b21bf01a29b0a85",
            "7d318bca11f04464a945a3a5dce07364",
            "a1e55b0970b24a1a9e04c08f04ed55e2",
            "19f2748e4cf34f85858cec9b5215e5f6",
            "2bcbd24f1e804738a714abeccb139eac",
            "18163e8660904d6ba2f2a7819ca9db41",
            "768812682aa1446bac9b102a728b71aa",
            "3662441253a94d24abfd1327d113ac3c",
            "1b7c3e48209a4ca39d9ffc28852183d1",
            "082cb59cdbf9425ca7024da832d565b8",
            "024672190c7e4c5ba91c9d7b3790ef57",
            "82e6cc0424aa46548ace3bc99bdabddb",
            "c5c9589405a641c7a59a9b129a918ff4",
            "184cde322ad844eb8eb74bd5ac917451",
            "a311487ccd37498c95e3667975dd3040"
          ]
        },
        "id": "j3Rss5HhpzUX",
        "outputId": "98d818f1-f12c-483d-c49e-5992c237147a"
      },
      "execution_count": null,
      "outputs": [
        {
          "output_type": "stream",
          "name": "stdout",
          "text": [
            "Downloading http://yann.lecun.com/exdb/mnist/train-images-idx3-ubyte.gz\n",
            "Downloading http://yann.lecun.com/exdb/mnist/train-images-idx3-ubyte.gz to ./mnist/MNIST/raw/train-images-idx3-ubyte.gz\n"
          ]
        },
        {
          "output_type": "display_data",
          "data": {
            "text/plain": [
              "  0%|          | 0/9912422 [00:00<?, ?it/s]"
            ],
            "application/vnd.jupyter.widget-view+json": {
              "version_major": 2,
              "version_minor": 0,
              "model_id": "f874f370083c4045af19a04b7c573002"
            }
          },
          "metadata": {}
        },
        {
          "output_type": "stream",
          "name": "stdout",
          "text": [
            "Extracting ./mnist/MNIST/raw/train-images-idx3-ubyte.gz to ./mnist/MNIST/raw\n",
            "\n",
            "Downloading http://yann.lecun.com/exdb/mnist/train-labels-idx1-ubyte.gz\n",
            "Downloading http://yann.lecun.com/exdb/mnist/train-labels-idx1-ubyte.gz to ./mnist/MNIST/raw/train-labels-idx1-ubyte.gz\n"
          ]
        },
        {
          "output_type": "display_data",
          "data": {
            "text/plain": [
              "  0%|          | 0/28881 [00:00<?, ?it/s]"
            ],
            "application/vnd.jupyter.widget-view+json": {
              "version_major": 2,
              "version_minor": 0,
              "model_id": "c1003b709c054091ace05174e15211a5"
            }
          },
          "metadata": {}
        },
        {
          "output_type": "stream",
          "name": "stdout",
          "text": [
            "Extracting ./mnist/MNIST/raw/train-labels-idx1-ubyte.gz to ./mnist/MNIST/raw\n",
            "\n",
            "Downloading http://yann.lecun.com/exdb/mnist/t10k-images-idx3-ubyte.gz\n",
            "Downloading http://yann.lecun.com/exdb/mnist/t10k-images-idx3-ubyte.gz to ./mnist/MNIST/raw/t10k-images-idx3-ubyte.gz\n"
          ]
        },
        {
          "output_type": "display_data",
          "data": {
            "text/plain": [
              "  0%|          | 0/1648877 [00:00<?, ?it/s]"
            ],
            "application/vnd.jupyter.widget-view+json": {
              "version_major": 2,
              "version_minor": 0,
              "model_id": "7dbe9b8ef8664c00b53d69fb92d73170"
            }
          },
          "metadata": {}
        },
        {
          "output_type": "stream",
          "name": "stdout",
          "text": [
            "Extracting ./mnist/MNIST/raw/t10k-images-idx3-ubyte.gz to ./mnist/MNIST/raw\n",
            "\n",
            "Downloading http://yann.lecun.com/exdb/mnist/t10k-labels-idx1-ubyte.gz\n",
            "Downloading http://yann.lecun.com/exdb/mnist/t10k-labels-idx1-ubyte.gz to ./mnist/MNIST/raw/t10k-labels-idx1-ubyte.gz\n"
          ]
        },
        {
          "output_type": "display_data",
          "data": {
            "text/plain": [
              "  0%|          | 0/4542 [00:00<?, ?it/s]"
            ],
            "application/vnd.jupyter.widget-view+json": {
              "version_major": 2,
              "version_minor": 0,
              "model_id": "2bcbd24f1e804738a714abeccb139eac"
            }
          },
          "metadata": {}
        },
        {
          "output_type": "stream",
          "name": "stdout",
          "text": [
            "Extracting ./mnist/MNIST/raw/t10k-labels-idx1-ubyte.gz to ./mnist/MNIST/raw\n",
            "\n"
          ]
        },
        {
          "output_type": "stream",
          "name": "stderr",
          "text": [
            "/usr/local/lib/python3.7/dist-packages/torchvision/datasets/mnist.py:80: UserWarning: test_data has been renamed data\n",
            "  warnings.warn(\"test_data has been renamed data\")\n",
            "/usr/local/lib/python3.7/dist-packages/torchvision/datasets/mnist.py:70: UserWarning: test_labels has been renamed targets\n",
            "  warnings.warn(\"test_labels has been renamed targets\")\n"
          ]
        }
      ]
    },
    {
      "cell_type": "code",
      "source": [
        "class CNN(nn.Module):\n",
        "    def __init__(self):\n",
        "        super(CNN, self).__init__()\n",
        "        self.conv1 = nn.Sequential(         # input shape (1, 28, 28)\n",
        "            nn.Conv2d(\n",
        "                in_channels=1,              # input height\n",
        "                out_channels=16,            # n_filters\n",
        "                kernel_size=5,              # filter size\n",
        "                stride=1,                   # filter movement/step\n",
        "                padding=2,                  # if want same width and length of this image after con2d, padding=(kernel_size-1)/2 if stride=1\n",
        "            ),                              # output shape (16, 28, 28)\n",
        "            nn.ReLU(),                      # activation\n",
        "            nn.MaxPool2d(kernel_size=2),    # choose max value in 2x2 area, output shape (16, 14, 14)\n",
        "        )\n",
        "        self.conv2 = nn.Sequential(         # input shape (16, 14, 14)\n",
        "            nn.Conv2d(16, 32, 5, 1, 2),     # output shape (32, 14, 14)\n",
        "            nn.ReLU(),                      # activation\n",
        "            nn.MaxPool2d(2),                # output shape (32, 7, 7)\n",
        "        )\n",
        "        self.out = nn.Linear(32 * 7 * 7, 10)   # fully connected layer, output 10 classes\n",
        "\n",
        "    def forward(self, x):\n",
        "        x = self.conv1(x)\n",
        "        x = self.conv2(x)\n",
        "        x = x.view(x.size(0), -1)           # flatten the output of conv2 to (batch_size, 32 * 7 * 7)\n",
        "        output = self.out(x)\n",
        "        return output, x    # return x for visualization"
      ],
      "metadata": {
        "id": "GkBmVn-6ZbEl"
      },
      "execution_count": null,
      "outputs": []
    },
    {
      "cell_type": "code",
      "source": [
        "cnn = CNN()\n",
        "print(cnn)  # net architecture\n",
        "\n",
        "optimizer = torch.optim.Adam(cnn.parameters(), lr=LR)   # optimize all cnn parameters\n",
        "loss_func = nn.CrossEntropyLoss()                       # the target label is not one-hotted\n",
        "\n",
        "\n",
        "for epoch in range(2):\n",
        "    for step, (b_x, b_y) in enumerate(train_loader):   # gives batch data, normalize x when iterate train_loader\n",
        "\n",
        "        output = cnn(b_x)[0]               # cnn output\n",
        "        loss = loss_func(output, b_y)   # cross entropy loss\n",
        "        optimizer.zero_grad() \n",
        "                  # clear gradients for this training step\n",
        "        loss.backward() \n",
        "        _ = torch.nn.utils.clip_grad_norm_(cnn.parameters(), 5) #gradient clipping with max =7\n",
        "                           # backpropagation, compute gradients\n",
        "        optimizer.step()                # apply gradients\n",
        "\n",
        "        if step % 50 == 0:\n",
        "            test_output, last_layer = cnn(test_x)\n",
        "            pred_y = torch.max(test_output, 1)[1].data.squeeze().numpy()\n",
        "            accuracy = float((pred_y == test_y.data.numpy()).astype(int).sum()) / float(test_y.size(0))\n",
        "            print('Epoch: ', epoch, '| train loss: %.4f' % loss.data.numpy(), '| test accuracy: %.4f' % accuracy)\n",
        "#             if HAS_SK:\n",
        "#                 # Visualization of trained flatten layer (T-SNE)\n",
        "#                 tsne = TSNE(perplexity=30, n_components=2, init='pca', n_iter=5000)\n",
        "#                 plot_only = 500\n",
        "#                 low_dim_embs = tsne.fit_transform(last_layer.data.numpy()[:plot_only, :])\n",
        "#                 labels = test_y.numpy()[:plot_only]\n",
        "#                 plot_with_labels(low_dim_embs, labels)\n",
        "# plt.ioff()"
      ],
      "metadata": {
        "colab": {
          "base_uri": "https://localhost:8080/"
        },
        "id": "21xWYyjLZbG7",
        "outputId": "be834cfd-aa5b-4bef-fb29-31276c20aad9"
      },
      "execution_count": null,
      "outputs": [
        {
          "output_type": "stream",
          "name": "stdout",
          "text": [
            "CNN(\n",
            "  (conv1): Sequential(\n",
            "    (0): Conv2d(1, 16, kernel_size=(5, 5), stride=(1, 1), padding=(2, 2))\n",
            "    (1): ReLU()\n",
            "    (2): MaxPool2d(kernel_size=2, stride=2, padding=0, dilation=1, ceil_mode=False)\n",
            "  )\n",
            "  (conv2): Sequential(\n",
            "    (0): Conv2d(16, 32, kernel_size=(5, 5), stride=(1, 1), padding=(2, 2))\n",
            "    (1): ReLU()\n",
            "    (2): MaxPool2d(kernel_size=2, stride=2, padding=0, dilation=1, ceil_mode=False)\n",
            "  )\n",
            "  (out): Linear(in_features=1568, out_features=10, bias=True)\n",
            ")\n",
            "Epoch:  0 | train loss: 2.3165 | test accuracy: 0.0935\n",
            "Epoch:  0 | train loss: 0.7640 | test accuracy: 0.7320\n",
            "Epoch:  0 | train loss: 0.4326 | test accuracy: 0.8615\n",
            "Epoch:  0 | train loss: 0.1645 | test accuracy: 0.9270\n",
            "Epoch:  0 | train loss: 0.0857 | test accuracy: 0.9285\n",
            "Epoch:  0 | train loss: 0.1179 | test accuracy: 0.9420\n",
            "Epoch:  0 | train loss: 0.0531 | test accuracy: 0.9425\n",
            "Epoch:  0 | train loss: 0.1958 | test accuracy: 0.9335\n",
            "Epoch:  0 | train loss: 0.1039 | test accuracy: 0.9635\n",
            "Epoch:  0 | train loss: 0.0767 | test accuracy: 0.9650\n",
            "Epoch:  0 | train loss: 0.0434 | test accuracy: 0.9655\n",
            "Epoch:  0 | train loss: 0.0918 | test accuracy: 0.9675\n",
            "Epoch:  0 | train loss: 0.0581 | test accuracy: 0.9705\n",
            "Epoch:  0 | train loss: 0.0437 | test accuracy: 0.9730\n",
            "Epoch:  0 | train loss: 0.0551 | test accuracy: 0.9760\n",
            "Epoch:  0 | train loss: 0.0189 | test accuracy: 0.9705\n",
            "Epoch:  0 | train loss: 0.0567 | test accuracy: 0.9740\n",
            "Epoch:  0 | train loss: 0.0531 | test accuracy: 0.9725\n",
            "Epoch:  0 | train loss: 0.0220 | test accuracy: 0.9745\n",
            "Epoch:  0 | train loss: 0.1288 | test accuracy: 0.9750\n",
            "Epoch:  0 | train loss: 0.0092 | test accuracy: 0.9675\n",
            "Epoch:  0 | train loss: 0.0147 | test accuracy: 0.9730\n",
            "Epoch:  0 | train loss: 0.0451 | test accuracy: 0.9750\n",
            "Epoch:  0 | train loss: 0.3495 | test accuracy: 0.9785\n",
            "Epoch:  1 | train loss: 0.0254 | test accuracy: 0.9765\n",
            "Epoch:  1 | train loss: 0.0800 | test accuracy: 0.9795\n",
            "Epoch:  1 | train loss: 0.0528 | test accuracy: 0.9810\n",
            "Epoch:  1 | train loss: 0.0639 | test accuracy: 0.9795\n",
            "Epoch:  1 | train loss: 0.0225 | test accuracy: 0.9810\n",
            "Epoch:  1 | train loss: 0.0191 | test accuracy: 0.9805\n",
            "Epoch:  1 | train loss: 0.0313 | test accuracy: 0.9765\n",
            "Epoch:  1 | train loss: 0.0091 | test accuracy: 0.9835\n",
            "Epoch:  1 | train loss: 0.0963 | test accuracy: 0.9740\n",
            "Epoch:  1 | train loss: 0.0044 | test accuracy: 0.9835\n",
            "Epoch:  1 | train loss: 0.0046 | test accuracy: 0.9785\n",
            "Epoch:  1 | train loss: 0.0282 | test accuracy: 0.9830\n",
            "Epoch:  1 | train loss: 0.2314 | test accuracy: 0.9815\n",
            "Epoch:  1 | train loss: 0.3371 | test accuracy: 0.9800\n",
            "Epoch:  1 | train loss: 0.1102 | test accuracy: 0.9805\n",
            "Epoch:  1 | train loss: 0.0593 | test accuracy: 0.9780\n",
            "Epoch:  1 | train loss: 0.0161 | test accuracy: 0.9815\n",
            "Epoch:  1 | train loss: 0.0145 | test accuracy: 0.9760\n",
            "Epoch:  1 | train loss: 0.0794 | test accuracy: 0.9830\n",
            "Epoch:  1 | train loss: 0.0640 | test accuracy: 0.9835\n",
            "Epoch:  1 | train loss: 0.0028 | test accuracy: 0.9870\n",
            "Epoch:  1 | train loss: 0.0782 | test accuracy: 0.9830\n",
            "Epoch:  1 | train loss: 0.0243 | test accuracy: 0.9835\n",
            "Epoch:  1 | train loss: 0.0070 | test accuracy: 0.9845\n"
          ]
        }
      ]
    },
    {
      "cell_type": "code",
      "source": [
        "# print 10 predictions from test data\n",
        "#test_output, _ = cnn(test_x[:30])\n",
        "#pred_y = torch.max(test_output, 1)[1].data.numpy().squeeze()\n",
        "#print(pred_y, 'prediction number')\n",
        "#print(test_y[:30].numpy(), 'real number')"
      ],
      "metadata": {
        "id": "gcqs_c7AZbJS"
      },
      "execution_count": null,
      "outputs": []
    },
    {
      "cell_type": "code",
      "source": [
        "torch.save(cnn, \"mnist_model.pth\")"
      ],
      "metadata": {
        "id": "Z66KVQD_ZbLk"
      },
      "execution_count": null,
      "outputs": []
    },
    {
      "cell_type": "code",
      "source": [
        "del cnn"
      ],
      "metadata": {
        "id": "SNH-GEPBZbOI"
      },
      "execution_count": null,
      "outputs": []
    },
    {
      "cell_type": "code",
      "source": [
        "import os\n",
        "\n",
        "# third-party library\n",
        "import torch\n",
        "import torch.nn as nn\n",
        "import torch.utils.data as Data\n",
        "import torchvision\n",
        "import matplotlib.pyplot as plt\n",
        "\n",
        "# torch.manual_seed(1)    # reproducible\n",
        "\n",
        "# Hyper Parameters\n",
        "EPOCH = 10             # train the training data n times, to save time, we just train 1 epoch\n",
        "BATCH_SIZE = 64\n",
        "LR = 0.001              # learning rate"
      ],
      "metadata": {
        "id": "JPEGJzOyZbQc"
      },
      "execution_count": null,
      "outputs": []
    },
    {
      "cell_type": "code",
      "source": [
        "model = torch.load(\"mnist_model.pth\") \n"
      ],
      "metadata": {
        "id": "_tScnhduZbSs"
      },
      "execution_count": null,
      "outputs": []
    },
    {
      "cell_type": "code",
      "source": [
        "print(model)"
      ],
      "metadata": {
        "colab": {
          "base_uri": "https://localhost:8080/"
        },
        "id": "WUl1GlEzZbU3",
        "outputId": "d71c827b-9a8b-45e8-ee88-6e81ede57c9f"
      },
      "execution_count": null,
      "outputs": [
        {
          "output_type": "stream",
          "name": "stdout",
          "text": [
            "CNN(\n",
            "  (conv1): Sequential(\n",
            "    (0): Conv2d(1, 16, kernel_size=(5, 5), stride=(1, 1), padding=(2, 2))\n",
            "    (1): ReLU()\n",
            "    (2): MaxPool2d(kernel_size=2, stride=2, padding=0, dilation=1, ceil_mode=False)\n",
            "  )\n",
            "  (conv2): Sequential(\n",
            "    (0): Conv2d(16, 32, kernel_size=(5, 5), stride=(1, 1), padding=(2, 2))\n",
            "    (1): ReLU()\n",
            "    (2): MaxPool2d(kernel_size=2, stride=2, padding=0, dilation=1, ceil_mode=False)\n",
            "  )\n",
            "  (out): Linear(in_features=1568, out_features=10, bias=True)\n",
            ")\n"
          ]
        }
      ]
    },
    {
      "cell_type": "code",
      "source": [
        "for param in model.conv1.parameters():             # freeze the parameters\n",
        "    param.requires_grad = False\n",
        "    \n",
        "for param in model.conv2.parameters():\n",
        "    param.requires_grad = False"
      ],
      "metadata": {
        "id": "bj1wVhyDqfyk"
      },
      "execution_count": null,
      "outputs": []
    },
    {
      "cell_type": "code",
      "source": [
        "import os\n",
        "import time\n",
        "import h5py\n",
        "import numpy as np"
      ],
      "metadata": {
        "id": "yQk3Zj9tqf06"
      },
      "execution_count": null,
      "outputs": []
    },
    {
      "cell_type": "code",
      "source": [
        "# Open the file as readonly\n",
        "h5f = h5py.File('/content/drive/MyDrive/Resizedata_bugfixed.h5', 'r')\n",
        "\n",
        "# Load the training, test and validation set\n",
        "x_train = h5f['x_train'][:]\n",
        "y_train = h5f['y_train'][:]\n",
        "x_test = h5f['x_test'][:]\n",
        "y_test = h5f['y_test'][:]\n",
        "x_extra = h5f['x_extra'][:]\n",
        "y_extra = h5f['y_extra'][:]\n",
        "# Close this file\n",
        "h5f.close()\n",
        "\n",
        "print(x_test.shape)\n",
        "print(x_train.shape)\n",
        "print(x_extra.shape)"
      ],
      "metadata": {
        "colab": {
          "base_uri": "https://localhost:8080/"
        },
        "id": "mnZy5UEtruCh",
        "outputId": "12d67ac7-e539-4806-ac0a-9900fac3d193"
      },
      "execution_count": null,
      "outputs": [
        {
          "output_type": "stream",
          "name": "stdout",
          "text": [
            "(26032, 28, 28)\n",
            "(73257, 28, 28)\n",
            "(531131, 28, 28)\n"
          ]
        }
      ]
    },
    {
      "cell_type": "code",
      "source": [
        "from google.colab import drive\n",
        "drive.mount('/content/drive')"
      ],
      "metadata": {
        "colab": {
          "base_uri": "https://localhost:8080/"
        },
        "id": "BR8-M68Aw9wg",
        "outputId": "f7c8297d-b0dd-4bd6-e04b-6304f1808c90"
      },
      "execution_count": null,
      "outputs": [
        {
          "output_type": "stream",
          "name": "stdout",
          "text": [
            "Drive already mounted at /content/drive; to attempt to forcibly remount, call drive.mount(\"/content/drive\", force_remount=True).\n"
          ]
        }
      ]
    },
    {
      "cell_type": "code",
      "source": [
        "x_train = np.concatenate([x_train, x_extra])\n",
        "y_train = np.concatenate([y_train, y_extra])"
      ],
      "metadata": {
        "id": "EkPUIcysuJ1h"
      },
      "execution_count": null,
      "outputs": []
    },
    {
      "cell_type": "code",
      "source": [
        "plt.imshow(x_test[4],cmap='gray')"
      ],
      "metadata": {
        "colab": {
          "base_uri": "https://localhost:8080/",
          "height": 283
        },
        "id": "qJnhox-moyvH",
        "outputId": "0009db9b-5d34-476e-f55a-dda71fd1e6fb"
      },
      "execution_count": null,
      "outputs": [
        {
          "output_type": "execute_result",
          "data": {
            "text/plain": [
              "<matplotlib.image.AxesImage at 0x7f5aa2785c10>"
            ]
          },
          "metadata": {},
          "execution_count": 17
        },
        {
          "output_type": "display_data",
          "data": {
            "text/plain": [
              "<Figure size 432x288 with 1 Axes>"
            ],
            "image/png": "[encoded data removed]"
          },
          "metadata": {
            "needs_background": "light"
          }
        }
      ]
    },
    {
      "cell_type": "code",
      "source": [
        "y_test[3]"
      ],
      "metadata": {
        "colab": {
          "base_uri": "https://localhost:8080/"
        },
        "id": "OYFUoWAOo0mU",
        "outputId": "f8f59615-e2b7-4d79-9936-b727c8a54712"
      },
      "execution_count": null,
      "outputs": [
        {
          "output_type": "execute_result",
          "data": {
            "text/plain": [
              "0"
            ]
          },
          "metadata": {},
          "execution_count": 18
        }
      ]
    },
    {
      "cell_type": "code",
      "source": [
        "x_train = x_train.reshape(len(x_train),1,28,28)\n",
        "x_test = x_test.reshape(len(x_test),1,28,28)\n",
        "x_train = x_train/255\n",
        "x_test = x_test/255\n",
        "print(x_train.shape)\n",
        "print(x_test.shape)"
      ],
      "metadata": {
        "id": "Lq5NxsmTs3b9",
        "colab": {
          "base_uri": "https://localhost:8080/"
        },
        "outputId": "92d5aca3-134d-4999-c7dd-b35bfe012800"
      },
      "execution_count": null,
      "outputs": [
        {
          "output_type": "stream",
          "name": "stdout",
          "text": [
            "(604388, 1, 28, 28)\n",
            "(26032, 1, 28, 28)\n"
          ]
        }
      ]
    },
    {
      "cell_type": "code",
      "source": [
        "from torch.utils.data import Dataset, DataLoader\n",
        "\n",
        "class MyDataset(Dataset):\n",
        "    def __init__(self, data, target, transform=None):\n",
        "        self.data = torch.from_numpy(data).float()\n",
        "        self.target = torch.from_numpy(target).long()\n",
        "        self.transform = transform\n",
        "        \n",
        "    def __getitem__(self, index):\n",
        "        x = self.data[index]\n",
        "        y = self.target[index]\n",
        "        \n",
        "        if self.transform:\n",
        "            x = self.transform(x)\n",
        "        \n",
        "        return x, y\n",
        "    \n",
        "    def __len__(self):\n",
        "        return len(self.data)\n"
      ],
      "metadata": {
        "id": "D1Cn-2sqqf7q"
      },
      "execution_count": null,
      "outputs": []
    },
    {
      "cell_type": "code",
      "source": [
        "train_dataset = MyDataset(x_train, y_train)\n",
        "train_loader = DataLoader(\n",
        "    train_dataset,\n",
        "    batch_size=64,\n",
        "    shuffle=True,\n",
        ")"
      ],
      "metadata": {
        "id": "T5uy3Mlgqf98"
      },
      "execution_count": null,
      "outputs": []
    },
    {
      "cell_type": "code",
      "source": [
        "test_dataset = MyDataset(x_test, y_test)\n",
        "test_loader = DataLoader(\n",
        "    test_dataset,\n",
        "    batch_size=32,\n",
        "    shuffle=True,\n",
        ")\n",
        "test_dataiter = iter(test_loader)"
      ],
      "metadata": {
        "id": "eQ11ReNnqgAG"
      },
      "execution_count": null,
      "outputs": []
    },
    {
      "cell_type": "code",
      "source": [
        "torch.cuda.is_available()\n",
        "torch.cuda.device_count()"
      ],
      "metadata": {
        "colab": {
          "base_uri": "https://localhost:8080/"
        },
        "id": "_0tIjd6zqgEt",
        "outputId": "c709ad7f-29f7-43eb-dd22-c43d670a60f1"
      },
      "execution_count": null,
      "outputs": [
        {
          "output_type": "execute_result",
          "data": {
            "text/plain": [
              "1"
            ]
          },
          "metadata": {},
          "execution_count": 23
        }
      ]
    },
    {
      "cell_type": "code",
      "source": [
        "optimizer = torch.optim.Adam(model.out.parameters(), lr=LR)   # optimize all cnn parameters\n",
        "loss_func = nn.CrossEntropyLoss()       "
      ],
      "metadata": {
        "id": "SddicVNfqgG-"
      },
      "execution_count": null,
      "outputs": []
    },
    {
      "cell_type": "code",
      "source": [
        "for epoch in range(EPOCH):\n",
        "    \n",
        "    running_loss = 0.0\n",
        "    for step, (b_x, b_y) in enumerate(train_loader):   # gives batch data, normalize x when iterate train_loader\n",
        "\n",
        "        output = model(b_x)[0]            # cnn output\n",
        "        loss = loss_func(output, b_y)   # cross entropy loss\n",
        "        optimizer.zero_grad()           # clear gradients for this training step\n",
        "        loss.backward()                 # backpropagation, compute gradients\n",
        "        optimizer.step()                # apply gradients\n",
        "        running_loss += loss.item()\n",
        "        \n",
        "        if step % 1000 == 999:\n",
        "            images, labels = test_dataiter.next()\n",
        "            test_output, last_layer = model(images)\n",
        "            pred_y = torch.max(test_output, 1)[1].data.squeeze().numpy()\n",
        "            accuracy = float((pred_y == labels.data.numpy()).astype(int).sum()) / float(labels.size(0))\n",
        "            print('Epoch: ', epoch+1, '|step: ',step, '| train loss: %.4f' % running_loss, '| test accuracy: %.4f' % accuracy)\n",
        "            running_loss = 0.0"
      ],
      "metadata": {
        "colab": {
          "base_uri": "https://localhost:8080/"
        },
        "id": "1IpTUk9kqgJA",
        "outputId": "0fe9fc6b-9b9a-4c45-b3f9-ebb800dd22ba"
      },
      "execution_count": null,
      "outputs": [
        {
          "output_type": "stream",
          "name": "stdout",
          "text": [
            "Epoch:  1 |step:  999 | train loss: 898.5351 | test accuracy: 0.6562\n",
            "Epoch:  1 |step:  1999 | train loss: 607.3460 | test accuracy: 0.9062\n",
            "Epoch:  1 |step:  2999 | train loss: 540.8681 | test accuracy: 0.7188\n",
            "Epoch:  1 |step:  3999 | train loss: 513.4690 | test accuracy: 0.5938\n",
            "Epoch:  1 |step:  4999 | train loss: 492.1794 | test accuracy: 0.7188\n",
            "Epoch:  1 |step:  5999 | train loss: 483.4892 | test accuracy: 0.5938\n",
            "Epoch:  1 |step:  6999 | train loss: 468.1572 | test accuracy: 0.8125\n",
            "Epoch:  1 |step:  7999 | train loss: 444.6535 | test accuracy: 0.8438\n",
            "Epoch:  1 |step:  8999 | train loss: 456.1932 | test accuracy: 0.6875\n",
            "Epoch:  2 |step:  999 | train loss: 432.8209 | test accuracy: 0.7188\n",
            "Epoch:  2 |step:  1999 | train loss: 434.2531 | test accuracy: 0.7812\n",
            "Epoch:  2 |step:  2999 | train loss: 426.9711 | test accuracy: 0.8125\n",
            "Epoch:  2 |step:  3999 | train loss: 433.4663 | test accuracy: 0.7812\n",
            "Epoch:  2 |step:  4999 | train loss: 421.3860 | test accuracy: 0.7188\n",
            "Epoch:  2 |step:  5999 | train loss: 422.0633 | test accuracy: 0.8438\n",
            "Epoch:  2 |step:  6999 | train loss: 415.0151 | test accuracy: 0.7188\n",
            "Epoch:  2 |step:  7999 | train loss: 418.0379 | test accuracy: 0.8125\n",
            "Epoch:  2 |step:  8999 | train loss: 414.0941 | test accuracy: 0.6875\n",
            "Epoch:  3 |step:  999 | train loss: 407.4714 | test accuracy: 0.7188\n",
            "Epoch:  3 |step:  1999 | train loss: 404.1523 | test accuracy: 0.6875\n",
            "Epoch:  3 |step:  2999 | train loss: 408.7705 | test accuracy: 0.7188\n",
            "Epoch:  3 |step:  3999 | train loss: 403.7139 | test accuracy: 0.6562\n",
            "Epoch:  3 |step:  4999 | train loss: 403.3881 | test accuracy: 0.7188\n",
            "Epoch:  3 |step:  5999 | train loss: 402.3325 | test accuracy: 0.7500\n",
            "Epoch:  3 |step:  6999 | train loss: 406.4915 | test accuracy: 0.7188\n",
            "Epoch:  3 |step:  7999 | train loss: 397.9071 | test accuracy: 0.7812\n",
            "Epoch:  3 |step:  8999 | train loss: 396.4650 | test accuracy: 0.8125\n",
            "Epoch:  4 |step:  999 | train loss: 390.6834 | test accuracy: 0.8125\n",
            "Epoch:  4 |step:  1999 | train loss: 394.3530 | test accuracy: 0.7812\n",
            "Epoch:  4 |step:  2999 | train loss: 391.3313 | test accuracy: 0.8438\n",
            "Epoch:  4 |step:  3999 | train loss: 398.5792 | test accuracy: 0.7188\n",
            "Epoch:  4 |step:  4999 | train loss: 390.5996 | test accuracy: 0.8125\n",
            "Epoch:  4 |step:  5999 | train loss: 389.9973 | test accuracy: 0.6250\n",
            "Epoch:  4 |step:  6999 | train loss: 388.9619 | test accuracy: 0.8125\n",
            "Epoch:  4 |step:  7999 | train loss: 389.7077 | test accuracy: 0.7812\n",
            "Epoch:  4 |step:  8999 | train loss: 398.3134 | test accuracy: 0.7188\n",
            "Epoch:  5 |step:  999 | train loss: 387.8496 | test accuracy: 0.6875\n",
            "Epoch:  5 |step:  1999 | train loss: 386.1218 | test accuracy: 0.8750\n",
            "Epoch:  5 |step:  2999 | train loss: 379.9648 | test accuracy: 0.7188\n",
            "Epoch:  5 |step:  3999 | train loss: 380.9317 | test accuracy: 0.7500\n",
            "Epoch:  5 |step:  4999 | train loss: 392.2552 | test accuracy: 0.7812\n",
            "Epoch:  5 |step:  5999 | train loss: 386.6918 | test accuracy: 0.6875\n",
            "Epoch:  5 |step:  6999 | train loss: 386.3053 | test accuracy: 0.7188\n",
            "Epoch:  5 |step:  7999 | train loss: 389.0241 | test accuracy: 0.7812\n",
            "Epoch:  5 |step:  8999 | train loss: 382.6876 | test accuracy: 0.7500\n",
            "Epoch:  6 |step:  999 | train loss: 382.5526 | test accuracy: 0.9062\n",
            "Epoch:  6 |step:  1999 | train loss: 376.3127 | test accuracy: 0.6250\n",
            "Epoch:  6 |step:  2999 | train loss: 376.7738 | test accuracy: 0.7500\n",
            "Epoch:  6 |step:  3999 | train loss: 378.9176 | test accuracy: 0.8125\n",
            "Epoch:  6 |step:  4999 | train loss: 382.8346 | test accuracy: 0.8125\n",
            "Epoch:  6 |step:  5999 | train loss: 384.6979 | test accuracy: 0.8438\n",
            "Epoch:  6 |step:  6999 | train loss: 389.0335 | test accuracy: 0.7812\n",
            "Epoch:  6 |step:  7999 | train loss: 377.6666 | test accuracy: 0.7500\n",
            "Epoch:  6 |step:  8999 | train loss: 382.9401 | test accuracy: 0.7500\n",
            "Epoch:  7 |step:  999 | train loss: 374.6203 | test accuracy: 0.6875\n",
            "Epoch:  7 |step:  1999 | train loss: 377.2176 | test accuracy: 0.8125\n",
            "Epoch:  7 |step:  2999 | train loss: 382.4651 | test accuracy: 0.5938\n",
            "Epoch:  7 |step:  3999 | train loss: 380.6612 | test accuracy: 0.7812\n",
            "Epoch:  7 |step:  4999 | train loss: 374.0976 | test accuracy: 0.7812\n",
            "Epoch:  7 |step:  5999 | train loss: 377.3685 | test accuracy: 0.6562\n",
            "Epoch:  7 |step:  6999 | train loss: 379.8661 | test accuracy: 0.7500\n",
            "Epoch:  7 |step:  7999 | train loss: 378.5293 | test accuracy: 0.7500\n",
            "Epoch:  7 |step:  8999 | train loss: 376.2005 | test accuracy: 0.8438\n",
            "Epoch:  8 |step:  999 | train loss: 371.3003 | test accuracy: 0.7188\n",
            "Epoch:  8 |step:  1999 | train loss: 368.8329 | test accuracy: 0.7812\n",
            "Epoch:  8 |step:  2999 | train loss: 375.6608 | test accuracy: 0.8438\n",
            "Epoch:  8 |step:  3999 | train loss: 374.3699 | test accuracy: 0.9062\n",
            "Epoch:  8 |step:  4999 | train loss: 366.4823 | test accuracy: 0.8438\n",
            "Epoch:  8 |step:  5999 | train loss: 378.9413 | test accuracy: 0.8750\n",
            "Epoch:  8 |step:  6999 | train loss: 378.9763 | test accuracy: 0.7500\n",
            "Epoch:  8 |step:  7999 | train loss: 381.2623 | test accuracy: 0.7812\n",
            "Epoch:  8 |step:  8999 | train loss: 382.5802 | test accuracy: 0.7188\n",
            "Epoch:  9 |step:  999 | train loss: 376.3433 | test accuracy: 0.8438\n",
            "Epoch:  9 |step:  1999 | train loss: 371.5397 | test accuracy: 0.6875\n",
            "Epoch:  9 |step:  2999 | train loss: 372.5114 | test accuracy: 0.8438\n",
            "Epoch:  9 |step:  3999 | train loss: 372.4224 | test accuracy: 0.7500\n",
            "Epoch:  9 |step:  4999 | train loss: 371.9762 | test accuracy: 0.7500\n",
            "Epoch:  9 |step:  5999 | train loss: 377.4908 | test accuracy: 0.7500\n",
            "Epoch:  9 |step:  6999 | train loss: 373.3634 | test accuracy: 0.8438\n",
            "Epoch:  9 |step:  7999 | train loss: 370.5095 | test accuracy: 0.6875\n",
            "Epoch:  9 |step:  8999 | train loss: 369.7026 | test accuracy: 0.5938\n",
            "Epoch:  10 |step:  999 | train loss: 369.2032 | test accuracy: 0.8125\n",
            "Epoch:  10 |step:  1999 | train loss: 381.1437 | test accuracy: 0.8125\n",
            "Epoch:  10 |step:  2999 | train loss: 367.5086 | test accuracy: 0.7188\n",
            "Epoch:  10 |step:  3999 | train loss: 375.5604 | test accuracy: 0.7812\n",
            "Epoch:  10 |step:  4999 | train loss: 373.2069 | test accuracy: 0.7500\n",
            "Epoch:  10 |step:  5999 | train loss: 367.5532 | test accuracy: 0.7812\n",
            "Epoch:  10 |step:  6999 | train loss: 369.7110 | test accuracy: 0.7188\n",
            "Epoch:  10 |step:  7999 | train loss: 371.5731 | test accuracy: 0.8125\n",
            "Epoch:  10 |step:  8999 | train loss: 367.0547 | test accuracy: 0.6875\n"
          ]
        }
      ]
    },
    {
      "cell_type": "code",
      "source": [
        "test_loader2 = DataLoader(\n",
        "    test_dataset,\n",
        "    batch_size=26032,\n",
        "    shuffle=False,\n",
        ")"
      ],
      "metadata": {
        "id": "5G7J9Fqq4ytQ"
      },
      "execution_count": null,
      "outputs": []
    },
    {
      "cell_type": "code",
      "source": [
        "for image, labels in test_loader2:\n",
        "  pred_y = torch.max(model(image)[0], 1)[1].data.squeeze().numpy()\n",
        "  accuracy = float((pred_y == labels.data.numpy()).astype(int).sum()) / float(labels.size(0))\n",
        "print('The test set one-accuracy is:', accuracy)"
      ],
      "metadata": {
        "colab": {
          "base_uri": "https://localhost:8080/"
        },
        "id": "j9Zx0Ao46Wsn",
        "outputId": "2c574ecd-5c44-4be4-afb7-6d6719da29d5"
      },
      "execution_count": null,
      "outputs": [
        {
          "output_type": "stream",
          "name": "stdout",
          "text": [
            "The test set one-accuracy is: 0.7858789182544561\n"
          ]
        }
      ]
    },
    {
      "cell_type": "code",
      "source": [
        "for image, labels in test_loader2:\n",
        "  pred_y = torch.max(model(image)[0], 1)[1].data.squeeze().numpy()"
      ],
      "metadata": {
        "id": "yblhTpL_-woT"
      },
      "execution_count": null,
      "outputs": []
    },
    {
      "cell_type": "code",
      "source": [
        "file = open(\"/content/drive/MyDrive/cf/test_labels.txt\", \"r\")\n",
        "stringList = file.readlines()\n",
        "extra_data = []\n",
        "for i in range(len(stringList)):\n",
        "  extra_data.append(len(stringList[i])-1)"
      ],
      "metadata": {
        "id": "ruiTt1r7DuHE"
      },
      "execution_count": null,
      "outputs": []
    },
    {
      "cell_type": "code",
      "source": [
        "print('The test set true-accuracy is:',get_accuracy(pred_y,y_test,extra_data))"
      ],
      "metadata": {
        "colab": {
          "base_uri": "https://localhost:8080/"
        },
        "id": "1VN21PQS-jxS",
        "outputId": "4a8e6c15-83b3-4e28-b572-565c12cb002f"
      },
      "execution_count": null,
      "outputs": [
        {
          "output_type": "stream",
          "name": "stdout",
          "text": [
            "The test set true-accuracy is: 0.6731711049892868\n"
          ]
        }
      ]
    },
    {
      "cell_type": "code",
      "source": [
        "images, labels = test_dataiter.next()\n",
        "\n",
        "def imshow(img):\n",
        "    img = img / 2 + 0.5     # unnormalize\n",
        "    npimg = img.numpy()\n",
        "    plt.imshow(np.transpose(npimg, (1, 2, 0)))\n",
        "    plt.show()\n",
        "    \n",
        "# print images\n",
        "imshow(torchvision.utils.make_grid(images))\n",
        "print('GroundTruth: ', ' '.join('%5s' % labels[j] for j in range(32)))"
      ],
      "metadata": {
        "id": "osoKuoPBqgLW",
        "colab": {
          "base_uri": "https://localhost:8080/",
          "height": 258
        },
        "outputId": "8819f721-7bb2-4788-9efe-9984dcd6a04c"
      },
      "execution_count": null,
      "outputs": [
        {
          "output_type": "display_data",
          "data": {
            "text/plain": [
              "<Figure size 432x288 with 1 Axes>"
            ],
            "image/png": "[encoded data removed]"
          },
          "metadata": {
            "needs_background": "light"
          }
        },
        {
          "output_type": "stream",
          "name": "stdout",
          "text": [
            "GroundTruth:  tensor(2) tensor(2) tensor(2) tensor(4) tensor(9) tensor(3) tensor(1) tensor(2) tensor(8) tensor(0) tensor(7) tensor(6) tensor(8) tensor(0) tensor(7) tensor(2) tensor(1) tensor(3) tensor(1) tensor(4) tensor(7) tensor(4) tensor(1) tensor(5) tensor(1) tensor(0) tensor(7) tensor(2) tensor(0) tensor(1) tensor(7) tensor(5)\n"
          ]
        }
      ]
    },
    {
      "cell_type": "code",
      "source": [
        ""
      ],
      "metadata": {
        "id": "TTGPj2T8tGV_"
      },
      "execution_count": null,
      "outputs": []
    },
    {
      "cell_type": "code",
      "source": [
        ""
      ],
      "metadata": {
        "id": "1AdaZXA1tIqE"
      },
      "execution_count": null,
      "outputs": []
    },
    {
      "cell_type": "code",
      "source": [
        "test_output, last_layer = model(images)\n",
        "pred_y = torch.max(test_output, 1)[1].data.squeeze().numpy()\n",
        "\n",
        "print('Predicted: ', ' '.join('%5s' % pred_y[j]\n",
        "                              for j in range(32)))"
      ],
      "metadata": {
        "id": "jZDcG9ePrA6y",
        "colab": {
          "base_uri": "https://localhost:8080/"
        },
        "outputId": "5d454e7a-91bd-4f9f-d37a-e4f3fc4b8f46"
      },
      "execution_count": null,
      "outputs": [
        {
          "output_type": "stream",
          "name": "stdout",
          "text": [
            "Predicted:      2     2     2     4     9     1     1     2     8     0     7     6     8     7     7     2     1     3     4     4     8     4     1     5     6     2     7     2     0     1     7     5\n"
          ]
        }
      ]
    }
  ]
}