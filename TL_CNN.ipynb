{
  "nbformat": 4,
  "nbformat_minor": 0,
  "metadata": {
    "colab": {
      "name": "TL_CNN",
      "provenance": [],
      "collapsed_sections": [],
      "machine_shape": "hm",
      "mount_file_id": "1y0ckEAht6S1TnohubRtrzSG9PAoKj-Py",
      "authorship_tag": "ABX9TyMs8BFqnM72DxdZVL8Zf3D5"
    },
    "kernelspec": {
      "name": "python3",
      "display_name": "Python 3"
    },
    "language_info": {
      "name": "python"
    },
    "accelerator": "GPU"
  },
  "cells": [
    {
      "cell_type": "markdown",
      "source": [
        "**Pre-processing done**"
      ],
      "metadata": {
        "id": "10eqq9VIF0OL"
      }
    },
    {
      "cell_type": "markdown",
      "source": [
        "**Transfer learning begin:**"
      ],
      "metadata": {
        "id": "vvfaPVheF5Ho"
      }
    },
    {
      "cell_type": "code",
      "source": [
        "import os\n",
        "\n",
        "# third-party library\n",
        "import torch\n",
        "import torch.nn as nn\n",
        "import torch.utils.data as Data\n",
        "import torchvision\n",
        "import matplotlib.pyplot as plt\n",
        "\n",
        "# torch.manual_seed(1)    # reproducible\n",
        "\n",
        "# Hyper Parameters\n",
        "EPOCH = 2             # train the training data n times, to save time, we just train 1 epoch\n",
        "BATCH_SIZE = 50\n",
        "LR = 0.001              # learning rate\n",
        "DOWNLOAD_MNIST = False"
      ],
      "metadata": {
        "id": "3T5xdV-5V7O5"
      },
      "execution_count": null,
      "outputs": []
    },
    {
      "cell_type": "code",
      "source": [
        "from collections import Counter\n",
        "import numpy as np\n",
        "\n",
        "\n",
        "# actual accuracy\n",
        "def get_accuracy(p_data, t_data, extra_data):\n",
        "    sc = 0\n",
        "    if extra_data is None:\n",
        "        for i in range(len(p_data)):\n",
        "            if p_data[i] == t_data[i]:\n",
        "                sc += 1\n",
        "\n",
        "        return sc / len(p_data)\n",
        "    else:\n",
        "        counter = -1\n",
        "        for i in range(len(extra_data)):\n",
        "            is_good = True\n",
        "            for j in range(extra_data[i]):\n",
        "                counter += 1\n",
        "                is_good &= p_data[counter] == t_data[counter]\n",
        "            if is_good:\n",
        "                sc += 1\n",
        "        return sc / len(extra_data)"
      ],
      "metadata": {
        "id": "0TOKZvX43iYg"
      },
      "execution_count": null,
      "outputs": []
    },
    {
      "cell_type": "markdown",
      "source": [
        "CNN\n",
        "\n"
      ],
      "metadata": {
        "id": "JB027YCPw_mH"
      }
    },
    {
      "cell_type": "code",
      "source": [
        "# Mnist digits dataset\n",
        "if not(os.path.exists('./mnist/')) or not os.listdir('./mnist/'):\n",
        "    # not mnist dir or mnist is empyt dir\n",
        "    DOWNLOAD_MNIST = True\n",
        "\n",
        "train_data = torchvision.datasets.MNIST(\n",
        "    root='./mnist/',\n",
        "    train=True,                                     # this is training data\n",
        "    transform=torchvision.transforms.ToTensor(),    # Converts a PIL.Image or numpy.ndarray to\n",
        "                                                    # torch.FloatTensor of shape (C x H x W) and normalize in the range [0.0, 1.0]\n",
        "    download=DOWNLOAD_MNIST,\n",
        ")\n",
        "\n",
        "# plot one example\n",
        "# print(train_data.train_data.size())                 # (60000, 28, 28)\n",
        "# print(train_data.train_labels.size())               # (60000)\n",
        "#for i in range(5):\n",
        "    #plt.imshow(train_data.train_data[i].numpy(), cmap='gray')\n",
        "    #plt.title('%i' % train_data.train_labels[i])\n",
        "    #plt.show()\n",
        "\n",
        "# Data Loader for easy mini-batch return in training, the image batch shape will be (50, 1, 28, 28)\n",
        "train_loader = Data.DataLoader(dataset=train_data, batch_size=BATCH_SIZE, shuffle=True)\n",
        "\n",
        "# pick 2000 samples to speed up testing\n",
        "test_data = torchvision.datasets.MNIST(root='./mnist/', train=False)\n",
        "test_x = torch.unsqueeze(test_data.test_data, dim=1).type(torch.FloatTensor)[:2000]/255.   # shape from (2000, 28, 28) to (2000, 1, 28, 28), value in range(0,1)\n",
        "test_y = test_data.test_labels[:2000]"
      ],
      "metadata": {
        "colab": {
          "base_uri": "https://localhost:8080/"
        },
        "id": "j3Rss5HhpzUX",
        "outputId": "66373c6d-92e8-46cd-cef5-a6ec5152a8a2"
      },
      "execution_count": null,
      "outputs": [
        {
          "output_type": "stream",
          "name": "stderr",
          "text": [
            "/usr/local/lib/python3.7/dist-packages/torchvision/datasets/mnist.py:80: UserWarning: test_data has been renamed data\n",
            "  warnings.warn(\"test_data has been renamed data\")\n",
            "/usr/local/lib/python3.7/dist-packages/torchvision/datasets/mnist.py:70: UserWarning: test_labels has been renamed targets\n",
            "  warnings.warn(\"test_labels has been renamed targets\")\n"
          ]
        }
      ]
    },
    {
      "cell_type": "code",
      "source": [
        "class CNN(nn.Module):\n",
        "    def __init__(self):\n",
        "        super(CNN, self).__init__()\n",
        "        self.conv1 = nn.Sequential(         # input shape (1, 28, 28)\n",
        "            nn.Conv2d(\n",
        "                in_channels=1,              # input height\n",
        "                out_channels=16,            # n_filters\n",
        "                kernel_size=5,              # filter size\n",
        "                stride=1,                   # filter movement/step\n",
        "                padding=2,                  # if want same width and length of this image after con2d, padding=(kernel_size-1)/2 if stride=1\n",
        "            ),                              # output shape (16, 28, 28)\n",
        "            nn.ReLU(),                      # activation\n",
        "            nn.MaxPool2d(kernel_size=2),    # choose max value in 2x2 area, output shape (16, 14, 14)\n",
        "        )\n",
        "        self.conv2 = nn.Sequential(         # input shape (16, 14, 14)\n",
        "            nn.Conv2d(16, 32, 5, 1, 2),     # output shape (32, 14, 14)\n",
        "            nn.ReLU(),                      # activation\n",
        "            nn.MaxPool2d(2),                # output shape (32, 7, 7)\n",
        "        )\n",
        "        self.out = nn.Linear(32 * 7 * 7, 10)   # fully connected layer, output 10 classes\n",
        "\n",
        "    def forward(self, x):\n",
        "        x = self.conv1(x)\n",
        "        x = self.conv2(x)\n",
        "        x = x.view(x.size(0), -1)           # flatten the output of conv2 to (batch_size, 32 * 7 * 7)\n",
        "        output = self.out(x)\n",
        "        return output, x    # return x for visualization"
      ],
      "metadata": {
        "id": "GkBmVn-6ZbEl"
      },
      "execution_count": null,
      "outputs": []
    },
    {
      "cell_type": "code",
      "source": [
        "cnn = CNN()\n",
        "print(cnn)  # net architecture\n",
        "\n",
        "optimizer = torch.optim.Adam(cnn.parameters(), lr=LR)   # optimize all cnn parameters\n",
        "loss_func = nn.CrossEntropyLoss()                       # the target label is not one-hotted\n",
        "\n",
        "\n",
        "for epoch in range(2):\n",
        "    for step, (b_x, b_y) in enumerate(train_loader):   # gives batch data, normalize x when iterate train_loader\n",
        "\n",
        "        output = cnn(b_x)[0]               # cnn output\n",
        "        loss = loss_func(output, b_y)   # cross entropy loss\n",
        "        optimizer.zero_grad()           # clear gradients for this training step\n",
        "        loss.backward()                 # backpropagation, compute gradients\n",
        "        optimizer.step()                # apply gradients\n",
        "\n",
        "        if step % 50 == 0:\n",
        "            test_output, last_layer = cnn(test_x)\n",
        "            pred_y = torch.max(test_output, 1)[1].data.squeeze().numpy()\n",
        "            accuracy = float((pred_y == test_y.data.numpy()).astype(int).sum()) / float(test_y.size(0))\n",
        "            print('Epoch: ', epoch, '| train loss: %.4f' % loss.data.numpy(), '| test accuracy: %.4f' % accuracy)\n",
        "#             if HAS_SK:\n",
        "#                 # Visualization of trained flatten layer (T-SNE)\n",
        "#                 tsne = TSNE(perplexity=30, n_components=2, init='pca', n_iter=5000)\n",
        "#                 plot_only = 500\n",
        "#                 low_dim_embs = tsne.fit_transform(last_layer.data.numpy()[:plot_only, :])\n",
        "#                 labels = test_y.numpy()[:plot_only]\n",
        "#                 plot_with_labels(low_dim_embs, labels)\n",
        "# plt.ioff()"
      ],
      "metadata": {
        "colab": {
          "base_uri": "https://localhost:8080/"
        },
        "id": "21xWYyjLZbG7",
        "outputId": "c8932158-9e5d-43e6-891a-446b23c1c234"
      },
      "execution_count": null,
      "outputs": [
        {
          "output_type": "stream",
          "name": "stdout",
          "text": [
            "CNN(\n",
            "  (conv1): Sequential(\n",
            "    (0): Conv2d(1, 16, kernel_size=(5, 5), stride=(1, 1), padding=(2, 2))\n",
            "    (1): ReLU()\n",
            "    (2): MaxPool2d(kernel_size=2, stride=2, padding=0, dilation=1, ceil_mode=False)\n",
            "  )\n",
            "  (conv2): Sequential(\n",
            "    (0): Conv2d(16, 32, kernel_size=(5, 5), stride=(1, 1), padding=(2, 2))\n",
            "    (1): ReLU()\n",
            "    (2): MaxPool2d(kernel_size=2, stride=2, padding=0, dilation=1, ceil_mode=False)\n",
            "  )\n",
            "  (out): Linear(in_features=1568, out_features=10, bias=True)\n",
            ")\n",
            "Epoch:  0 | train loss: 2.3094 | test accuracy: 0.1210\n",
            "Epoch:  0 | train loss: 0.5346 | test accuracy: 0.8265\n",
            "Epoch:  0 | train loss: 0.1984 | test accuracy: 0.9055\n",
            "Epoch:  0 | train loss: 0.1120 | test accuracy: 0.9320\n",
            "Epoch:  0 | train loss: 0.2275 | test accuracy: 0.9380\n",
            "Epoch:  0 | train loss: 0.4501 | test accuracy: 0.9470\n",
            "Epoch:  0 | train loss: 0.1188 | test accuracy: 0.9550\n",
            "Epoch:  0 | train loss: 0.1182 | test accuracy: 0.9565\n",
            "Epoch:  0 | train loss: 0.1116 | test accuracy: 0.9545\n",
            "Epoch:  0 | train loss: 0.0413 | test accuracy: 0.9605\n",
            "Epoch:  0 | train loss: 0.1387 | test accuracy: 0.9690\n",
            "Epoch:  0 | train loss: 0.0567 | test accuracy: 0.9695\n",
            "Epoch:  0 | train loss: 0.0662 | test accuracy: 0.9685\n",
            "Epoch:  0 | train loss: 0.1077 | test accuracy: 0.9665\n",
            "Epoch:  0 | train loss: 0.1916 | test accuracy: 0.9730\n",
            "Epoch:  0 | train loss: 0.0539 | test accuracy: 0.9695\n",
            "Epoch:  0 | train loss: 0.0646 | test accuracy: 0.9700\n",
            "Epoch:  0 | train loss: 0.0073 | test accuracy: 0.9755\n",
            "Epoch:  0 | train loss: 0.0200 | test accuracy: 0.9755\n",
            "Epoch:  0 | train loss: 0.0054 | test accuracy: 0.9750\n",
            "Epoch:  0 | train loss: 0.0725 | test accuracy: 0.9800\n",
            "Epoch:  0 | train loss: 0.0412 | test accuracy: 0.9745\n",
            "Epoch:  0 | train loss: 0.1173 | test accuracy: 0.9755\n",
            "Epoch:  0 | train loss: 0.0804 | test accuracy: 0.9730\n",
            "Epoch:  1 | train loss: 0.0090 | test accuracy: 0.9765\n",
            "Epoch:  1 | train loss: 0.0082 | test accuracy: 0.9830\n",
            "Epoch:  1 | train loss: 0.0798 | test accuracy: 0.9830\n",
            "Epoch:  1 | train loss: 0.0708 | test accuracy: 0.9795\n",
            "Epoch:  1 | train loss: 0.0243 | test accuracy: 0.9780\n",
            "Epoch:  1 | train loss: 0.0343 | test accuracy: 0.9800\n",
            "Epoch:  1 | train loss: 0.0127 | test accuracy: 0.9780\n",
            "Epoch:  1 | train loss: 0.0237 | test accuracy: 0.9785\n",
            "Epoch:  1 | train loss: 0.2169 | test accuracy: 0.9795\n",
            "Epoch:  1 | train loss: 0.0077 | test accuracy: 0.9795\n",
            "Epoch:  1 | train loss: 0.0894 | test accuracy: 0.9765\n",
            "Epoch:  1 | train loss: 0.1266 | test accuracy: 0.9825\n",
            "Epoch:  1 | train loss: 0.0243 | test accuracy: 0.9860\n",
            "Epoch:  1 | train loss: 0.0148 | test accuracy: 0.9790\n",
            "Epoch:  1 | train loss: 0.0308 | test accuracy: 0.9820\n",
            "Epoch:  1 | train loss: 0.0495 | test accuracy: 0.9835\n",
            "Epoch:  1 | train loss: 0.0059 | test accuracy: 0.9840\n",
            "Epoch:  1 | train loss: 0.0668 | test accuracy: 0.9855\n",
            "Epoch:  1 | train loss: 0.0067 | test accuracy: 0.9855\n",
            "Epoch:  1 | train loss: 0.0552 | test accuracy: 0.9865\n",
            "Epoch:  1 | train loss: 0.0245 | test accuracy: 0.9820\n",
            "Epoch:  1 | train loss: 0.1498 | test accuracy: 0.9790\n",
            "Epoch:  1 | train loss: 0.1002 | test accuracy: 0.9800\n",
            "Epoch:  1 | train loss: 0.0078 | test accuracy: 0.9855\n"
          ]
        }
      ]
    },
    {
      "cell_type": "code",
      "source": [
        "# print 10 predictions from test data\n",
        "#test_output, _ = cnn(test_x[:30])\n",
        "#pred_y = torch.max(test_output, 1)[1].data.numpy().squeeze()\n",
        "#print(pred_y, 'prediction number')\n",
        "#print(test_y[:30].numpy(), 'real number')"
      ],
      "metadata": {
        "id": "gcqs_c7AZbJS"
      },
      "execution_count": null,
      "outputs": []
    },
    {
      "cell_type": "code",
      "source": [
        "torch.save(cnn, \"mnist_model.pth\")"
      ],
      "metadata": {
        "id": "Z66KVQD_ZbLk"
      },
      "execution_count": null,
      "outputs": []
    },
    {
      "cell_type": "code",
      "source": [
        "del cnn"
      ],
      "metadata": {
        "id": "SNH-GEPBZbOI"
      },
      "execution_count": null,
      "outputs": []
    },
    {
      "cell_type": "code",
      "source": [
        "import os\n",
        "\n",
        "# third-party library\n",
        "import torch\n",
        "import torch.nn as nn\n",
        "import torch.utils.data as Data\n",
        "import torchvision\n",
        "import matplotlib.pyplot as plt\n",
        "\n",
        "# torch.manual_seed(1)    # reproducible\n",
        "\n",
        "# Hyper Parameters\n",
        "EPOCH = 10             # train the training data n times, to save time, we just train 1 epoch\n",
        "BATCH_SIZE = 64\n",
        "LR = 0.001              # learning rate"
      ],
      "metadata": {
        "id": "JPEGJzOyZbQc"
      },
      "execution_count": null,
      "outputs": []
    },
    {
      "cell_type": "code",
      "source": [
        "model = torch.load(\"mnist_model.pth\") \n"
      ],
      "metadata": {
        "id": "_tScnhduZbSs"
      },
      "execution_count": null,
      "outputs": []
    },
    {
      "cell_type": "code",
      "source": [
        "print(model)"
      ],
      "metadata": {
        "colab": {
          "base_uri": "https://localhost:8080/"
        },
        "id": "WUl1GlEzZbU3",
        "outputId": "843a4bbc-2e50-4e6a-a188-1a9efd62de6e"
      },
      "execution_count": null,
      "outputs": [
        {
          "output_type": "stream",
          "name": "stdout",
          "text": [
            "CNN(\n",
            "  (conv1): Sequential(\n",
            "    (0): Conv2d(1, 16, kernel_size=(5, 5), stride=(1, 1), padding=(2, 2))\n",
            "    (1): ReLU()\n",
            "    (2): MaxPool2d(kernel_size=2, stride=2, padding=0, dilation=1, ceil_mode=False)\n",
            "  )\n",
            "  (conv2): Sequential(\n",
            "    (0): Conv2d(16, 32, kernel_size=(5, 5), stride=(1, 1), padding=(2, 2))\n",
            "    (1): ReLU()\n",
            "    (2): MaxPool2d(kernel_size=2, stride=2, padding=0, dilation=1, ceil_mode=False)\n",
            "  )\n",
            "  (out): Linear(in_features=1568, out_features=10, bias=True)\n",
            ")\n"
          ]
        }
      ]
    },
    {
      "cell_type": "code",
      "source": [
        "for param in model.conv1.parameters():             # freeze the parameters\n",
        "    param.requires_grad = False\n",
        "    \n",
        "for param in model.conv2.parameters():\n",
        "    param.requires_grad = False"
      ],
      "metadata": {
        "id": "bj1wVhyDqfyk"
      },
      "execution_count": null,
      "outputs": []
    },
    {
      "cell_type": "code",
      "source": [
        "import os\n",
        "import time\n",
        "import h5py\n",
        "import numpy as np"
      ],
      "metadata": {
        "id": "yQk3Zj9tqf06"
      },
      "execution_count": null,
      "outputs": []
    },
    {
      "cell_type": "code",
      "source": [
        "# Open the file as readonly\n",
        "h5f = h5py.File('/content/drive/MyDrive/Resizedata.h5', 'r')\n",
        "\n",
        "# Load the training, test and validation set\n",
        "x_train = h5f['x_train'][:]\n",
        "y_train = h5f['y_train'][:]\n",
        "x_test = h5f['x_test'][:]\n",
        "y_test = h5f['y_test'][:]\n",
        "\n",
        "# Close this file\n",
        "h5f.close()\n",
        "\n",
        "print('Training set', x_train.shape, y_train.shape)\n",
        "print('Test set', x_test.shape, y_test.shape)"
      ],
      "metadata": {
        "colab": {
          "base_uri": "https://localhost:8080/"
        },
        "id": "mnZy5UEtruCh",
        "outputId": "b9e59ca1-6888-4b46-c4da-037f124130f8"
      },
      "execution_count": null,
      "outputs": [
        {
          "output_type": "stream",
          "name": "stdout",
          "text": [
            "Training set (73257, 28, 28) (73257,)\n",
            "Test set (26032, 28, 28) (26032,)\n"
          ]
        }
      ]
    },
    {
      "cell_type": "code",
      "source": [
        "plt.imshow(x_test[4],cmap='gray')"
      ],
      "metadata": {
        "colab": {
          "base_uri": "https://localhost:8080/",
          "height": 283
        },
        "id": "qJnhox-moyvH",
        "outputId": "41457cc6-d64d-412b-ec73-a92942e226e2"
      },
      "execution_count": null,
      "outputs": [
        {
          "output_type": "execute_result",
          "data": {
            "text/plain": [
              "<matplotlib.image.AxesImage at 0x7f2732c06150>"
            ]
          },
          "metadata": {},
          "execution_count": 18
        },
        {
          "output_type": "display_data",
          "data": {
            "text/plain": [
              "<Figure size 432x288 with 1 Axes>"
            ],
            "image/png": "[encoded data removed]"
          },
          "metadata": {
            "needs_background": "light"
          }
        }
      ]
    },
    {
      "cell_type": "code",
      "source": [
        "y_test[3]"
      ],
      "metadata": {
        "colab": {
          "base_uri": "https://localhost:8080/"
        },
        "id": "OYFUoWAOo0mU",
        "outputId": "1f303d9b-7e4f-4ebe-d897-d469e1ab38a5"
      },
      "execution_count": null,
      "outputs": [
        {
          "output_type": "execute_result",
          "data": {
            "text/plain": [
              "0"
            ]
          },
          "metadata": {},
          "execution_count": 19
        }
      ]
    },
    {
      "cell_type": "code",
      "source": [
        "x_train = x_train.reshape(len(x_train),1,28,28)\n",
        "x_test = x_test.reshape(len(x_test),1,28,28)\n",
        "x_train = x_train/255\n",
        "x_test = x_test/255\n",
        "print(x_train.shape)\n",
        "print(x_test.shape)"
      ],
      "metadata": {
        "id": "Lq5NxsmTs3b9",
        "colab": {
          "base_uri": "https://localhost:8080/"
        },
        "outputId": "da10d57c-0e2a-492b-8756-6240d7170fba"
      },
      "execution_count": null,
      "outputs": [
        {
          "output_type": "stream",
          "name": "stdout",
          "text": [
            "(73257, 1, 28, 28)\n",
            "(26032, 1, 28, 28)\n"
          ]
        }
      ]
    },
    {
      "cell_type": "code",
      "source": [
        "from torch.utils.data import Dataset, DataLoader\n",
        "\n",
        "class MyDataset(Dataset):\n",
        "    def __init__(self, data, target, transform=None):\n",
        "        self.data = torch.from_numpy(data).float()\n",
        "        self.target = torch.from_numpy(target).long()\n",
        "        self.transform = transform\n",
        "        \n",
        "    def __getitem__(self, index):\n",
        "        x = self.data[index]\n",
        "        y = self.target[index]\n",
        "        \n",
        "        if self.transform:\n",
        "            x = self.transform(x)\n",
        "        \n",
        "        return x, y\n",
        "    \n",
        "    def __len__(self):\n",
        "        return len(self.data)\n"
      ],
      "metadata": {
        "id": "D1Cn-2sqqf7q"
      },
      "execution_count": null,
      "outputs": []
    },
    {
      "cell_type": "code",
      "source": [
        "train_dataset = MyDataset(x_train, y_train)\n",
        "train_loader = DataLoader(\n",
        "    train_dataset,\n",
        "    batch_size=64,\n",
        "    shuffle=True,\n",
        ")"
      ],
      "metadata": {
        "id": "T5uy3Mlgqf98"
      },
      "execution_count": null,
      "outputs": []
    },
    {
      "cell_type": "code",
      "source": [
        "test_dataset = MyDataset(x_test, y_test)\n",
        "test_loader = DataLoader(\n",
        "    test_dataset,\n",
        "    batch_size=32,\n",
        "    shuffle=True,\n",
        ")\n",
        "test_dataiter = iter(test_loader)"
      ],
      "metadata": {
        "id": "eQ11ReNnqgAG"
      },
      "execution_count": null,
      "outputs": []
    },
    {
      "cell_type": "code",
      "source": [
        "torch.cuda.is_available()\n",
        "torch.cuda.device_count()"
      ],
      "metadata": {
        "colab": {
          "base_uri": "https://localhost:8080/"
        },
        "id": "_0tIjd6zqgEt",
        "outputId": "32b2a67b-6980-45f0-a2a1-669c03da8233"
      },
      "execution_count": null,
      "outputs": [
        {
          "output_type": "execute_result",
          "data": {
            "text/plain": [
              "1"
            ]
          },
          "metadata": {},
          "execution_count": 24
        }
      ]
    },
    {
      "cell_type": "code",
      "source": [
        "optimizer = torch.optim.Adam(model.out.parameters(), lr=LR)   # optimize all cnn parameters\n",
        "loss_func = nn.CrossEntropyLoss()       "
      ],
      "metadata": {
        "id": "SddicVNfqgG-"
      },
      "execution_count": null,
      "outputs": []
    },
    {
      "cell_type": "code",
      "source": [
        "for epoch in range(EPOCH):\n",
        "    \n",
        "    running_loss = 0.0\n",
        "    for step, (b_x, b_y) in enumerate(train_loader):   # gives batch data, normalize x when iterate train_loader\n",
        "\n",
        "        output = model(b_x)[0]            # cnn output\n",
        "        loss = loss_func(output, b_y)   # cross entropy loss\n",
        "        optimizer.zero_grad()           # clear gradients for this training step\n",
        "        loss.backward()                 # backpropagation, compute gradients\n",
        "        optimizer.step()                # apply gradients\n",
        "        running_loss += loss.item()\n",
        "        \n",
        "        if step % 1000 == 999:\n",
        "            images, labels = test_dataiter.next()\n",
        "            test_output, last_layer = model(images)\n",
        "            pred_y = torch.max(test_output, 1)[1].data.squeeze().numpy()\n",
        "            accuracy = float((pred_y == labels.data.numpy()).astype(int).sum()) / float(labels.size(0))\n",
        "            print('Epoch: ', epoch+1, '|step: ',step, '| train loss: %.4f' % running_loss, '| test accuracy: %.4f' % accuracy)\n",
        "            running_loss = 0.0"
      ],
      "metadata": {
        "colab": {
          "base_uri": "https://localhost:8080/"
        },
        "id": "1IpTUk9kqgJA",
        "outputId": "0b3dbe3b-e93f-49b9-e5a6-3337907ace82"
      },
      "execution_count": null,
      "outputs": [
        {
          "output_type": "stream",
          "name": "stdout",
          "text": [
            "Epoch:  1 |step:  999 | train loss: 1153.1336 | test accuracy: 0.7188\n",
            "Epoch:  2 |step:  999 | train loss: 849.1241 | test accuracy: 0.8125\n",
            "Epoch:  3 |step:  999 | train loss: 774.8331 | test accuracy: 0.6875\n",
            "Epoch:  4 |step:  999 | train loss: 726.7392 | test accuracy: 0.7500\n",
            "Epoch:  5 |step:  999 | train loss: 700.5995 | test accuracy: 0.8438\n",
            "Epoch:  6 |step:  999 | train loss: 683.0583 | test accuracy: 0.7500\n",
            "Epoch:  7 |step:  999 | train loss: 662.2765 | test accuracy: 0.8438\n",
            "Epoch:  8 |step:  999 | train loss: 647.7889 | test accuracy: 0.8750\n",
            "Epoch:  9 |step:  999 | train loss: 640.3818 | test accuracy: 0.8438\n",
            "Epoch:  10 |step:  999 | train loss: 629.9416 | test accuracy: 0.7500\n"
          ]
        }
      ]
    },
    {
      "cell_type": "code",
      "source": [
        "test_loader2 = DataLoader(\n",
        "    test_dataset,\n",
        "    batch_size=26032,\n",
        "    shuffle=False,\n",
        ")"
      ],
      "metadata": {
        "id": "5G7J9Fqq4ytQ"
      },
      "execution_count": null,
      "outputs": []
    },
    {
      "cell_type": "code",
      "source": [
        "for image, labels in test_loader2:\n",
        "  pred_y = torch.max(model(image)[0], 1)[1].data.squeeze().numpy()\n",
        "  accuracy = float((pred_y == labels.data.numpy()).astype(int).sum()) / float(labels.size(0))\n",
        "print('The test set one-accuracy is:', accuracy)"
      ],
      "metadata": {
        "colab": {
          "base_uri": "https://localhost:8080/"
        },
        "id": "j9Zx0Ao46Wsn",
        "outputId": "dbaa1aea-f022-40bb-ce02-2b729d5a6e52"
      },
      "execution_count": null,
      "outputs": [
        {
          "output_type": "stream",
          "name": "stdout",
          "text": [
            "The test set one-accuracy is: 0.7786954517516902\n"
          ]
        }
      ]
    },
    {
      "cell_type": "code",
      "source": [
        "for image, labels in test_loader2:\n",
        "  pred_y = torch.max(model(image)[0], 1)[1].data.squeeze().numpy()"
      ],
      "metadata": {
        "id": "yblhTpL_-woT"
      },
      "execution_count": null,
      "outputs": []
    },
    {
      "cell_type": "code",
      "source": [
        "file = open(\"/content/drive/MyDrive/cf/test_labels.txt\", \"r\")\n",
        "stringList = file.readlines()\n",
        "extra_data = []\n",
        "for i in range(len(stringList)):\n",
        "  extra_data.append(len(stringList[i])-1)"
      ],
      "metadata": {
        "id": "ruiTt1r7DuHE"
      },
      "execution_count": null,
      "outputs": []
    },
    {
      "cell_type": "code",
      "source": [
        "print('The test set true-accuracy is:',get_accuracy(pred_y,y_test,extra_data))"
      ],
      "metadata": {
        "colab": {
          "base_uri": "https://localhost:8080/"
        },
        "id": "1VN21PQS-jxS",
        "outputId": "df47a587-55d1-4177-e1a2-7d42872d0a9d"
      },
      "execution_count": null,
      "outputs": [
        {
          "output_type": "stream",
          "name": "stdout",
          "text": [
            "The test set true-accuracy is: 0.653887358432813\n"
          ]
        }
      ]
    },
    {
      "cell_type": "code",
      "source": [
        "images, labels = test_dataiter.next()\n",
        "\n",
        "def imshow(img):\n",
        "    img = img / 2 + 0.5     # unnormalize\n",
        "    npimg = img.numpy()\n",
        "    plt.imshow(np.transpose(npimg, (1, 2, 0)))\n",
        "    plt.show()\n",
        "    \n",
        "# print images\n",
        "imshow(torchvision.utils.make_grid(images))\n",
        "print('GroundTruth: ', ' '.join('%5s' % labels[j] for j in range(32)))"
      ],
      "metadata": {
        "id": "osoKuoPBqgLW",
        "colab": {
          "base_uri": "https://localhost:8080/",
          "height": 258
        },
        "outputId": "c43f0c7e-b87e-4a7c-a2ff-f540dbb5000f"
      },
      "execution_count": null,
      "outputs": [
        {
          "output_type": "display_data",
          "data": {
            "text/plain": [
              "<Figure size 432x288 with 1 Axes>"
            ],
            "image/png": "[encoded data removed]"
          },
          "metadata": {
            "needs_background": "light"
          }
        },
        {
          "output_type": "stream",
          "name": "stdout",
          "text": [
            "GroundTruth:  tensor(5) tensor(4) tensor(3) tensor(2) tensor(2) tensor(6) tensor(2) tensor(2) tensor(0) tensor(2) tensor(5) tensor(3) tensor(1) tensor(3) tensor(5) tensor(4) tensor(2) tensor(5) tensor(4) tensor(6) tensor(3) tensor(4) tensor(4) tensor(7) tensor(1) tensor(9) tensor(1) tensor(7) tensor(8) tensor(5) tensor(4) tensor(1)\n"
          ]
        }
      ]
    },
    {
      "cell_type": "code",
      "source": [
        "test_output, last_layer = model(images)\n",
        "pred_y = torch.max(test_output, 1)[1].data.squeeze().numpy()\n",
        "\n",
        "print('Predicted: ', ' '.join('%5s' % pred_y[j]\n",
        "                              for j in range(32)))"
      ],
      "metadata": {
        "id": "jZDcG9ePrA6y",
        "colab": {
          "base_uri": "https://localhost:8080/"
        },
        "outputId": "e96c75d2-c2d0-443e-89e1-e6f239bf3baa"
      },
      "execution_count": null,
      "outputs": [
        {
          "output_type": "stream",
          "name": "stdout",
          "text": [
            "Predicted:      5     9     3     2     2     9     2     2     0     2     5     3     1     3     5     4     2     5     4     6     6     4     4     7     1     9     1     7     8     5     4     1\n"
          ]
        }
      ]
    }
  ]
}